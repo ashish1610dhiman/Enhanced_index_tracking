{
 "cells": [
  {
   "cell_type": "code",
   "execution_count": 1,
   "metadata": {},
   "outputs": [
    {
     "name": "stdout",
     "output_type": "stream",
     "text": [
      "Thu Mar  4 23:33:26 IST 2021\r\n"
     ]
    }
   ],
   "source": [
    "!date"
   ]
  },
  {
   "cell_type": "code",
   "execution_count": 2,
   "metadata": {},
   "outputs": [],
   "source": [
    "import pandas as pd\n",
    "import numpy as np"
   ]
  },
  {
   "cell_type": "code",
   "execution_count": 3,
   "metadata": {},
   "outputs": [],
   "source": [
    "base_path=\"../eit_basic_dual_unreduced_experiments/\""
   ]
  },
  {
   "cell_type": "code",
   "execution_count": 4,
   "metadata": {},
   "outputs": [
    {
     "name": "stdout",
     "output_type": "stream",
     "text": [
      "\u001b[34mexp_1\u001b[m\u001b[m      \u001b[34mexp_1_npca\u001b[m\u001b[m \u001b[34mexp_2\u001b[m\u001b[m      \u001b[34mexp_2b\u001b[m\u001b[m     \u001b[34mexp_2e\u001b[m\u001b[m\r\n",
      "\u001b[34mexp_1_nmf\u001b[m\u001b[m  \u001b[34mexp_1basic\u001b[m\u001b[m \u001b[34mexp_2a\u001b[m\u001b[m     \u001b[34mexp_2d\u001b[m\u001b[m     \u001b[34mexp_3\u001b[m\u001b[m\r\n"
     ]
    }
   ],
   "source": [
    "!ls $base_path"
   ]
  },
  {
   "cell_type": "markdown",
   "metadata": {},
   "source": [
    "### Hypothesis 1:\n",
    " * 1.1 Reduced data provides better (return/risk) for lower values of k"
   ]
  },
  {
   "cell_type": "code",
   "execution_count": 5,
   "metadata": {},
   "outputs": [],
   "source": [
    "df_dict={}\n",
    "required_dirs=[\"exp_1\",\"exp_1_npca\",\"exp_1_nmf\"]\n",
    "for req_dir in required_dirs:\n",
    "    for key0 in [\"dual\",\"basic\"]:\n",
    "        df=pd.read_csv(base_path+req_dir+f\"/{key0}_results_exp_1_transposed.csv\")\n",
    "        key1=req_dir.split(\"_\")[-1]\n",
    "        key=(key0,key1)\n",
    "        df_dict[key]=df"
   ]
  },
  {
   "cell_type": "code",
   "execution_count": 6,
   "metadata": {},
   "outputs": [
    {
     "data": {
      "text/plain": [
       "[('dual', '1'),\n",
       " ('basic', '1'),\n",
       " ('dual', 'npca'),\n",
       " ('basic', 'npca'),\n",
       " ('dual', 'nmf'),\n",
       " ('basic', 'nmf')]"
      ]
     },
     "execution_count": 6,
     "metadata": {},
     "output_type": "execute_result"
    }
   ],
   "source": [
    "[key for key in df_dict.keys()]"
   ]
  },
  {
   "cell_type": "code",
   "execution_count": 7,
   "metadata": {},
   "outputs": [
    {
     "name": "stdout",
     "output_type": "stream",
     "text": [
      "[35, 32, 35, 32, 35, 32]\n"
     ]
    }
   ],
   "source": [
    "print (list(map(lambda x: len(x.columns),df_dict.values())))"
   ]
  },
  {
   "cell_type": "code",
   "execution_count": 8,
   "metadata": {},
   "outputs": [],
   "source": [
    "def add_return_pu_risk(df):\n",
    "    #For simple\n",
    "    df[\"return_pu_risk_sample\"]=(df[\"in_excess_return\"])/(df[\"in_tr_err\"].abs())\n",
    "    df[\"return_pu_risk_oot\"]=(df[\"out_excess_return\"])/(df[\"out_tr_err\"].abs())\n",
    "    #For transposed\n",
    "    df[\"return_pu_risk_sample_transpose\"]=(df[\"in_excess_return_transpose\"])/(df[\"in_tr_err_transpose\"].abs())\n",
    "    df[\"return_pu_risk_oot_transpose\"]=(df[\"out_excess_return_transpose\"])/(df[\"out_tr_err_transpose\"].abs())\n",
    "    #Risk\n",
    "    #df[\"return_pu_risk_oot\"]=df[\"out_excess_return\"]/df[\"out_tr_err\"].abs()\n",
    "    df[\"k/xii\"]=df[\"k\"]/(df[\"xii\"]*df[\"xii\"])\n",
    "    return (df)"
   ]
  },
  {
   "cell_type": "code",
   "execution_count": 9,
   "metadata": {},
   "outputs": [],
   "source": [
    "for key,val in df_dict.items():\n",
    "    df_dict.update({key:add_return_pu_risk(val)})"
   ]
  },
  {
   "cell_type": "code",
   "execution_count": 10,
   "metadata": {},
   "outputs": [
    {
     "name": "stdout",
     "output_type": "stream",
     "text": [
      "[40, 37, 40, 37, 40, 37]\n"
     ]
    }
   ],
   "source": [
    "print (list(map(lambda x: len(x.columns),df_dict.values())))"
   ]
  },
  {
   "cell_type": "code",
   "execution_count": 11,
   "metadata": {},
   "outputs": [
    {
     "data": {
      "text/plain": [
       "Index(['Unnamed: 0', 'Unnamed: 0.1', 'output', 'T', 'C', 'file', 'm', 'lbuck',\n",
       "       'pho', 'lamda', 'nuh', 'xii', 'k', 'p', 'f', 'w_risk', 'w_return',\n",
       "       'w_risk_down', 'index', 'bucket', 'kernel_size', 'problem_status',\n",
       "       'z_value', 'in_excess_return', 'in_tr_err', 'out_excess_return',\n",
       "       'out_tr_err', 'portfolio_size', 'z_linear', 'chk',\n",
       "       'in_excess_return_transpose', 'in_tr_err_transpose',\n",
       "       'out_excess_return_transpose', 'out_tr_err_transpose',\n",
       "       'portfolio_size_transpose', 'return_pu_risk_sample',\n",
       "       'return_pu_risk_oot', 'return_pu_risk_sample_transpose',\n",
       "       'return_pu_risk_oot_transpose', 'k/xii'],\n",
       "      dtype='object')"
      ]
     },
     "execution_count": 11,
     "metadata": {},
     "output_type": "execute_result"
    }
   ],
   "source": [
    "df_dict[('dual', '1')].columns"
   ]
  },
  {
   "cell_type": "code",
   "execution_count": 26,
   "metadata": {},
   "outputs": [],
   "source": [
    "pd.options.display.float_format=\"{:e}\".format"
   ]
  },
  {
   "cell_type": "markdown",
   "metadata": {},
   "source": [
    "### Effect of k"
   ]
  },
  {
   "cell_type": "code",
   "execution_count": 27,
   "metadata": {},
   "outputs": [
    {
     "name": "stdout",
     "output_type": "stream",
     "text": [
      "Int64Index([12, 16, 25], dtype='int64', name='k')\n"
     ]
    },
    {
     "data": {
      "text/html": [
       "<div>\n",
       "<style scoped>\n",
       "    .dataframe tbody tr th:only-of-type {\n",
       "        vertical-align: middle;\n",
       "    }\n",
       "\n",
       "    .dataframe tbody tr th {\n",
       "        vertical-align: top;\n",
       "    }\n",
       "\n",
       "    .dataframe thead tr th {\n",
       "        text-align: left;\n",
       "    }\n",
       "</style>\n",
       "<table border=\"1\" class=\"dataframe\">\n",
       "  <thead>\n",
       "    <tr>\n",
       "      <th>EIT_type</th>\n",
       "      <th colspan=\"3\" halign=\"left\">dual</th>\n",
       "      <th colspan=\"3\" halign=\"left\">basic</th>\n",
       "    </tr>\n",
       "    <tr>\n",
       "      <th>dataset</th>\n",
       "      <th>1</th>\n",
       "      <th>npca</th>\n",
       "      <th>nmf</th>\n",
       "      <th>1</th>\n",
       "      <th>npca</th>\n",
       "      <th>nmf</th>\n",
       "    </tr>\n",
       "  </thead>\n",
       "  <tbody>\n",
       "    <tr>\n",
       "      <th>return_pu_risk_sample_transpose</th>\n",
       "      <td>1.356284e-07</td>\n",
       "      <td>1.961903e-06</td>\n",
       "      <td>-7.874494e-07</td>\n",
       "      <td>1.962252e-05</td>\n",
       "      <td>3.507791e-05</td>\n",
       "      <td>6.306736e-07</td>\n",
       "    </tr>\n",
       "    <tr>\n",
       "      <th>return_pu_risk_oot_transpose</th>\n",
       "      <td>-4.498208e-07</td>\n",
       "      <td>1.359339e-06</td>\n",
       "      <td>2.753823e-06</td>\n",
       "      <td>1.032645e-04</td>\n",
       "      <td>2.727054e-05</td>\n",
       "      <td>-3.150138e-05</td>\n",
       "    </tr>\n",
       "  </tbody>\n",
       "</table>\n",
       "</div>"
      ],
      "text/plain": [
       "EIT_type                                 dual                             \\\n",
       "dataset                                     1         npca           nmf   \n",
       "return_pu_risk_sample_transpose  1.356284e-07 1.961903e-06 -7.874494e-07   \n",
       "return_pu_risk_oot_transpose    -4.498208e-07 1.359339e-06  2.753823e-06   \n",
       "\n",
       "EIT_type                               basic                             \n",
       "dataset                                    1         npca           nmf  \n",
       "return_pu_risk_sample_transpose 1.962252e-05 3.507791e-05  6.306736e-07  \n",
       "return_pu_risk_oot_transpose    1.032645e-04 2.727054e-05 -3.150138e-05  "
      ]
     },
     "metadata": {},
     "output_type": "display_data"
    }
   ],
   "source": [
    "z_slopes=pd.DataFrame()\n",
    "for key,df_val in df_dict.items():\n",
    "    z_step=df_dict[key].groupby([\"k\"])[[\"return_pu_risk_sample_transpose\",\"return_pu_risk_oot_transpose\"]].mean()\n",
    "    slopes = z_step.apply(lambda x: np.polyfit(z_step.index, x, 1)[0])\n",
    "    z_slopes[key]=slopes\n",
    "    z_slopes.columns = pd.MultiIndex.from_tuples(z_slopes.columns, names=['EIT_type','dataset'])\n",
    "print (z_step.index)\n",
    "display(z_slopes[[\"dual\",\"basic\"]])"
   ]
  },
  {
   "cell_type": "code",
   "execution_count": 14,
   "metadata": {},
   "outputs": [],
   "source": [
    "z_slopes.to_latex(\"prop_2a.tex\",float_format=\"%.5f\",escape=True,multicolumn=True,\\\n",
    "                 caption=\"Slope of risk/return vs k\")"
   ]
  },
  {
   "cell_type": "markdown",
   "metadata": {},
   "source": [
    "### Effect of pho"
   ]
  },
  {
   "cell_type": "code",
   "execution_count": 15,
   "metadata": {},
   "outputs": [
    {
     "name": "stdout",
     "output_type": "stream",
     "text": [
      "Float64Index([0.2, 0.3, 0.4], dtype='float64', name='pho')\n"
     ]
    },
    {
     "data": {
      "text/html": [
       "<div>\n",
       "<style scoped>\n",
       "    .dataframe tbody tr th:only-of-type {\n",
       "        vertical-align: middle;\n",
       "    }\n",
       "\n",
       "    .dataframe tbody tr th {\n",
       "        vertical-align: top;\n",
       "    }\n",
       "\n",
       "    .dataframe thead tr th {\n",
       "        text-align: left;\n",
       "    }\n",
       "</style>\n",
       "<table border=\"1\" class=\"dataframe\">\n",
       "  <thead>\n",
       "    <tr>\n",
       "      <th>EIT_type</th>\n",
       "      <th colspan=\"3\" halign=\"left\">dual</th>\n",
       "      <th colspan=\"3\" halign=\"left\">basic</th>\n",
       "    </tr>\n",
       "    <tr>\n",
       "      <th>dataset</th>\n",
       "      <th>1</th>\n",
       "      <th>npca</th>\n",
       "      <th>nmf</th>\n",
       "      <th>1</th>\n",
       "      <th>npca</th>\n",
       "      <th>nmf</th>\n",
       "    </tr>\n",
       "  </thead>\n",
       "  <tbody>\n",
       "    <tr>\n",
       "      <th>return_pu_risk_sample</th>\n",
       "      <td>5.535120e-03</td>\n",
       "      <td>-2.942339e-01</td>\n",
       "      <td>4.733874e-02</td>\n",
       "      <td>1.496724e-03</td>\n",
       "      <td>-4.325654e-02</td>\n",
       "      <td>7.698764e-03</td>\n",
       "    </tr>\n",
       "    <tr>\n",
       "      <th>return_pu_risk_oot</th>\n",
       "      <td>-6.281369e-03</td>\n",
       "      <td>-1.411890e-01</td>\n",
       "      <td>-6.572610e-02</td>\n",
       "      <td>-5.886736e-04</td>\n",
       "      <td>9.324724e-02</td>\n",
       "      <td>-9.357021e-03</td>\n",
       "    </tr>\n",
       "  </tbody>\n",
       "</table>\n",
       "</div>"
      ],
      "text/plain": [
       "EIT_type                       dual                                     basic  \\\n",
       "dataset                           1          npca           nmf             1   \n",
       "return_pu_risk_sample  5.535120e-03 -2.942339e-01  4.733874e-02  1.496724e-03   \n",
       "return_pu_risk_oot    -6.281369e-03 -1.411890e-01 -6.572610e-02 -5.886736e-04   \n",
       "\n",
       "EIT_type                                           \n",
       "dataset                        npca           nmf  \n",
       "return_pu_risk_sample -4.325654e-02  7.698764e-03  \n",
       "return_pu_risk_oot     9.324724e-02 -9.357021e-03  "
      ]
     },
     "metadata": {},
     "output_type": "display_data"
    }
   ],
   "source": [
    "z_slopes=pd.DataFrame()\n",
    "for key,df_val in df_dict.items():\n",
    "    z_step=df_dict[key].groupby([\"pho\"])[[\"return_pu_risk_sample\",\"return_pu_risk_oot\"]].mean()\n",
    "    slopes = z_step.apply(lambda x: np.polyfit(z_step.index, x, 1)[0])\n",
    "    z_slopes[key]=slopes\n",
    "    z_slopes.columns = pd.MultiIndex.from_tuples(z_slopes.columns, names=['EIT_type','dataset'])\n",
    "print (z_step.index)\n",
    "display(z_slopes[[\"dual\",\"basic\"]])"
   ]
  },
  {
   "cell_type": "code",
   "execution_count": null,
   "metadata": {},
   "outputs": [],
   "source": [
    "-6.281369e-03"
   ]
  },
  {
   "cell_type": "code",
   "execution_count": null,
   "metadata": {},
   "outputs": [],
   "source": []
  },
  {
   "cell_type": "code",
   "execution_count": null,
   "metadata": {},
   "outputs": [],
   "source": []
  },
  {
   "cell_type": "code",
   "execution_count": null,
   "metadata": {},
   "outputs": [],
   "source": []
  },
  {
   "cell_type": "code",
   "execution_count": null,
   "metadata": {},
   "outputs": [],
   "source": []
  },
  {
   "cell_type": "code",
   "execution_count": null,
   "metadata": {},
   "outputs": [],
   "source": []
  },
  {
   "cell_type": "code",
   "execution_count": null,
   "metadata": {},
   "outputs": [],
   "source": []
  },
  {
   "cell_type": "code",
   "execution_count": null,
   "metadata": {},
   "outputs": [],
   "source": []
  },
  {
   "cell_type": "code",
   "execution_count": null,
   "metadata": {},
   "outputs": [],
   "source": []
  }
 ],
 "metadata": {
  "kernelspec": {
   "display_name": "Python 3",
   "language": "python",
   "name": "python3"
  },
  "language_info": {
   "codemirror_mode": {
    "name": "ipython",
    "version": 3
   },
   "file_extension": ".py",
   "mimetype": "text/x-python",
   "name": "python",
   "nbconvert_exporter": "python",
   "pygments_lexer": "ipython3",
   "version": "3.8.6"
  }
 },
 "nbformat": 4,
 "nbformat_minor": 4
}
