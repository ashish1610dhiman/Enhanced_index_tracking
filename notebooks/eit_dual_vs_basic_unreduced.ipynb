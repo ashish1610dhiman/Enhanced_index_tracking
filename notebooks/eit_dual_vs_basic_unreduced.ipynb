{
 "cells": [
  {
   "cell_type": "markdown",
   "metadata": {},
   "source": [
    "### Declare common params"
   ]
  },
  {
   "cell_type": "code",
   "execution_count": 1,
   "metadata": {},
   "outputs": [],
   "source": [
    "base_path=\"../eit_basic_dual_unreduced_experiments/exp_1\" #Don't add '/' at start and end\n",
    "T=200 #Training time period\n",
    "C=100000 #Capital available\n",
    "file=1 #Index_file\n",
    "m=8 #Inital Size of Kernel\n",
    "lbuck=2 #Size Of Buckets\n",
    "pho=0.1 #Transaction Cost Proportion\n",
    "lamda=1/(100*C) # lower_bound for capital invested in jth stock\n",
    "nuh=0.6  # upper_bound\n",
    "xii=1.2 # Limit for Tracking Error\n",
    "k=20 #Cardinality constraint for stocks in portfolio\n",
    "p=3 #If stock not selected in optimal soln in last p iters then it is to be dropped from kernel\n",
    "f=12\n",
    "w_return=100\n",
    "w_risk=110\n",
    "w_risk_down=1\n",
    "#cj,cb are declared in script"
   ]
  },
  {
   "cell_type": "code",
   "execution_count": 2,
   "metadata": {},
   "outputs": [],
   "source": [
    "import sys\n",
    "sys.path.insert(0,\"..\") #Add root folder to sys path\n",
    "\n",
    "from eit_basic_experiment import TestEitBasic\n",
    "from eit_dual_exp import TestEitDual\n",
    "\n",
    "import time\n",
    "from tqdm.notebook import tqdm\n",
    "from IPython.utils import io\n",
    "from joblib import Parallel, delayed\n",
    "import pandas as pd"
   ]
  },
  {
   "cell_type": "markdown",
   "metadata": {},
   "source": [
    "### Generate instances of test objects for various combinations of params"
   ]
  },
  {
   "cell_type": "code",
   "execution_count": 3,
   "metadata": {},
   "outputs": [],
   "source": [
    "!rm -r $base_path"
   ]
  },
  {
   "cell_type": "code",
   "execution_count": 4,
   "metadata": {},
   "outputs": [],
   "source": [
    "path_pattern=base_path+\"/{}/file={},pho={},xii={},k={},m={},lbuck={},p={},nuh={}\""
   ]
  },
  {
   "cell_type": "code",
   "execution_count": 5,
   "metadata": {},
   "outputs": [
    {
     "name": "stdout",
     "output_type": "stream",
     "text": [
      "CPU times: user 3.73 ms, sys: 658 µs, total: 4.39 ms\n",
      "Wall time: 4.05 ms\n"
     ]
    }
   ],
   "source": [
    "%%time\n",
    "basic_instances=[]\n",
    "dual_instances=[]\n",
    "for file in [1]:\n",
    "    for pho in [0.05,0.1,0.2]:\n",
    "        for xii in [1.2,1.3,1.4]:\n",
    "            for k in [12,16,25]:\n",
    "                for m in [8,12,16]:\n",
    "                    for nuh in [0.3,0.45,0.6]:\n",
    "                        output_basic=path_pattern.format(\"basic\",file,pho,xii,k,m,lbuck,p,nuh)\n",
    "                        #Create object for EIT-basic\n",
    "                        test_eit_basic=TestEitBasic(output=output_basic,T=T,C=C,file=file,m=m,lbuck=lbuck,\\\n",
    "                                            pho=pho,lamda=lamda,nuh=nuh,xii=xii,k=k,p=p,f=f)\n",
    "                        basic_instances.append(test_eit_basic)\n",
    "                        #Create object for EIT-dual\n",
    "                        output_dual=path_pattern.format(\"dual\",file,pho,xii,k,m,lbuck,p,nuh)\n",
    "                        test_eit_dual=TestEitDual(output=output_dual,T=T,C=C,file=file,m=m,lbuck=lbuck,pho=pho,\\\n",
    "                                                  lamda=lamda,nuh=nuh,xii=xii,k=k,p=p,f=f,w_risk=w_risk,\\\n",
    "                                                  w_return=w_return,w_risk_down=w_risk_down)\n",
    "                        dual_instances.append(test_eit_dual)"
   ]
  },
  {
   "cell_type": "markdown",
   "metadata": {},
   "source": [
    "### Run the EIT problems with threading"
   ]
  },
  {
   "cell_type": "code",
   "execution_count": 6,
   "metadata": {},
   "outputs": [],
   "source": [
    "def parallel_func(eit_object):\n",
    "    params=eit_object.give_params()\n",
    "    step_dict={}\n",
    "    try:\n",
    "        result_df=eit_object.run_experiment(from_root=False,verbose=False);\n",
    "        result_df[\"z_linear\"]=eit_object.objective_linear\n",
    "        #result_dict.update(step_dict)\n",
    "    except Exception as e:\n",
    "        print(\"Error for params\",params)\n",
    "        result_df=None\n",
    "    step_dict[params]=result_df   \n",
    "    return (step_dict)"
   ]
  },
  {
   "cell_type": "code",
   "execution_count": 7,
   "metadata": {},
   "outputs": [
    {
     "data": {
      "application/vnd.jupyter.widget-view+json": {
       "model_id": "cce3e8f0d7784fe186fef412c8b25596",
       "version_major": 2,
       "version_minor": 0
      },
      "text/plain": [
       "HBox(children=(HTML(value=''), FloatProgress(value=0.0, max=243.0), HTML(value='')))"
      ]
     },
     "metadata": {},
     "output_type": "display_data"
    },
    {
     "name": "stderr",
     "output_type": "stream",
     "text": [
      "[Parallel(n_jobs=-1)]: Using backend LokyBackend with 8 concurrent workers.\n",
      "[Parallel(n_jobs=-1)]: Done  25 tasks      | elapsed:  1.5min\n",
      "[Parallel(n_jobs=-1)]: Done 146 tasks      | elapsed:  7.2min\n"
     ]
    },
    {
     "name": "stdout",
     "output_type": "stream",
     "text": [
      "\n",
      "CPU times: user 844 ms, sys: 150 ms, total: 994 ms\n",
      "Wall time: 11min 41s\n"
     ]
    },
    {
     "name": "stderr",
     "output_type": "stream",
     "text": [
      "[Parallel(n_jobs=-1)]: Done 243 out of 243 | elapsed: 11.7min finished\n"
     ]
    }
   ],
   "source": [
    "%%time\n",
    "#test_2={}\n",
    "basic_outputs=Parallel(verbose = 2,n_jobs  = -1\\\n",
    "            )(delayed( parallel_func )(run) for run in tqdm(basic_instances))"
   ]
  },
  {
   "cell_type": "code",
   "execution_count": 8,
   "metadata": {},
   "outputs": [
    {
     "data": {
      "application/vnd.jupyter.widget-view+json": {
       "model_id": "18ab037c3ec0416aa73018881019e66d",
       "version_major": 2,
       "version_minor": 0
      },
      "text/plain": [
       "HBox(children=(HTML(value=''), FloatProgress(value=0.0, max=243.0), HTML(value='')))"
      ]
     },
     "metadata": {},
     "output_type": "display_data"
    },
    {
     "name": "stderr",
     "output_type": "stream",
     "text": [
      "[Parallel(n_jobs=-1)]: Using backend LokyBackend with 8 concurrent workers.\n",
      "[Parallel(n_jobs=-1)]: Done  25 tasks      | elapsed:  5.5min\n",
      "[Parallel(n_jobs=-1)]: Done 146 tasks      | elapsed: 26.8min\n"
     ]
    },
    {
     "name": "stdout",
     "output_type": "stream",
     "text": [
      "\n",
      "CPU times: user 922 ms, sys: 107 ms, total: 1.03 s\n",
      "Wall time: 42min 44s\n"
     ]
    },
    {
     "name": "stderr",
     "output_type": "stream",
     "text": [
      "[Parallel(n_jobs=-1)]: Done 243 out of 243 | elapsed: 42.7min finished\n"
     ]
    }
   ],
   "source": [
    "%%time\n",
    "#test_2={}\n",
    "dual_outputs=Parallel(verbose = 2,n_jobs  = -1\\\n",
    "            )(delayed( parallel_func )(run) for run in tqdm(dual_instances))"
   ]
  },
  {
   "cell_type": "markdown",
   "metadata": {},
   "source": [
    "### Aggregate results"
   ]
  },
  {
   "cell_type": "code",
   "execution_count": 12,
   "metadata": {},
   "outputs": [],
   "source": [
    "def make_result(parallel_output):\n",
    "    final_result=pd.DataFrame()\n",
    "    for output_i in parallel_output:\n",
    "        params,result_df=next(iter(output_i.items()))\n",
    "        param_part=pd.DataFrame([params])\n",
    "        if result_df is None:\n",
    "            res_part=pd.DataFrame()\n",
    "        else:\n",
    "            res_part=pd.DataFrame([result_df.loc[result_df.z_value.idxmax()]])\n",
    "        temp=pd.concat([param_part,res_part.reset_index()],axis=1,ignore_index=False)\n",
    "        final_result=final_result.append(temp)\n",
    "    return (final_result)"
   ]
  },
  {
   "cell_type": "code",
   "execution_count": 10,
   "metadata": {},
   "outputs": [],
   "source": [
    "basic_result=make_result(basic_outputs)\n",
    "basic_result.to_csv(base_path+\"/basic_results_exp_1.csv\")"
   ]
  },
  {
   "cell_type": "code",
   "execution_count": 11,
   "metadata": {},
   "outputs": [],
   "source": [
    "dual_result=make_result(dual_outputs)\n",
    "dual_result.to_csv(base_path+\"/dual_results_exp_1.csv\")"
   ]
  },
  {
   "cell_type": "markdown",
   "metadata": {},
   "source": [
    "### Compare results"
   ]
  },
  {
   "cell_type": "code",
   "execution_count": 13,
   "metadata": {},
   "outputs": [
    {
     "data": {
      "text/plain": [
       "Index(['output', 'T', 'C', 'file', 'm', 'lbuck', 'pho', 'lamda', 'nuh', 'xii',\n",
       "       'k', 'p', 'f', 'index', 'bucket', 'kernel_size', 'problem_status',\n",
       "       'z_value', 'in_excess_return', 'in_tr_err', 'out_excess_return',\n",
       "       'out_tr_err', 'portfolio_size', 'z_linear'],\n",
       "      dtype='object')"
      ]
     },
     "execution_count": 13,
     "metadata": {},
     "output_type": "execute_result"
    }
   ],
   "source": [
    "basic_result.columns"
   ]
  },
  {
   "cell_type": "code",
   "execution_count": 17,
   "metadata": {},
   "outputs": [
    {
     "name": "stdout",
     "output_type": "stream",
     "text": [
      "Basic Infeasible for % of param combs={:.2f} 0.3004115226337449\n",
      "Dual Infeasible for % of param combs={:.2f} 0.04526748971193416\n"
     ]
    }
   ],
   "source": [
    "print(\"Basic Infeasible for % of param combs={:.2f}\",basic_result.z_value.isnull().mean())\n",
    "print(\"Dual Infeasible for % of param combs={:.2f}\",dual_result.z_value.isnull().mean())"
   ]
  },
  {
   "cell_type": "code",
   "execution_count": 20,
   "metadata": {},
   "outputs": [],
   "source": [
    "basic_result[\"return_pu_risk_sample\"]=basic_result[\"in_excess_return\"]/basic_result[\"in_tr_err\"].abs()\n",
    "basic_result[\"return_pu_risk_oot\"]=basic_result[\"out_excess_return\"]/basic_result[\"out_tr_err\"].abs()\n",
    "\n",
    "dual_result[\"return_pu_risk_sample\"]=dual_result[\"in_excess_return\"]/dual_result[\"in_tr_err\"].abs()\n",
    "dual_result[\"return_pu_risk_oot\"]=dual_result[\"out_excess_return\"]/dual_result[\"out_tr_err\"].abs()"
   ]
  },
  {
   "cell_type": "code",
   "execution_count": 23,
   "metadata": {},
   "outputs": [],
   "source": [
    "basic_k_pho_nuh=basic_result.groupby([\"k\",\"pho\",\"nuh\"])[[\"return_pu_risk_sample\",\"return_pu_risk_oot\"]].mean()\n",
    "dual_k_pho_nuh=dual_result.groupby([\"k\",\"pho\",\"nuh\"])[[\"return_pu_risk_sample\",\"return_pu_risk_oot\"]].mean()"
   ]
  },
  {
   "cell_type": "code",
   "execution_count": 24,
   "metadata": {},
   "outputs": [],
   "source": [
    "from IPython.display import display_html "
   ]
  },
  {
   "cell_type": "code",
   "execution_count": 25,
   "metadata": {},
   "outputs": [
    {
     "data": {
      "text/html": [
       "<style  type=\"text/css\" >\n",
       "</style><table id=\"T_18376ef6_4447_11eb_af71_acde48001122\" style='display:inline'><caption>EIT Basic</caption><thead>    <tr>        <th class=\"blank\" ></th>        <th class=\"blank\" ></th>        <th class=\"blank level0\" ></th>        <th class=\"col_heading level0 col0\" >return_pu_risk_sample</th>        <th class=\"col_heading level0 col1\" >return_pu_risk_oot</th>    </tr>    <tr>        <th class=\"index_name level0\" >k</th>        <th class=\"index_name level1\" >pho</th>        <th class=\"index_name level2\" >nuh</th>        <th class=\"blank\" ></th>        <th class=\"blank\" ></th>    </tr></thead><tbody>\n",
       "                <tr>\n",
       "                        <th id=\"T_18376ef6_4447_11eb_af71_acde48001122level0_row0\" class=\"row_heading level0 row0\" rowspan=9>12</th>\n",
       "                        <th id=\"T_18376ef6_4447_11eb_af71_acde48001122level1_row0\" class=\"row_heading level1 row0\" rowspan=3>0.05</th>\n",
       "                        <th id=\"T_18376ef6_4447_11eb_af71_acde48001122level2_row0\" class=\"row_heading level2 row0\" >0.3</th>\n",
       "                        <td id=\"T_18376ef6_4447_11eb_af71_acde48001122row0_col0\" class=\"data row0 col0\" >0.260423</td>\n",
       "                        <td id=\"T_18376ef6_4447_11eb_af71_acde48001122row0_col1\" class=\"data row0 col1\" >-0.002815</td>\n",
       "            </tr>\n",
       "            <tr>\n",
       "                                        <th id=\"T_18376ef6_4447_11eb_af71_acde48001122level2_row1\" class=\"row_heading level2 row1\" >0.45</th>\n",
       "                        <td id=\"T_18376ef6_4447_11eb_af71_acde48001122row1_col0\" class=\"data row1 col0\" >nan</td>\n",
       "                        <td id=\"T_18376ef6_4447_11eb_af71_acde48001122row1_col1\" class=\"data row1 col1\" >nan</td>\n",
       "            </tr>\n",
       "            <tr>\n",
       "                                        <th id=\"T_18376ef6_4447_11eb_af71_acde48001122level2_row2\" class=\"row_heading level2 row2\" >0.6</th>\n",
       "                        <td id=\"T_18376ef6_4447_11eb_af71_acde48001122row2_col0\" class=\"data row2 col0\" >0.256674</td>\n",
       "                        <td id=\"T_18376ef6_4447_11eb_af71_acde48001122row2_col1\" class=\"data row2 col1\" >-0.015257</td>\n",
       "            </tr>\n",
       "            <tr>\n",
       "                                <th id=\"T_18376ef6_4447_11eb_af71_acde48001122level1_row3\" class=\"row_heading level1 row3\" rowspan=3>0.1</th>\n",
       "                        <th id=\"T_18376ef6_4447_11eb_af71_acde48001122level2_row3\" class=\"row_heading level2 row3\" >0.3</th>\n",
       "                        <td id=\"T_18376ef6_4447_11eb_af71_acde48001122row3_col0\" class=\"data row3 col0\" >0.249178</td>\n",
       "                        <td id=\"T_18376ef6_4447_11eb_af71_acde48001122row3_col1\" class=\"data row3 col1\" >-0.008138</td>\n",
       "            </tr>\n",
       "            <tr>\n",
       "                                        <th id=\"T_18376ef6_4447_11eb_af71_acde48001122level2_row4\" class=\"row_heading level2 row4\" >0.45</th>\n",
       "                        <td id=\"T_18376ef6_4447_11eb_af71_acde48001122row4_col0\" class=\"data row4 col0\" >nan</td>\n",
       "                        <td id=\"T_18376ef6_4447_11eb_af71_acde48001122row4_col1\" class=\"data row4 col1\" >nan</td>\n",
       "            </tr>\n",
       "            <tr>\n",
       "                                        <th id=\"T_18376ef6_4447_11eb_af71_acde48001122level2_row5\" class=\"row_heading level2 row5\" >0.6</th>\n",
       "                        <td id=\"T_18376ef6_4447_11eb_af71_acde48001122row5_col0\" class=\"data row5 col0\" >0.256674</td>\n",
       "                        <td id=\"T_18376ef6_4447_11eb_af71_acde48001122row5_col1\" class=\"data row5 col1\" >-0.015257</td>\n",
       "            </tr>\n",
       "            <tr>\n",
       "                                <th id=\"T_18376ef6_4447_11eb_af71_acde48001122level1_row6\" class=\"row_heading level1 row6\" rowspan=3>0.2</th>\n",
       "                        <th id=\"T_18376ef6_4447_11eb_af71_acde48001122level2_row6\" class=\"row_heading level2 row6\" >0.3</th>\n",
       "                        <td id=\"T_18376ef6_4447_11eb_af71_acde48001122row6_col0\" class=\"data row6 col0\" >0.256517</td>\n",
       "                        <td id=\"T_18376ef6_4447_11eb_af71_acde48001122row6_col1\" class=\"data row6 col1\" >-0.014007</td>\n",
       "            </tr>\n",
       "            <tr>\n",
       "                                        <th id=\"T_18376ef6_4447_11eb_af71_acde48001122level2_row7\" class=\"row_heading level2 row7\" >0.45</th>\n",
       "                        <td id=\"T_18376ef6_4447_11eb_af71_acde48001122row7_col0\" class=\"data row7 col0\" >0.256752</td>\n",
       "                        <td id=\"T_18376ef6_4447_11eb_af71_acde48001122row7_col1\" class=\"data row7 col1\" >-0.015882</td>\n",
       "            </tr>\n",
       "            <tr>\n",
       "                                        <th id=\"T_18376ef6_4447_11eb_af71_acde48001122level2_row8\" class=\"row_heading level2 row8\" >0.6</th>\n",
       "                        <td id=\"T_18376ef6_4447_11eb_af71_acde48001122row8_col0\" class=\"data row8 col0\" >0.256674</td>\n",
       "                        <td id=\"T_18376ef6_4447_11eb_af71_acde48001122row8_col1\" class=\"data row8 col1\" >-0.015257</td>\n",
       "            </tr>\n",
       "            <tr>\n",
       "                        <th id=\"T_18376ef6_4447_11eb_af71_acde48001122level0_row9\" class=\"row_heading level0 row9\" rowspan=9>16</th>\n",
       "                        <th id=\"T_18376ef6_4447_11eb_af71_acde48001122level1_row9\" class=\"row_heading level1 row9\" rowspan=3>0.05</th>\n",
       "                        <th id=\"T_18376ef6_4447_11eb_af71_acde48001122level2_row9\" class=\"row_heading level2 row9\" >0.3</th>\n",
       "                        <td id=\"T_18376ef6_4447_11eb_af71_acde48001122row9_col0\" class=\"data row9 col0\" >0.248717</td>\n",
       "                        <td id=\"T_18376ef6_4447_11eb_af71_acde48001122row9_col1\" class=\"data row9 col1\" >-0.023835</td>\n",
       "            </tr>\n",
       "            <tr>\n",
       "                                        <th id=\"T_18376ef6_4447_11eb_af71_acde48001122level2_row10\" class=\"row_heading level2 row10\" >0.45</th>\n",
       "                        <td id=\"T_18376ef6_4447_11eb_af71_acde48001122row10_col0\" class=\"data row10 col0\" >0.262161</td>\n",
       "                        <td id=\"T_18376ef6_4447_11eb_af71_acde48001122row10_col1\" class=\"data row10 col1\" >-0.015790</td>\n",
       "            </tr>\n",
       "            <tr>\n",
       "                                        <th id=\"T_18376ef6_4447_11eb_af71_acde48001122level2_row11\" class=\"row_heading level2 row11\" >0.6</th>\n",
       "                        <td id=\"T_18376ef6_4447_11eb_af71_acde48001122row11_col0\" class=\"data row11 col0\" >0.262150</td>\n",
       "                        <td id=\"T_18376ef6_4447_11eb_af71_acde48001122row11_col1\" class=\"data row11 col1\" >-0.015753</td>\n",
       "            </tr>\n",
       "            <tr>\n",
       "                                <th id=\"T_18376ef6_4447_11eb_af71_acde48001122level1_row12\" class=\"row_heading level1 row12\" rowspan=3>0.1</th>\n",
       "                        <th id=\"T_18376ef6_4447_11eb_af71_acde48001122level2_row12\" class=\"row_heading level2 row12\" >0.3</th>\n",
       "                        <td id=\"T_18376ef6_4447_11eb_af71_acde48001122row12_col0\" class=\"data row12 col0\" >0.253869</td>\n",
       "                        <td id=\"T_18376ef6_4447_11eb_af71_acde48001122row12_col1\" class=\"data row12 col1\" >-0.016510</td>\n",
       "            </tr>\n",
       "            <tr>\n",
       "                                        <th id=\"T_18376ef6_4447_11eb_af71_acde48001122level2_row13\" class=\"row_heading level2 row13\" >0.45</th>\n",
       "                        <td id=\"T_18376ef6_4447_11eb_af71_acde48001122row13_col0\" class=\"data row13 col0\" >0.262161</td>\n",
       "                        <td id=\"T_18376ef6_4447_11eb_af71_acde48001122row13_col1\" class=\"data row13 col1\" >-0.015790</td>\n",
       "            </tr>\n",
       "            <tr>\n",
       "                                        <th id=\"T_18376ef6_4447_11eb_af71_acde48001122level2_row14\" class=\"row_heading level2 row14\" >0.6</th>\n",
       "                        <td id=\"T_18376ef6_4447_11eb_af71_acde48001122row14_col0\" class=\"data row14 col0\" >0.262150</td>\n",
       "                        <td id=\"T_18376ef6_4447_11eb_af71_acde48001122row14_col1\" class=\"data row14 col1\" >-0.015753</td>\n",
       "            </tr>\n",
       "            <tr>\n",
       "                                <th id=\"T_18376ef6_4447_11eb_af71_acde48001122level1_row15\" class=\"row_heading level1 row15\" rowspan=3>0.2</th>\n",
       "                        <th id=\"T_18376ef6_4447_11eb_af71_acde48001122level2_row15\" class=\"row_heading level2 row15\" >0.3</th>\n",
       "                        <td id=\"T_18376ef6_4447_11eb_af71_acde48001122row15_col0\" class=\"data row15 col0\" >0.253869</td>\n",
       "                        <td id=\"T_18376ef6_4447_11eb_af71_acde48001122row15_col1\" class=\"data row15 col1\" >-0.016510</td>\n",
       "            </tr>\n",
       "            <tr>\n",
       "                                        <th id=\"T_18376ef6_4447_11eb_af71_acde48001122level2_row16\" class=\"row_heading level2 row16\" >0.45</th>\n",
       "                        <td id=\"T_18376ef6_4447_11eb_af71_acde48001122row16_col0\" class=\"data row16 col0\" >0.262161</td>\n",
       "                        <td id=\"T_18376ef6_4447_11eb_af71_acde48001122row16_col1\" class=\"data row16 col1\" >-0.015790</td>\n",
       "            </tr>\n",
       "            <tr>\n",
       "                                        <th id=\"T_18376ef6_4447_11eb_af71_acde48001122level2_row17\" class=\"row_heading level2 row17\" >0.6</th>\n",
       "                        <td id=\"T_18376ef6_4447_11eb_af71_acde48001122row17_col0\" class=\"data row17 col0\" >0.262161</td>\n",
       "                        <td id=\"T_18376ef6_4447_11eb_af71_acde48001122row17_col1\" class=\"data row17 col1\" >-0.015790</td>\n",
       "            </tr>\n",
       "            <tr>\n",
       "                        <th id=\"T_18376ef6_4447_11eb_af71_acde48001122level0_row18\" class=\"row_heading level0 row18\" rowspan=9>25</th>\n",
       "                        <th id=\"T_18376ef6_4447_11eb_af71_acde48001122level1_row18\" class=\"row_heading level1 row18\" rowspan=3>0.05</th>\n",
       "                        <th id=\"T_18376ef6_4447_11eb_af71_acde48001122level2_row18\" class=\"row_heading level2 row18\" >0.3</th>\n",
       "                        <td id=\"T_18376ef6_4447_11eb_af71_acde48001122row18_col0\" class=\"data row18 col0\" >0.262488</td>\n",
       "                        <td id=\"T_18376ef6_4447_11eb_af71_acde48001122row18_col1\" class=\"data row18 col1\" >-0.011821</td>\n",
       "            </tr>\n",
       "            <tr>\n",
       "                                        <th id=\"T_18376ef6_4447_11eb_af71_acde48001122level2_row19\" class=\"row_heading level2 row19\" >0.45</th>\n",
       "                        <td id=\"T_18376ef6_4447_11eb_af71_acde48001122row19_col0\" class=\"data row19 col0\" >0.262488</td>\n",
       "                        <td id=\"T_18376ef6_4447_11eb_af71_acde48001122row19_col1\" class=\"data row19 col1\" >-0.011821</td>\n",
       "            </tr>\n",
       "            <tr>\n",
       "                                        <th id=\"T_18376ef6_4447_11eb_af71_acde48001122level2_row20\" class=\"row_heading level2 row20\" >0.6</th>\n",
       "                        <td id=\"T_18376ef6_4447_11eb_af71_acde48001122row20_col0\" class=\"data row20 col0\" >0.262488</td>\n",
       "                        <td id=\"T_18376ef6_4447_11eb_af71_acde48001122row20_col1\" class=\"data row20 col1\" >-0.011821</td>\n",
       "            </tr>\n",
       "            <tr>\n",
       "                                <th id=\"T_18376ef6_4447_11eb_af71_acde48001122level1_row21\" class=\"row_heading level1 row21\" rowspan=3>0.1</th>\n",
       "                        <th id=\"T_18376ef6_4447_11eb_af71_acde48001122level2_row21\" class=\"row_heading level2 row21\" >0.3</th>\n",
       "                        <td id=\"T_18376ef6_4447_11eb_af71_acde48001122row21_col0\" class=\"data row21 col0\" >0.262488</td>\n",
       "                        <td id=\"T_18376ef6_4447_11eb_af71_acde48001122row21_col1\" class=\"data row21 col1\" >-0.011821</td>\n",
       "            </tr>\n",
       "            <tr>\n",
       "                                        <th id=\"T_18376ef6_4447_11eb_af71_acde48001122level2_row22\" class=\"row_heading level2 row22\" >0.45</th>\n",
       "                        <td id=\"T_18376ef6_4447_11eb_af71_acde48001122row22_col0\" class=\"data row22 col0\" >0.262488</td>\n",
       "                        <td id=\"T_18376ef6_4447_11eb_af71_acde48001122row22_col1\" class=\"data row22 col1\" >-0.011821</td>\n",
       "            </tr>\n",
       "            <tr>\n",
       "                                        <th id=\"T_18376ef6_4447_11eb_af71_acde48001122level2_row23\" class=\"row_heading level2 row23\" >0.6</th>\n",
       "                        <td id=\"T_18376ef6_4447_11eb_af71_acde48001122row23_col0\" class=\"data row23 col0\" >0.262488</td>\n",
       "                        <td id=\"T_18376ef6_4447_11eb_af71_acde48001122row23_col1\" class=\"data row23 col1\" >-0.011821</td>\n",
       "            </tr>\n",
       "            <tr>\n",
       "                                <th id=\"T_18376ef6_4447_11eb_af71_acde48001122level1_row24\" class=\"row_heading level1 row24\" rowspan=3>0.2</th>\n",
       "                        <th id=\"T_18376ef6_4447_11eb_af71_acde48001122level2_row24\" class=\"row_heading level2 row24\" >0.3</th>\n",
       "                        <td id=\"T_18376ef6_4447_11eb_af71_acde48001122row24_col0\" class=\"data row24 col0\" >0.262488</td>\n",
       "                        <td id=\"T_18376ef6_4447_11eb_af71_acde48001122row24_col1\" class=\"data row24 col1\" >-0.011821</td>\n",
       "            </tr>\n",
       "            <tr>\n",
       "                                        <th id=\"T_18376ef6_4447_11eb_af71_acde48001122level2_row25\" class=\"row_heading level2 row25\" >0.45</th>\n",
       "                        <td id=\"T_18376ef6_4447_11eb_af71_acde48001122row25_col0\" class=\"data row25 col0\" >0.262488</td>\n",
       "                        <td id=\"T_18376ef6_4447_11eb_af71_acde48001122row25_col1\" class=\"data row25 col1\" >-0.011821</td>\n",
       "            </tr>\n",
       "            <tr>\n",
       "                                        <th id=\"T_18376ef6_4447_11eb_af71_acde48001122level2_row26\" class=\"row_heading level2 row26\" >0.6</th>\n",
       "                        <td id=\"T_18376ef6_4447_11eb_af71_acde48001122row26_col0\" class=\"data row26 col0\" >0.262488</td>\n",
       "                        <td id=\"T_18376ef6_4447_11eb_af71_acde48001122row26_col1\" class=\"data row26 col1\" >-0.011821</td>\n",
       "            </tr>\n",
       "    </tbody></table><style  type=\"text/css\" >\n",
       "</style><table id=\"T_18382bca_4447_11eb_af71_acde48001122\" style='display:inline'><caption>EIT Dual</caption><thead>    <tr>        <th class=\"blank\" ></th>        <th class=\"blank\" ></th>        <th class=\"blank level0\" ></th>        <th class=\"col_heading level0 col0\" >return_pu_risk_sample</th>        <th class=\"col_heading level0 col1\" >return_pu_risk_oot</th>    </tr>    <tr>        <th class=\"index_name level0\" >k</th>        <th class=\"index_name level1\" >pho</th>        <th class=\"index_name level2\" >nuh</th>        <th class=\"blank\" ></th>        <th class=\"blank\" ></th>    </tr></thead><tbody>\n",
       "                <tr>\n",
       "                        <th id=\"T_18382bca_4447_11eb_af71_acde48001122level0_row0\" class=\"row_heading level0 row0\" rowspan=9>12</th>\n",
       "                        <th id=\"T_18382bca_4447_11eb_af71_acde48001122level1_row0\" class=\"row_heading level1 row0\" rowspan=3>0.05</th>\n",
       "                        <th id=\"T_18382bca_4447_11eb_af71_acde48001122level2_row0\" class=\"row_heading level2 row0\" >0.3</th>\n",
       "                        <td id=\"T_18382bca_4447_11eb_af71_acde48001122row0_col0\" class=\"data row0 col0\" >0.226302</td>\n",
       "                        <td id=\"T_18382bca_4447_11eb_af71_acde48001122row0_col1\" class=\"data row0 col1\" >0.021254</td>\n",
       "            </tr>\n",
       "            <tr>\n",
       "                                        <th id=\"T_18382bca_4447_11eb_af71_acde48001122level2_row1\" class=\"row_heading level2 row1\" >0.45</th>\n",
       "                        <td id=\"T_18382bca_4447_11eb_af71_acde48001122row1_col0\" class=\"data row1 col0\" >0.234465</td>\n",
       "                        <td id=\"T_18382bca_4447_11eb_af71_acde48001122row1_col1\" class=\"data row1 col1\" >0.002583</td>\n",
       "            </tr>\n",
       "            <tr>\n",
       "                                        <th id=\"T_18382bca_4447_11eb_af71_acde48001122level2_row2\" class=\"row_heading level2 row2\" >0.6</th>\n",
       "                        <td id=\"T_18382bca_4447_11eb_af71_acde48001122row2_col0\" class=\"data row2 col0\" >0.239274</td>\n",
       "                        <td id=\"T_18382bca_4447_11eb_af71_acde48001122row2_col1\" class=\"data row2 col1\" >0.014183</td>\n",
       "            </tr>\n",
       "            <tr>\n",
       "                                <th id=\"T_18382bca_4447_11eb_af71_acde48001122level1_row3\" class=\"row_heading level1 row3\" rowspan=3>0.1</th>\n",
       "                        <th id=\"T_18382bca_4447_11eb_af71_acde48001122level2_row3\" class=\"row_heading level2 row3\" >0.3</th>\n",
       "                        <td id=\"T_18382bca_4447_11eb_af71_acde48001122row3_col0\" class=\"data row3 col0\" >0.220133</td>\n",
       "                        <td id=\"T_18382bca_4447_11eb_af71_acde48001122row3_col1\" class=\"data row3 col1\" >0.005450</td>\n",
       "            </tr>\n",
       "            <tr>\n",
       "                                        <th id=\"T_18382bca_4447_11eb_af71_acde48001122level2_row4\" class=\"row_heading level2 row4\" >0.45</th>\n",
       "                        <td id=\"T_18382bca_4447_11eb_af71_acde48001122row4_col0\" class=\"data row4 col0\" >0.235800</td>\n",
       "                        <td id=\"T_18382bca_4447_11eb_af71_acde48001122row4_col1\" class=\"data row4 col1\" >0.013134</td>\n",
       "            </tr>\n",
       "            <tr>\n",
       "                                        <th id=\"T_18382bca_4447_11eb_af71_acde48001122level2_row5\" class=\"row_heading level2 row5\" >0.6</th>\n",
       "                        <td id=\"T_18382bca_4447_11eb_af71_acde48001122row5_col0\" class=\"data row5 col0\" >0.235272</td>\n",
       "                        <td id=\"T_18382bca_4447_11eb_af71_acde48001122row5_col1\" class=\"data row5 col1\" >0.007848</td>\n",
       "            </tr>\n",
       "            <tr>\n",
       "                                <th id=\"T_18382bca_4447_11eb_af71_acde48001122level1_row6\" class=\"row_heading level1 row6\" rowspan=3>0.2</th>\n",
       "                        <th id=\"T_18382bca_4447_11eb_af71_acde48001122level2_row6\" class=\"row_heading level2 row6\" >0.3</th>\n",
       "                        <td id=\"T_18382bca_4447_11eb_af71_acde48001122row6_col0\" class=\"data row6 col0\" >0.232128</td>\n",
       "                        <td id=\"T_18382bca_4447_11eb_af71_acde48001122row6_col1\" class=\"data row6 col1\" >0.020081</td>\n",
       "            </tr>\n",
       "            <tr>\n",
       "                                        <th id=\"T_18382bca_4447_11eb_af71_acde48001122level2_row7\" class=\"row_heading level2 row7\" >0.45</th>\n",
       "                        <td id=\"T_18382bca_4447_11eb_af71_acde48001122row7_col0\" class=\"data row7 col0\" >0.237084</td>\n",
       "                        <td id=\"T_18382bca_4447_11eb_af71_acde48001122row7_col1\" class=\"data row7 col1\" >0.013650</td>\n",
       "            </tr>\n",
       "            <tr>\n",
       "                                        <th id=\"T_18382bca_4447_11eb_af71_acde48001122level2_row8\" class=\"row_heading level2 row8\" >0.6</th>\n",
       "                        <td id=\"T_18382bca_4447_11eb_af71_acde48001122row8_col0\" class=\"data row8 col0\" >0.230653</td>\n",
       "                        <td id=\"T_18382bca_4447_11eb_af71_acde48001122row8_col1\" class=\"data row8 col1\" >0.018711</td>\n",
       "            </tr>\n",
       "            <tr>\n",
       "                        <th id=\"T_18382bca_4447_11eb_af71_acde48001122level0_row9\" class=\"row_heading level0 row9\" rowspan=9>16</th>\n",
       "                        <th id=\"T_18382bca_4447_11eb_af71_acde48001122level1_row9\" class=\"row_heading level1 row9\" rowspan=3>0.05</th>\n",
       "                        <th id=\"T_18382bca_4447_11eb_af71_acde48001122level2_row9\" class=\"row_heading level2 row9\" >0.3</th>\n",
       "                        <td id=\"T_18382bca_4447_11eb_af71_acde48001122row9_col0\" class=\"data row9 col0\" >0.293255</td>\n",
       "                        <td id=\"T_18382bca_4447_11eb_af71_acde48001122row9_col1\" class=\"data row9 col1\" >-0.007802</td>\n",
       "            </tr>\n",
       "            <tr>\n",
       "                                        <th id=\"T_18382bca_4447_11eb_af71_acde48001122level2_row10\" class=\"row_heading level2 row10\" >0.45</th>\n",
       "                        <td id=\"T_18382bca_4447_11eb_af71_acde48001122row10_col0\" class=\"data row10 col0\" >0.320574</td>\n",
       "                        <td id=\"T_18382bca_4447_11eb_af71_acde48001122row10_col1\" class=\"data row10 col1\" >-0.000169</td>\n",
       "            </tr>\n",
       "            <tr>\n",
       "                                        <th id=\"T_18382bca_4447_11eb_af71_acde48001122level2_row11\" class=\"row_heading level2 row11\" >0.6</th>\n",
       "                        <td id=\"T_18382bca_4447_11eb_af71_acde48001122row11_col0\" class=\"data row11 col0\" >0.320697</td>\n",
       "                        <td id=\"T_18382bca_4447_11eb_af71_acde48001122row11_col1\" class=\"data row11 col1\" >0.004846</td>\n",
       "            </tr>\n",
       "            <tr>\n",
       "                                <th id=\"T_18382bca_4447_11eb_af71_acde48001122level1_row12\" class=\"row_heading level1 row12\" rowspan=3>0.1</th>\n",
       "                        <th id=\"T_18382bca_4447_11eb_af71_acde48001122level2_row12\" class=\"row_heading level2 row12\" >0.3</th>\n",
       "                        <td id=\"T_18382bca_4447_11eb_af71_acde48001122row12_col0\" class=\"data row12 col0\" >0.290247</td>\n",
       "                        <td id=\"T_18382bca_4447_11eb_af71_acde48001122row12_col1\" class=\"data row12 col1\" >-0.007121</td>\n",
       "            </tr>\n",
       "            <tr>\n",
       "                                        <th id=\"T_18382bca_4447_11eb_af71_acde48001122level2_row13\" class=\"row_heading level2 row13\" >0.45</th>\n",
       "                        <td id=\"T_18382bca_4447_11eb_af71_acde48001122row13_col0\" class=\"data row13 col0\" >0.318697</td>\n",
       "                        <td id=\"T_18382bca_4447_11eb_af71_acde48001122row13_col1\" class=\"data row13 col1\" >-0.000035</td>\n",
       "            </tr>\n",
       "            <tr>\n",
       "                                        <th id=\"T_18382bca_4447_11eb_af71_acde48001122level2_row14\" class=\"row_heading level2 row14\" >0.6</th>\n",
       "                        <td id=\"T_18382bca_4447_11eb_af71_acde48001122row14_col0\" class=\"data row14 col0\" >0.321263</td>\n",
       "                        <td id=\"T_18382bca_4447_11eb_af71_acde48001122row14_col1\" class=\"data row14 col1\" >0.003490</td>\n",
       "            </tr>\n",
       "            <tr>\n",
       "                                <th id=\"T_18382bca_4447_11eb_af71_acde48001122level1_row15\" class=\"row_heading level1 row15\" rowspan=3>0.2</th>\n",
       "                        <th id=\"T_18382bca_4447_11eb_af71_acde48001122level2_row15\" class=\"row_heading level2 row15\" >0.3</th>\n",
       "                        <td id=\"T_18382bca_4447_11eb_af71_acde48001122row15_col0\" class=\"data row15 col0\" >0.277200</td>\n",
       "                        <td id=\"T_18382bca_4447_11eb_af71_acde48001122row15_col1\" class=\"data row15 col1\" >-0.009775</td>\n",
       "            </tr>\n",
       "            <tr>\n",
       "                                        <th id=\"T_18382bca_4447_11eb_af71_acde48001122level2_row16\" class=\"row_heading level2 row16\" >0.45</th>\n",
       "                        <td id=\"T_18382bca_4447_11eb_af71_acde48001122row16_col0\" class=\"data row16 col0\" >0.322793</td>\n",
       "                        <td id=\"T_18382bca_4447_11eb_af71_acde48001122row16_col1\" class=\"data row16 col1\" >-0.000624</td>\n",
       "            </tr>\n",
       "            <tr>\n",
       "                                        <th id=\"T_18382bca_4447_11eb_af71_acde48001122level2_row17\" class=\"row_heading level2 row17\" >0.6</th>\n",
       "                        <td id=\"T_18382bca_4447_11eb_af71_acde48001122row17_col0\" class=\"data row17 col0\" >0.320697</td>\n",
       "                        <td id=\"T_18382bca_4447_11eb_af71_acde48001122row17_col1\" class=\"data row17 col1\" >0.004846</td>\n",
       "            </tr>\n",
       "            <tr>\n",
       "                        <th id=\"T_18382bca_4447_11eb_af71_acde48001122level0_row18\" class=\"row_heading level0 row18\" rowspan=9>25</th>\n",
       "                        <th id=\"T_18382bca_4447_11eb_af71_acde48001122level1_row18\" class=\"row_heading level1 row18\" rowspan=3>0.05</th>\n",
       "                        <th id=\"T_18382bca_4447_11eb_af71_acde48001122level2_row18\" class=\"row_heading level2 row18\" >0.3</th>\n",
       "                        <td id=\"T_18382bca_4447_11eb_af71_acde48001122row18_col0\" class=\"data row18 col0\" >0.443169</td>\n",
       "                        <td id=\"T_18382bca_4447_11eb_af71_acde48001122row18_col1\" class=\"data row18 col1\" >-0.004166</td>\n",
       "            </tr>\n",
       "            <tr>\n",
       "                                        <th id=\"T_18382bca_4447_11eb_af71_acde48001122level2_row19\" class=\"row_heading level2 row19\" >0.45</th>\n",
       "                        <td id=\"T_18382bca_4447_11eb_af71_acde48001122row19_col0\" class=\"data row19 col0\" >0.472376</td>\n",
       "                        <td id=\"T_18382bca_4447_11eb_af71_acde48001122row19_col1\" class=\"data row19 col1\" >0.006710</td>\n",
       "            </tr>\n",
       "            <tr>\n",
       "                                        <th id=\"T_18382bca_4447_11eb_af71_acde48001122level2_row20\" class=\"row_heading level2 row20\" >0.6</th>\n",
       "                        <td id=\"T_18382bca_4447_11eb_af71_acde48001122row20_col0\" class=\"data row20 col0\" >0.471041</td>\n",
       "                        <td id=\"T_18382bca_4447_11eb_af71_acde48001122row20_col1\" class=\"data row20 col1\" >0.006855</td>\n",
       "            </tr>\n",
       "            <tr>\n",
       "                                <th id=\"T_18382bca_4447_11eb_af71_acde48001122level1_row21\" class=\"row_heading level1 row21\" rowspan=3>0.1</th>\n",
       "                        <th id=\"T_18382bca_4447_11eb_af71_acde48001122level2_row21\" class=\"row_heading level2 row21\" >0.3</th>\n",
       "                        <td id=\"T_18382bca_4447_11eb_af71_acde48001122row21_col0\" class=\"data row21 col0\" >0.427428</td>\n",
       "                        <td id=\"T_18382bca_4447_11eb_af71_acde48001122row21_col1\" class=\"data row21 col1\" >-0.010742</td>\n",
       "            </tr>\n",
       "            <tr>\n",
       "                                        <th id=\"T_18382bca_4447_11eb_af71_acde48001122level2_row22\" class=\"row_heading level2 row22\" >0.45</th>\n",
       "                        <td id=\"T_18382bca_4447_11eb_af71_acde48001122row22_col0\" class=\"data row22 col0\" >0.472364</td>\n",
       "                        <td id=\"T_18382bca_4447_11eb_af71_acde48001122row22_col1\" class=\"data row22 col1\" >0.006713</td>\n",
       "            </tr>\n",
       "            <tr>\n",
       "                                        <th id=\"T_18382bca_4447_11eb_af71_acde48001122level2_row23\" class=\"row_heading level2 row23\" >0.6</th>\n",
       "                        <td id=\"T_18382bca_4447_11eb_af71_acde48001122row23_col0\" class=\"data row23 col0\" >0.472412</td>\n",
       "                        <td id=\"T_18382bca_4447_11eb_af71_acde48001122row23_col1\" class=\"data row23 col1\" >0.006701</td>\n",
       "            </tr>\n",
       "            <tr>\n",
       "                                <th id=\"T_18382bca_4447_11eb_af71_acde48001122level1_row24\" class=\"row_heading level1 row24\" rowspan=3>0.2</th>\n",
       "                        <th id=\"T_18382bca_4447_11eb_af71_acde48001122level2_row24\" class=\"row_heading level2 row24\" >0.3</th>\n",
       "                        <td id=\"T_18382bca_4447_11eb_af71_acde48001122row24_col0\" class=\"data row24 col0\" >0.448598</td>\n",
       "                        <td id=\"T_18382bca_4447_11eb_af71_acde48001122row24_col1\" class=\"data row24 col1\" >-0.002375</td>\n",
       "            </tr>\n",
       "            <tr>\n",
       "                                        <th id=\"T_18382bca_4447_11eb_af71_acde48001122level2_row25\" class=\"row_heading level2 row25\" >0.45</th>\n",
       "                        <td id=\"T_18382bca_4447_11eb_af71_acde48001122row25_col0\" class=\"data row25 col0\" >0.472388</td>\n",
       "                        <td id=\"T_18382bca_4447_11eb_af71_acde48001122row25_col1\" class=\"data row25 col1\" >0.006707</td>\n",
       "            </tr>\n",
       "            <tr>\n",
       "                                        <th id=\"T_18382bca_4447_11eb_af71_acde48001122level2_row26\" class=\"row_heading level2 row26\" >0.6</th>\n",
       "                        <td id=\"T_18382bca_4447_11eb_af71_acde48001122row26_col0\" class=\"data row26 col0\" >0.472400</td>\n",
       "                        <td id=\"T_18382bca_4447_11eb_af71_acde48001122row26_col1\" class=\"data row26 col1\" >0.006704</td>\n",
       "            </tr>\n",
       "    </tbody></table>"
      ]
     },
     "metadata": {},
     "output_type": "display_data"
    }
   ],
   "source": [
    "df1_styler = basic_k_pho_nuh.style.set_table_attributes(\"style='display:inline'\").set_caption('EIT Basic')\n",
    "df2_styler = dual_k_pho_nuh.style.set_table_attributes(\"style='display:inline'\").set_caption('EIT Dual')\n",
    "\n",
    "display_html(df1_styler._repr_html_()+df2_styler._repr_html_(), raw=True)"
   ]
  },
  {
   "cell_type": "code",
   "execution_count": 27,
   "metadata": {},
   "outputs": [],
   "source": [
    "combined_k_pho_nuh=basic_k_pho_nuh.merge(dual_k_pho_nuh,on=[\"k\",\"pho\",\"nuh\"],suffixes=(\"_basic\",\"_dual\"))"
   ]
  },
  {
   "cell_type": "code",
   "execution_count": 35,
   "metadata": {},
   "outputs": [
    {
     "data": {
      "text/plain": [
       "0.6666666666666666"
      ]
     },
     "execution_count": 35,
     "metadata": {},
     "output_type": "execute_result"
    }
   ],
   "source": [
    "((combined_k_pho_nuh[\"return_pu_risk_sample_dual\"]>combined_k_pho_nuh[\"return_pu_risk_sample_basic\"])).mean()"
   ]
  },
  {
   "cell_type": "code",
   "execution_count": 31,
   "metadata": {},
   "outputs": [
    {
     "data": {
      "text/plain": [
       "Index(['return_pu_risk_sample_basic', 'return_pu_risk_oot_basic',\n",
       "       'return_pu_risk_sample_dual', 'return_pu_risk_oot_dual'],\n",
       "      dtype='object')"
      ]
     },
     "execution_count": 31,
     "metadata": {},
     "output_type": "execute_result"
    }
   ],
   "source": [
    "combined_k_pho_nuh.columns"
   ]
  },
  {
   "cell_type": "code",
   "execution_count": 37,
   "metadata": {},
   "outputs": [
    {
     "data": {
      "text/plain": [
       "0.9259259259259259"
      ]
     },
     "execution_count": 37,
     "metadata": {},
     "output_type": "execute_result"
    }
   ],
   "source": [
    "((combined_k_pho_nuh[\"return_pu_risk_oot_dual\"]>combined_k_pho_nuh[\"return_pu_risk_oot_basic\"])).mean()"
   ]
  },
  {
   "cell_type": "code",
   "execution_count": 33,
   "metadata": {},
   "outputs": [
    {
     "data": {
      "text/html": [
       "<div>\n",
       "<style scoped>\n",
       "    .dataframe tbody tr th:only-of-type {\n",
       "        vertical-align: middle;\n",
       "    }\n",
       "\n",
       "    .dataframe tbody tr th {\n",
       "        vertical-align: top;\n",
       "    }\n",
       "\n",
       "    .dataframe thead th {\n",
       "        text-align: right;\n",
       "    }\n",
       "</style>\n",
       "<table border=\"1\" class=\"dataframe\">\n",
       "  <thead>\n",
       "    <tr style=\"text-align: right;\">\n",
       "      <th></th>\n",
       "      <th></th>\n",
       "      <th></th>\n",
       "      <th>return_pu_risk_sample_basic</th>\n",
       "      <th>return_pu_risk_oot_basic</th>\n",
       "      <th>return_pu_risk_sample_dual</th>\n",
       "      <th>return_pu_risk_oot_dual</th>\n",
       "    </tr>\n",
       "    <tr>\n",
       "      <th>k</th>\n",
       "      <th>pho</th>\n",
       "      <th>nuh</th>\n",
       "      <th></th>\n",
       "      <th></th>\n",
       "      <th></th>\n",
       "      <th></th>\n",
       "    </tr>\n",
       "  </thead>\n",
       "  <tbody>\n",
       "    <tr>\n",
       "      <th rowspan=\"9\" valign=\"top\">12</th>\n",
       "      <th rowspan=\"3\" valign=\"top\">0.05</th>\n",
       "      <th>0.30</th>\n",
       "      <td>0.260423</td>\n",
       "      <td>-0.002815</td>\n",
       "      <td>0.226302</td>\n",
       "      <td>0.021254</td>\n",
       "    </tr>\n",
       "    <tr>\n",
       "      <th>0.45</th>\n",
       "      <td>NaN</td>\n",
       "      <td>NaN</td>\n",
       "      <td>0.234465</td>\n",
       "      <td>0.002583</td>\n",
       "    </tr>\n",
       "    <tr>\n",
       "      <th>0.60</th>\n",
       "      <td>0.256674</td>\n",
       "      <td>-0.015257</td>\n",
       "      <td>0.239274</td>\n",
       "      <td>0.014183</td>\n",
       "    </tr>\n",
       "    <tr>\n",
       "      <th rowspan=\"3\" valign=\"top\">0.10</th>\n",
       "      <th>0.30</th>\n",
       "      <td>0.249178</td>\n",
       "      <td>-0.008138</td>\n",
       "      <td>0.220133</td>\n",
       "      <td>0.005450</td>\n",
       "    </tr>\n",
       "    <tr>\n",
       "      <th>0.45</th>\n",
       "      <td>NaN</td>\n",
       "      <td>NaN</td>\n",
       "      <td>0.235800</td>\n",
       "      <td>0.013134</td>\n",
       "    </tr>\n",
       "    <tr>\n",
       "      <th>0.60</th>\n",
       "      <td>0.256674</td>\n",
       "      <td>-0.015257</td>\n",
       "      <td>0.235272</td>\n",
       "      <td>0.007848</td>\n",
       "    </tr>\n",
       "    <tr>\n",
       "      <th rowspan=\"3\" valign=\"top\">0.20</th>\n",
       "      <th>0.30</th>\n",
       "      <td>0.256517</td>\n",
       "      <td>-0.014007</td>\n",
       "      <td>0.232128</td>\n",
       "      <td>0.020081</td>\n",
       "    </tr>\n",
       "    <tr>\n",
       "      <th>0.45</th>\n",
       "      <td>0.256752</td>\n",
       "      <td>-0.015882</td>\n",
       "      <td>0.237084</td>\n",
       "      <td>0.013650</td>\n",
       "    </tr>\n",
       "    <tr>\n",
       "      <th>0.60</th>\n",
       "      <td>0.256674</td>\n",
       "      <td>-0.015257</td>\n",
       "      <td>0.230653</td>\n",
       "      <td>0.018711</td>\n",
       "    </tr>\n",
       "    <tr>\n",
       "      <th rowspan=\"9\" valign=\"top\">16</th>\n",
       "      <th rowspan=\"3\" valign=\"top\">0.05</th>\n",
       "      <th>0.30</th>\n",
       "      <td>0.248717</td>\n",
       "      <td>-0.023835</td>\n",
       "      <td>0.293255</td>\n",
       "      <td>-0.007802</td>\n",
       "    </tr>\n",
       "    <tr>\n",
       "      <th>0.45</th>\n",
       "      <td>0.262161</td>\n",
       "      <td>-0.015790</td>\n",
       "      <td>0.320574</td>\n",
       "      <td>-0.000169</td>\n",
       "    </tr>\n",
       "    <tr>\n",
       "      <th>0.60</th>\n",
       "      <td>0.262150</td>\n",
       "      <td>-0.015753</td>\n",
       "      <td>0.320697</td>\n",
       "      <td>0.004846</td>\n",
       "    </tr>\n",
       "    <tr>\n",
       "      <th rowspan=\"3\" valign=\"top\">0.10</th>\n",
       "      <th>0.30</th>\n",
       "      <td>0.253869</td>\n",
       "      <td>-0.016510</td>\n",
       "      <td>0.290247</td>\n",
       "      <td>-0.007121</td>\n",
       "    </tr>\n",
       "    <tr>\n",
       "      <th>0.45</th>\n",
       "      <td>0.262161</td>\n",
       "      <td>-0.015790</td>\n",
       "      <td>0.318697</td>\n",
       "      <td>-0.000035</td>\n",
       "    </tr>\n",
       "    <tr>\n",
       "      <th>0.60</th>\n",
       "      <td>0.262150</td>\n",
       "      <td>-0.015753</td>\n",
       "      <td>0.321263</td>\n",
       "      <td>0.003490</td>\n",
       "    </tr>\n",
       "    <tr>\n",
       "      <th rowspan=\"3\" valign=\"top\">0.20</th>\n",
       "      <th>0.30</th>\n",
       "      <td>0.253869</td>\n",
       "      <td>-0.016510</td>\n",
       "      <td>0.277200</td>\n",
       "      <td>-0.009775</td>\n",
       "    </tr>\n",
       "    <tr>\n",
       "      <th>0.45</th>\n",
       "      <td>0.262161</td>\n",
       "      <td>-0.015790</td>\n",
       "      <td>0.322793</td>\n",
       "      <td>-0.000624</td>\n",
       "    </tr>\n",
       "    <tr>\n",
       "      <th>0.60</th>\n",
       "      <td>0.262161</td>\n",
       "      <td>-0.015790</td>\n",
       "      <td>0.320697</td>\n",
       "      <td>0.004846</td>\n",
       "    </tr>\n",
       "    <tr>\n",
       "      <th rowspan=\"9\" valign=\"top\">25</th>\n",
       "      <th rowspan=\"3\" valign=\"top\">0.05</th>\n",
       "      <th>0.30</th>\n",
       "      <td>0.262488</td>\n",
       "      <td>-0.011821</td>\n",
       "      <td>0.443169</td>\n",
       "      <td>-0.004166</td>\n",
       "    </tr>\n",
       "    <tr>\n",
       "      <th>0.45</th>\n",
       "      <td>0.262488</td>\n",
       "      <td>-0.011821</td>\n",
       "      <td>0.472376</td>\n",
       "      <td>0.006710</td>\n",
       "    </tr>\n",
       "    <tr>\n",
       "      <th>0.60</th>\n",
       "      <td>0.262488</td>\n",
       "      <td>-0.011821</td>\n",
       "      <td>0.471041</td>\n",
       "      <td>0.006855</td>\n",
       "    </tr>\n",
       "    <tr>\n",
       "      <th rowspan=\"3\" valign=\"top\">0.10</th>\n",
       "      <th>0.30</th>\n",
       "      <td>0.262488</td>\n",
       "      <td>-0.011821</td>\n",
       "      <td>0.427428</td>\n",
       "      <td>-0.010742</td>\n",
       "    </tr>\n",
       "    <tr>\n",
       "      <th>0.45</th>\n",
       "      <td>0.262488</td>\n",
       "      <td>-0.011821</td>\n",
       "      <td>0.472364</td>\n",
       "      <td>0.006713</td>\n",
       "    </tr>\n",
       "    <tr>\n",
       "      <th>0.60</th>\n",
       "      <td>0.262488</td>\n",
       "      <td>-0.011821</td>\n",
       "      <td>0.472412</td>\n",
       "      <td>0.006701</td>\n",
       "    </tr>\n",
       "    <tr>\n",
       "      <th rowspan=\"3\" valign=\"top\">0.20</th>\n",
       "      <th>0.30</th>\n",
       "      <td>0.262488</td>\n",
       "      <td>-0.011821</td>\n",
       "      <td>0.448598</td>\n",
       "      <td>-0.002375</td>\n",
       "    </tr>\n",
       "    <tr>\n",
       "      <th>0.45</th>\n",
       "      <td>0.262488</td>\n",
       "      <td>-0.011821</td>\n",
       "      <td>0.472388</td>\n",
       "      <td>0.006707</td>\n",
       "    </tr>\n",
       "    <tr>\n",
       "      <th>0.60</th>\n",
       "      <td>0.262488</td>\n",
       "      <td>-0.011821</td>\n",
       "      <td>0.472400</td>\n",
       "      <td>0.006704</td>\n",
       "    </tr>\n",
       "  </tbody>\n",
       "</table>\n",
       "</div>"
      ],
      "text/plain": [
       "              return_pu_risk_sample_basic  return_pu_risk_oot_basic  \\\n",
       "k  pho  nuh                                                           \n",
       "12 0.05 0.30                     0.260423                 -0.002815   \n",
       "        0.45                          NaN                       NaN   \n",
       "        0.60                     0.256674                 -0.015257   \n",
       "   0.10 0.30                     0.249178                 -0.008138   \n",
       "        0.45                          NaN                       NaN   \n",
       "        0.60                     0.256674                 -0.015257   \n",
       "   0.20 0.30                     0.256517                 -0.014007   \n",
       "        0.45                     0.256752                 -0.015882   \n",
       "        0.60                     0.256674                 -0.015257   \n",
       "16 0.05 0.30                     0.248717                 -0.023835   \n",
       "        0.45                     0.262161                 -0.015790   \n",
       "        0.60                     0.262150                 -0.015753   \n",
       "   0.10 0.30                     0.253869                 -0.016510   \n",
       "        0.45                     0.262161                 -0.015790   \n",
       "        0.60                     0.262150                 -0.015753   \n",
       "   0.20 0.30                     0.253869                 -0.016510   \n",
       "        0.45                     0.262161                 -0.015790   \n",
       "        0.60                     0.262161                 -0.015790   \n",
       "25 0.05 0.30                     0.262488                 -0.011821   \n",
       "        0.45                     0.262488                 -0.011821   \n",
       "        0.60                     0.262488                 -0.011821   \n",
       "   0.10 0.30                     0.262488                 -0.011821   \n",
       "        0.45                     0.262488                 -0.011821   \n",
       "        0.60                     0.262488                 -0.011821   \n",
       "   0.20 0.30                     0.262488                 -0.011821   \n",
       "        0.45                     0.262488                 -0.011821   \n",
       "        0.60                     0.262488                 -0.011821   \n",
       "\n",
       "              return_pu_risk_sample_dual  return_pu_risk_oot_dual  \n",
       "k  pho  nuh                                                        \n",
       "12 0.05 0.30                    0.226302                 0.021254  \n",
       "        0.45                    0.234465                 0.002583  \n",
       "        0.60                    0.239274                 0.014183  \n",
       "   0.10 0.30                    0.220133                 0.005450  \n",
       "        0.45                    0.235800                 0.013134  \n",
       "        0.60                    0.235272                 0.007848  \n",
       "   0.20 0.30                    0.232128                 0.020081  \n",
       "        0.45                    0.237084                 0.013650  \n",
       "        0.60                    0.230653                 0.018711  \n",
       "16 0.05 0.30                    0.293255                -0.007802  \n",
       "        0.45                    0.320574                -0.000169  \n",
       "        0.60                    0.320697                 0.004846  \n",
       "   0.10 0.30                    0.290247                -0.007121  \n",
       "        0.45                    0.318697                -0.000035  \n",
       "        0.60                    0.321263                 0.003490  \n",
       "   0.20 0.30                    0.277200                -0.009775  \n",
       "        0.45                    0.322793                -0.000624  \n",
       "        0.60                    0.320697                 0.004846  \n",
       "25 0.05 0.30                    0.443169                -0.004166  \n",
       "        0.45                    0.472376                 0.006710  \n",
       "        0.60                    0.471041                 0.006855  \n",
       "   0.10 0.30                    0.427428                -0.010742  \n",
       "        0.45                    0.472364                 0.006713  \n",
       "        0.60                    0.472412                 0.006701  \n",
       "   0.20 0.30                    0.448598                -0.002375  \n",
       "        0.45                    0.472388                 0.006707  \n",
       "        0.60                    0.472400                 0.006704  "
      ]
     },
     "execution_count": 33,
     "metadata": {},
     "output_type": "execute_result"
    }
   ],
   "source": [
    "combined_k_pho_nuh"
   ]
  }
 ],
 "metadata": {
  "kernelspec": {
   "display_name": "Python 3",
   "language": "python",
   "name": "python3"
  },
  "language_info": {
   "codemirror_mode": {
    "name": "ipython",
    "version": 3
   },
   "file_extension": ".py",
   "mimetype": "text/x-python",
   "name": "python",
   "nbconvert_exporter": "python",
   "pygments_lexer": "ipython3",
   "version": "3.8.6"
  }
 },
 "nbformat": 4,
 "nbformat_minor": 4
}
