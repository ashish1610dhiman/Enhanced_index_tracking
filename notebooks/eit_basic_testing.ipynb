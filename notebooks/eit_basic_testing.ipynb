{
 "cells": [
  {
   "cell_type": "code",
   "execution_count": 1,
   "metadata": {},
   "outputs": [],
   "source": [
    "base_path=\"../eit_basic_experiments/exp_0.1\" #Don't add '/' at start and end\n",
    "T=200 #Training time period\n",
    "C=1000000 #Capital available\n",
    "file=1 #Index_file\n",
    "m=8 #Inital Size of Kernel\n",
    "lbuck=2 #Size Of Buckets\n",
    "pho=0.1 #Transaction Cost Proportion\n",
    "lamda=1/(1000*C) # lower_bound for capital invested in jth stock\n",
    "nuh=0.8  # upper_bound\n",
    "xii=1.2 # Limit for Tracking Error\n",
    "k=14 #Cardinality constraint for stocks in portfolio\n",
    "p=3 #If stock not selected in optimal soln in last p iters then it is to be dropped from kernel\n",
    "f=12\n",
    "#cj,cb are declared in script"
   ]
  },
  {
   "cell_type": "code",
   "execution_count": 2,
   "metadata": {},
   "outputs": [],
   "source": [
    "import sys\n",
    "sys.path.insert(0,\"..\") #Add root folder to sys path\n",
    "\n",
    "from eit_basic_experiment import TestEitBasic\n",
    "import time\n",
    "from tqdm.notebook import tqdm\n",
    "from IPython.utils import io\n",
    "from joblib import Parallel, delayed\n",
    "import pandas as pd"
   ]
  },
  {
   "cell_type": "code",
   "execution_count": 3,
   "metadata": {},
   "outputs": [],
   "source": [
    "test_eit_basic=TestEitBasic(output=base_path,T=T,C=C,file=file,m=m,lbuck=lbuck,\\\n",
    "                                        pho=pho,lamda=lamda,nuh=nuh,xii=xii,k=k,p=p,f=f)"
   ]
  },
  {
   "cell_type": "code",
   "execution_count": 4,
   "metadata": {},
   "outputs": [
    {
     "data": {
      "text/plain": [
       "params(output='../eit_basic_experiments/exp_0.1', T=200, C=1000000, file=1, m=8, lbuck=2, pho=0.1, lamda=1e-09, nuh=0.8, xii=1.2, k=14, p=3, f=12)"
      ]
     },
     "execution_count": 4,
     "metadata": {},
     "output_type": "execute_result"
    }
   ],
   "source": [
    "test_eit_basic.give_params()"
   ]
  },
  {
   "cell_type": "code",
   "execution_count": 5,
   "metadata": {},
   "outputs": [
    {
     "name": "stdout",
     "output_type": "stream",
     "text": [
      "+----------------------------------------------------+\n",
      "    Step 1: Solving Linear Relaxation of EIT-Basic\n",
      "+----------------------------------------------------+\n",
      "+----------------------------------------------------+\n",
      "    Step 1 complete in 1.99s\n",
      "+----------------------------------------------------+\n",
      "CPU times: user 5.21 ms, sys: 2.41 ms, total: 7.62 ms\n",
      "Wall time: 1.99 s\n"
     ]
    }
   ],
   "source": [
    "%%time\n",
    "result=test_eit_basic.step_1(from_root=False,verbose=True)"
   ]
  },
  {
   "cell_type": "code",
   "execution_count": 6,
   "metadata": {},
   "outputs": [
    {
     "data": {
      "text/plain": [
       "1653.519570394083"
      ]
     },
     "execution_count": 6,
     "metadata": {},
     "output_type": "execute_result"
    }
   ],
   "source": [
    "result[1]"
   ]
  },
  {
   "cell_type": "code",
   "execution_count": 7,
   "metadata": {},
   "outputs": [
    {
     "name": "stdout",
     "output_type": "stream",
     "text": [
      "+----------------------------------------------------+\n",
      "    Step 2a: Sort Securities and create buckets\n",
      "+----------------------------------------------------+\n"
     ]
    },
    {
     "name": "stderr",
     "output_type": "stream",
     "text": [
      "/Users/ashish1610dhiman/opt/anaconda3/envs/eit_paper/lib/python3.8/site-packages/pulp/pulp.py:1198: UserWarning: Spaces are not permitted in the name. Converted to '_'\n",
      "  warnings.warn(\"Spaces are not permitted in the name. Converted to '_'\")\n",
      "../src/sort_and_buckets.py:34: SettingWithCopyWarning: \n",
      "A value is trying to be set on a copy of a slice from a DataFrame\n",
      "\n",
      "See the caveats in the documentation: https://pandas.pydata.org/pandas-docs/stable/user_guide/indexing.html#returning-a-view-versus-a-copy\n",
      "  not_optimal.sort_values(by=\"value\",ascending=False,inplace=True)\n"
     ]
    }
   ],
   "source": [
    "result_2a=test_eit_basic.step_2a(result[0],result[1],result[2],from_root=False,verbose=True)"
   ]
  },
  {
   "cell_type": "code",
   "execution_count": 8,
   "metadata": {},
   "outputs": [
    {
     "name": "stdout",
     "output_type": "stream",
     "text": [
      "+----------------------------------------------------+\n",
      "     Step 2b: Solve EIT(kernel) and get lower-bound\n",
      "+----------------------------------------------------+\n",
      "Solving EIT(kernel)\n",
      "***************************************************\n",
      "***************************************************\n",
      "\n",
      "Optimisation Status=0,Objective Value=1300.8276541096857\n",
      "OPTIMAL(0), ERROR(-1), INFEASIBLE(1), UNBOUNDED(2)\n"
     ]
    }
   ],
   "source": [
    "result_2b=test_eit_basic.step_2b(kernel=result_2a[0], buckets=result_2a[1], from_root=False, verbose=True)"
   ]
  },
  {
   "cell_type": "code",
   "execution_count": 9,
   "metadata": {},
   "outputs": [
    {
     "name": "stdout",
     "output_type": "stream",
     "text": [
      "+----------------------------------------------------+\n",
      "    Step 3: Execution Phase of Kernel Search\n",
      "+----------------------------------------------------+\n",
      "\n",
      "\n",
      "For bucket=1\n",
      "Solving EIT(kernel+bucket-1)\n",
      "***************************************************\n",
      "Optimisation Status=OptimizationStatus.OPTIMAL,Objective Value=1479.0305487388523\n",
      "OPTIMAL(0), ERROR(-1), INFEASIBLE(1), UNBOUNDED(2)\n",
      "Following stocks from bucket added to kernel:\n",
      "security_15\n",
      "security_29\n",
      "***************************************************\n",
      "Updating Lower Bound\n",
      "Updating Kernel\n",
      "Length of Old Kernel=8\n",
      "Length of Updated Kernel=10\n",
      "Current Length Kernel=10\n",
      "\n",
      "\n",
      "For bucket=2\n",
      "Solving EIT(kernel+bucket-2)\n",
      "***************************************************\n",
      "Optimisation Status=OptimizationStatus.OPTIMAL,Objective Value=1589.7274557883093\n",
      "OPTIMAL(0), ERROR(-1), INFEASIBLE(1), UNBOUNDED(2)\n",
      "Following stocks from bucket added to kernel:\n",
      "security_23\n",
      "security_8\n",
      "***************************************************\n",
      "Updating Lower Bound\n",
      "Updating Kernel\n",
      "Length of Old Kernel=10\n",
      "Length of Updated Kernel=12\n",
      "Current Length Kernel=12\n",
      "\n",
      "\n",
      "For bucket=3\n",
      "Solving EIT(kernel+bucket-3)\n",
      "***************************************************\n",
      "Optimisation Status=OptimizationStatus.OPTIMAL,Objective Value=1628.268633313808\n",
      "OPTIMAL(0), ERROR(-1), INFEASIBLE(1), UNBOUNDED(2)\n",
      "Following stocks from bucket added to kernel:\n",
      "security_17\n",
      "security_25\n",
      "***************************************************\n",
      "Updating Lower Bound\n",
      "Updating Kernel\n",
      "Length of Old Kernel=12\n",
      "Length of Updated Kernel=14\n",
      "Current Length Kernel=14\n",
      "\n",
      "\n",
      "For bucket=4\n",
      "Solving EIT(kernel+bucket-4)\n",
      "***************************************************\n",
      "Optimisation Status=OptimizationStatus.OPTIMAL,Objective Value=1633.8000788145473\n",
      "OPTIMAL(0), ERROR(-1), INFEASIBLE(1), UNBOUNDED(2)\n",
      "Following stocks from bucket added to kernel:\n",
      "security_31\n",
      "***************************************************\n",
      "Updating Lower Bound\n",
      "Updating Kernel\n",
      "Length of Old Kernel=14\n",
      "Length of Updated Kernel=15\n",
      "Current Length Kernel=15\n",
      "\n",
      "\n",
      "For bucket=5\n",
      "Solving EIT(kernel+bucket-5)\n",
      "***************************************************\n",
      "Optimisation Status=OptimizationStatus.INFEASIBLE,Objective Value=None\n",
      "OPTIMAL(0), ERROR(-1), INFEASIBLE(1), UNBOUNDED(2)\n",
      "Following stocks from bucket added to kernel:\n",
      "***************************************************\n",
      "\n",
      "\n",
      "For bucket=6\n",
      "Solving EIT(kernel+bucket-6)\n",
      "***************************************************\n",
      "Optimisation Status=OptimizationStatus.INFEASIBLE,Objective Value=None\n",
      "OPTIMAL(0), ERROR(-1), INFEASIBLE(1), UNBOUNDED(2)\n",
      "Following stocks from bucket added to kernel:\n",
      "***************************************************\n",
      "\n",
      "\n",
      "For bucket=7\n",
      "Solving EIT(kernel+bucket-7)\n",
      "***************************************************\n",
      "Optimisation Status=OptimizationStatus.INFEASIBLE,Objective Value=None\n",
      "OPTIMAL(0), ERROR(-1), INFEASIBLE(1), UNBOUNDED(2)\n",
      "Following stocks from bucket added to kernel:\n",
      "***************************************************\n",
      "\n",
      "\n",
      "For bucket=8\n",
      "Solving EIT(kernel+bucket-8)\n",
      "***************************************************\n",
      "Optimisation Status=OptimizationStatus.INFEASIBLE,Objective Value=None\n",
      "OPTIMAL(0), ERROR(-1), INFEASIBLE(1), UNBOUNDED(2)\n",
      "Following stocks from bucket added to kernel:\n",
      "***************************************************\n",
      "\n",
      "\n",
      "For bucket=9\n",
      "Solving EIT(kernel+bucket-9)\n",
      "***************************************************\n",
      "Optimisation Status=OptimizationStatus.INFEASIBLE,Objective Value=None\n",
      "OPTIMAL(0), ERROR(-1), INFEASIBLE(1), UNBOUNDED(2)\n",
      "Following stocks from bucket added to kernel:\n",
      "***************************************************\n",
      "\n",
      "\n",
      "For bucket=10\n",
      "Solving EIT(kernel+bucket-10)\n",
      "***************************************************\n",
      "Optimisation Status=OptimizationStatus.INFEASIBLE,Objective Value=None\n",
      "OPTIMAL(0), ERROR(-1), INFEASIBLE(1), UNBOUNDED(2)\n",
      "Following stocks from bucket added to kernel:\n",
      "***************************************************\n",
      "\n",
      "\n",
      "For bucket=11\n",
      "Solving EIT(kernel+bucket-11)\n",
      "***************************************************\n",
      "Optimisation Status=OptimizationStatus.INFEASIBLE,Objective Value=None\n",
      "OPTIMAL(0), ERROR(-1), INFEASIBLE(1), UNBOUNDED(2)\n",
      "Following stocks from bucket added to kernel:\n",
      "***************************************************\n",
      "\n",
      "\n",
      "For bucket=12\n",
      "Solving EIT(kernel+bucket-12)\n",
      "***************************************************\n",
      "Optimisation Status=OptimizationStatus.INFEASIBLE,Objective Value=None\n",
      "OPTIMAL(0), ERROR(-1), INFEASIBLE(1), UNBOUNDED(2)\n",
      "Following stocks from bucket added to kernel:\n",
      "***************************************************\n"
     ]
    }
   ],
   "source": [
    "result_3=test_eit_basic.step_3(kernel=result_2a[0], L=result_2a[2],z = result_2b[0],\\\n",
    "                              Nb=result_2a[3], buckets=result_2a[1],\\\n",
    "                              failure = result_2b[1],execution_result = result_2b[-1],from_root=False, verbose=True)"
   ]
  },
  {
   "cell_type": "code",
   "execution_count": 10,
   "metadata": {},
   "outputs": [
    {
     "name": "stdout",
     "output_type": "stream",
     "text": [
      "CPU times: user 17.4 s, sys: 400 ms, total: 17.8 s\n",
      "Wall time: 17.9 s\n"
     ]
    }
   ],
   "source": [
    "%%time\n",
    "%%capture\n",
    "result_df=test_eit_basic.run_experiment(from_root=False,verbose=False);\n",
    "result_df[\"z_linear\"]=test_eit_basic.objective_linear"
   ]
  },
  {
   "cell_type": "code",
   "execution_count": 11,
   "metadata": {},
   "outputs": [
    {
     "data": {
      "text/html": [
       "<div>\n",
       "<style scoped>\n",
       "    .dataframe tbody tr th:only-of-type {\n",
       "        vertical-align: middle;\n",
       "    }\n",
       "\n",
       "    .dataframe tbody tr th {\n",
       "        vertical-align: top;\n",
       "    }\n",
       "\n",
       "    .dataframe thead th {\n",
       "        text-align: right;\n",
       "    }\n",
       "</style>\n",
       "<table border=\"1\" class=\"dataframe\">\n",
       "  <thead>\n",
       "    <tr style=\"text-align: right;\">\n",
       "      <th></th>\n",
       "      <th>bucket</th>\n",
       "      <th>kernel_size</th>\n",
       "      <th>problem_status</th>\n",
       "      <th>z_value</th>\n",
       "      <th>in_excess_return</th>\n",
       "      <th>in_tr_err</th>\n",
       "      <th>out_excess_return</th>\n",
       "      <th>out_tr_err</th>\n",
       "      <th>portfolio_size</th>\n",
       "      <th>z_linear</th>\n",
       "    </tr>\n",
       "  </thead>\n",
       "  <tbody>\n",
       "    <tr>\n",
       "      <th>0</th>\n",
       "      <td>0</td>\n",
       "      <td>8</td>\n",
       "      <td>OptimizationStatus.OPTIMAL</td>\n",
       "      <td>1300.827654</td>\n",
       "      <td>1300.827654</td>\n",
       "      <td>6070.593586</td>\n",
       "      <td>-1200.760969</td>\n",
       "      <td>77870.084195</td>\n",
       "      <td>8</td>\n",
       "      <td>1653.51957</td>\n",
       "    </tr>\n",
       "    <tr>\n",
       "      <th>1</th>\n",
       "      <td>1</td>\n",
       "      <td>10</td>\n",
       "      <td>OptimizationStatus.OPTIMAL</td>\n",
       "      <td>1479.030549</td>\n",
       "      <td>1479.030549</td>\n",
       "      <td>6132.996429</td>\n",
       "      <td>-672.281984</td>\n",
       "      <td>29282.395125</td>\n",
       "      <td>10</td>\n",
       "      <td>1653.51957</td>\n",
       "    </tr>\n",
       "    <tr>\n",
       "      <th>2</th>\n",
       "      <td>2</td>\n",
       "      <td>12</td>\n",
       "      <td>OptimizationStatus.OPTIMAL</td>\n",
       "      <td>1589.727456</td>\n",
       "      <td>1589.727456</td>\n",
       "      <td>6101.203852</td>\n",
       "      <td>-457.331436</td>\n",
       "      <td>68895.694274</td>\n",
       "      <td>12</td>\n",
       "      <td>1653.51957</td>\n",
       "    </tr>\n",
       "    <tr>\n",
       "      <th>3</th>\n",
       "      <td>3</td>\n",
       "      <td>14</td>\n",
       "      <td>OptimizationStatus.OPTIMAL</td>\n",
       "      <td>1628.268633</td>\n",
       "      <td>1628.268633</td>\n",
       "      <td>6102.023306</td>\n",
       "      <td>-679.423036</td>\n",
       "      <td>47861.344100</td>\n",
       "      <td>14</td>\n",
       "      <td>1653.51957</td>\n",
       "    </tr>\n",
       "    <tr>\n",
       "      <th>4</th>\n",
       "      <td>4</td>\n",
       "      <td>15</td>\n",
       "      <td>OptimizationStatus.OPTIMAL</td>\n",
       "      <td>1633.800079</td>\n",
       "      <td>1633.800079</td>\n",
       "      <td>6097.179545</td>\n",
       "      <td>-619.789843</td>\n",
       "      <td>59883.101926</td>\n",
       "      <td>14</td>\n",
       "      <td>1653.51957</td>\n",
       "    </tr>\n",
       "    <tr>\n",
       "      <th>5</th>\n",
       "      <td>5</td>\n",
       "      <td>15</td>\n",
       "      <td>OptimizationStatus.INFEASIBLE</td>\n",
       "      <td>NaN</td>\n",
       "      <td>NaN</td>\n",
       "      <td>NaN</td>\n",
       "      <td>NaN</td>\n",
       "      <td>NaN</td>\n",
       "      <td>None</td>\n",
       "      <td>1653.51957</td>\n",
       "    </tr>\n",
       "    <tr>\n",
       "      <th>6</th>\n",
       "      <td>6</td>\n",
       "      <td>15</td>\n",
       "      <td>OptimizationStatus.INFEASIBLE</td>\n",
       "      <td>NaN</td>\n",
       "      <td>NaN</td>\n",
       "      <td>NaN</td>\n",
       "      <td>NaN</td>\n",
       "      <td>NaN</td>\n",
       "      <td>None</td>\n",
       "      <td>1653.51957</td>\n",
       "    </tr>\n",
       "    <tr>\n",
       "      <th>7</th>\n",
       "      <td>7</td>\n",
       "      <td>15</td>\n",
       "      <td>OptimizationStatus.INFEASIBLE</td>\n",
       "      <td>NaN</td>\n",
       "      <td>NaN</td>\n",
       "      <td>NaN</td>\n",
       "      <td>NaN</td>\n",
       "      <td>NaN</td>\n",
       "      <td>None</td>\n",
       "      <td>1653.51957</td>\n",
       "    </tr>\n",
       "    <tr>\n",
       "      <th>8</th>\n",
       "      <td>8</td>\n",
       "      <td>15</td>\n",
       "      <td>OptimizationStatus.INFEASIBLE</td>\n",
       "      <td>NaN</td>\n",
       "      <td>NaN</td>\n",
       "      <td>NaN</td>\n",
       "      <td>NaN</td>\n",
       "      <td>NaN</td>\n",
       "      <td>None</td>\n",
       "      <td>1653.51957</td>\n",
       "    </tr>\n",
       "    <tr>\n",
       "      <th>9</th>\n",
       "      <td>9</td>\n",
       "      <td>15</td>\n",
       "      <td>OptimizationStatus.INFEASIBLE</td>\n",
       "      <td>NaN</td>\n",
       "      <td>NaN</td>\n",
       "      <td>NaN</td>\n",
       "      <td>NaN</td>\n",
       "      <td>NaN</td>\n",
       "      <td>None</td>\n",
       "      <td>1653.51957</td>\n",
       "    </tr>\n",
       "    <tr>\n",
       "      <th>10</th>\n",
       "      <td>10</td>\n",
       "      <td>15</td>\n",
       "      <td>OptimizationStatus.INFEASIBLE</td>\n",
       "      <td>NaN</td>\n",
       "      <td>NaN</td>\n",
       "      <td>NaN</td>\n",
       "      <td>NaN</td>\n",
       "      <td>NaN</td>\n",
       "      <td>None</td>\n",
       "      <td>1653.51957</td>\n",
       "    </tr>\n",
       "    <tr>\n",
       "      <th>11</th>\n",
       "      <td>11</td>\n",
       "      <td>15</td>\n",
       "      <td>OptimizationStatus.INFEASIBLE</td>\n",
       "      <td>NaN</td>\n",
       "      <td>NaN</td>\n",
       "      <td>NaN</td>\n",
       "      <td>NaN</td>\n",
       "      <td>NaN</td>\n",
       "      <td>None</td>\n",
       "      <td>1653.51957</td>\n",
       "    </tr>\n",
       "    <tr>\n",
       "      <th>12</th>\n",
       "      <td>12</td>\n",
       "      <td>15</td>\n",
       "      <td>OptimizationStatus.INFEASIBLE</td>\n",
       "      <td>NaN</td>\n",
       "      <td>NaN</td>\n",
       "      <td>NaN</td>\n",
       "      <td>NaN</td>\n",
       "      <td>NaN</td>\n",
       "      <td>None</td>\n",
       "      <td>1653.51957</td>\n",
       "    </tr>\n",
       "  </tbody>\n",
       "</table>\n",
       "</div>"
      ],
      "text/plain": [
       "    bucket  kernel_size                 problem_status      z_value  \\\n",
       "0        0            8     OptimizationStatus.OPTIMAL  1300.827654   \n",
       "1        1           10     OptimizationStatus.OPTIMAL  1479.030549   \n",
       "2        2           12     OptimizationStatus.OPTIMAL  1589.727456   \n",
       "3        3           14     OptimizationStatus.OPTIMAL  1628.268633   \n",
       "4        4           15     OptimizationStatus.OPTIMAL  1633.800079   \n",
       "5        5           15  OptimizationStatus.INFEASIBLE          NaN   \n",
       "6        6           15  OptimizationStatus.INFEASIBLE          NaN   \n",
       "7        7           15  OptimizationStatus.INFEASIBLE          NaN   \n",
       "8        8           15  OptimizationStatus.INFEASIBLE          NaN   \n",
       "9        9           15  OptimizationStatus.INFEASIBLE          NaN   \n",
       "10      10           15  OptimizationStatus.INFEASIBLE          NaN   \n",
       "11      11           15  OptimizationStatus.INFEASIBLE          NaN   \n",
       "12      12           15  OptimizationStatus.INFEASIBLE          NaN   \n",
       "\n",
       "    in_excess_return    in_tr_err  out_excess_return    out_tr_err  \\\n",
       "0        1300.827654  6070.593586       -1200.760969  77870.084195   \n",
       "1        1479.030549  6132.996429        -672.281984  29282.395125   \n",
       "2        1589.727456  6101.203852        -457.331436  68895.694274   \n",
       "3        1628.268633  6102.023306        -679.423036  47861.344100   \n",
       "4        1633.800079  6097.179545        -619.789843  59883.101926   \n",
       "5                NaN          NaN                NaN           NaN   \n",
       "6                NaN          NaN                NaN           NaN   \n",
       "7                NaN          NaN                NaN           NaN   \n",
       "8                NaN          NaN                NaN           NaN   \n",
       "9                NaN          NaN                NaN           NaN   \n",
       "10               NaN          NaN                NaN           NaN   \n",
       "11               NaN          NaN                NaN           NaN   \n",
       "12               NaN          NaN                NaN           NaN   \n",
       "\n",
       "   portfolio_size    z_linear  \n",
       "0               8  1653.51957  \n",
       "1              10  1653.51957  \n",
       "2              12  1653.51957  \n",
       "3              14  1653.51957  \n",
       "4              14  1653.51957  \n",
       "5            None  1653.51957  \n",
       "6            None  1653.51957  \n",
       "7            None  1653.51957  \n",
       "8            None  1653.51957  \n",
       "9            None  1653.51957  \n",
       "10           None  1653.51957  \n",
       "11           None  1653.51957  \n",
       "12           None  1653.51957  "
      ]
     },
     "execution_count": 11,
     "metadata": {},
     "output_type": "execute_result"
    }
   ],
   "source": [
    "result_df"
   ]
  },
  {
   "cell_type": "code",
   "execution_count": 12,
   "metadata": {},
   "outputs": [
    {
     "data": {
      "text/plain": [
       "0.21428343630184174"
      ]
     },
     "execution_count": 12,
     "metadata": {},
     "output_type": "execute_result"
    }
   ],
   "source": [
    "1300.827654/6070.593586"
   ]
  },
  {
   "cell_type": "code",
   "execution_count": 13,
   "metadata": {},
   "outputs": [
    {
     "data": {
      "text/plain": [
       "0.267959975090417"
      ]
     },
     "execution_count": 13,
     "metadata": {},
     "output_type": "execute_result"
    }
   ],
   "source": [
    "1633.800079/6097.179545"
   ]
  }
 ],
 "metadata": {
  "kernelspec": {
   "display_name": "Python 3",
   "language": "python",
   "name": "python3"
  },
  "language_info": {
   "codemirror_mode": {
    "name": "ipython",
    "version": 3
   },
   "file_extension": ".py",
   "mimetype": "text/x-python",
   "name": "python",
   "nbconvert_exporter": "python",
   "pygments_lexer": "ipython3",
   "version": "3.8.6"
  }
 },
 "nbformat": 4,
 "nbformat_minor": 4
}
