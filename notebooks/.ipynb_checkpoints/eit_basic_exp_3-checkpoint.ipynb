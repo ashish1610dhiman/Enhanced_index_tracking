{
 "cells": [
  {
   "cell_type": "markdown",
   "metadata": {},
   "source": [
    "### Table for paper, Excess Return and Tracking Err for diff paramter values on 2 index files"
   ]
  },
  {
   "cell_type": "code",
   "execution_count": 1,
   "metadata": {},
   "outputs": [],
   "source": [
    "base_path=\"../eit_basic_experiments/exp_3\" #Don't add '/' at start and end\n",
    "T=200 #Training time period\n",
    "C=1000000 #Capital available\n",
    "file=1 #Index_file\n",
    "m=8 #Inital Size of Kernel\n",
    "lbuck=2 #Size Of Buckets\n",
    "pho=0.1 #Transaction Cost Proportion\n",
    "lamda=1/(1000*C) # lower_bound for capital invested in jth stock\n",
    "nuh=0.8  # upper_bound\n",
    "xii=1.2 # Limit for Tracking Error\n",
    "k=14 #Cardinality constraint for stocks in portfolio\n",
    "p=3 #If stock not selected in optimal soln in last p iters then it is to be dropped from kernel\n",
    "f=12\n",
    "#cj,cb are declared in script"
   ]
  },
  {
   "cell_type": "code",
   "execution_count": 2,
   "metadata": {},
   "outputs": [],
   "source": [
    "import sys\n",
    "sys.path.insert(0,\"..\") #Add root folder to sys path\n",
    "\n",
    "from eit_basic_experiment import TestEitBasic\n",
    "import time\n",
    "from tqdm.notebook import tqdm\n",
    "from IPython.utils import io\n",
    "#from joblib import Parallel, delayed\n",
    "import pandas as pd"
   ]
  },
  {
   "cell_type": "code",
   "execution_count": 3,
   "metadata": {},
   "outputs": [],
   "source": [
    "!rm -r ../eit_basic_experiments/exp_3/*"
   ]
  },
  {
   "cell_type": "markdown",
   "metadata": {},
   "source": [
    "### Loop over files > Loop over paramter values and publish table\n",
    "1. In sample Excess return/Tracking Err\n",
    "2. Out of Sample"
   ]
  },
  {
   "cell_type": "code",
   "execution_count": 4,
   "metadata": {},
   "outputs": [],
   "source": [
    "path_pattern=base_path+\"/file={},pho={},xii={},k={},m={},lbuck={},p={}\""
   ]
  },
  {
   "cell_type": "code",
   "execution_count": null,
   "metadata": {},
   "outputs": [
    {
     "data": {
      "application/vnd.jupyter.widget-view+json": {
       "model_id": "dedf15800ad04fe188976feb2f30b008",
       "version_major": 2,
       "version_minor": 0
      },
      "text/plain": [
       "HBox(children=(HTML(value=''), FloatProgress(value=0.0, max=1458.0), HTML(value='')))"
      ]
     },
     "metadata": {},
     "output_type": "display_data"
    }
   ],
   "source": [
    "%%time\n",
    "result_dict={}\n",
    "with tqdm(total=2*3**6) as pbar:\n",
    "    for file in [1,8]:\n",
    "        for pho in [0.1,0.2,0.5]:\n",
    "            for xii in [1.2,1.3,1.4]:\n",
    "                for k in [10,16,25]:\n",
    "                    for m in [8,12,14]:\n",
    "                        for lbuck in [2,4,5]:\n",
    "                            for p in [1,3,5]:\n",
    "                                output=path_pattern.format(file,pho,xii,k,m,lbuck,p)\n",
    "                                test_eit=TestEitBasic(output=output,T=T,C=C,file=file,m=m,lbuck=lbuck,\\\n",
    "                                                      pho=pho,lamda=lamda,nuh=nuh,xii=xii,k=k,p=p,f=f)\n",
    "                                with io.capture_output() as captured:\n",
    "                                    params=test_eit.give_params()\n",
    "                                    result_df=test_eit.run_experiment(from_root=False,verbose=False);\n",
    "                                    result_df[\"z_linear\"]=test_eit.objective_linear\n",
    "                                    result_dict[params]=result_df\n",
    "                                pbar.update(1)"
   ]
  },
  {
   "cell_type": "code",
   "execution_count": null,
   "metadata": {},
   "outputs": [],
   "source": [
    "final_result=pd.DataFrame()\n",
    "for params,result_df in result_dict.items():\n",
    "    param_part=pd.DataFrame([params])\n",
    "    res_part=pd.DataFrame([result_df.loc[result_df.z_value.idxmax()]])\n",
    "    temp=pd.concat([param_part,res_part.reset_index()],axis=1,ignore_index=False)\n",
    "    final_result=final_result.append(temp)"
   ]
  },
  {
   "cell_type": "code",
   "execution_count": null,
   "metadata": {},
   "outputs": [],
   "source": [
    "final_result.to_csv(base_path+\"/exp_3_results_table.csv\")"
   ]
  }
 ],
 "metadata": {
  "kernelspec": {
   "display_name": "Python 3",
   "language": "python",
   "name": "python3"
  },
  "language_info": {
   "codemirror_mode": {
    "name": "ipython",
    "version": 3
   },
   "file_extension": ".py",
   "mimetype": "text/x-python",
   "name": "python",
   "nbconvert_exporter": "python",
   "pygments_lexer": "ipython3",
   "version": "3.8.6"
  }
 },
 "nbformat": 4,
 "nbformat_minor": 4
}
