{
 "cells": [
  {
   "cell_type": "markdown",
   "metadata": {},
   "source": [
    "### Table for paper, Excess Return and Tracking Err for diff paramter values on 2 index files"
   ]
  },
  {
   "cell_type": "code",
   "execution_count": 1,
   "metadata": {},
   "outputs": [],
   "source": [
    "base_path=\"eit_basic_experiments/exp_2\" #Don't add '/' at start and end\n",
    "T=200 #Training time period\n",
    "C=1000000 #Capital available\n",
    "file=1 #Index_file\n",
    "m=8 #Inital Size of Kernel\n",
    "lbuck=2 #Size Of Buckets\n",
    "pho=0.1 #Transaction Cost Proportion\n",
    "lamda=1/(1000*C) # lower_bound for capital invested in jth stock\n",
    "nuh=0.8  # upper_bound\n",
    "xii=1.2 # Limit for Tracking Error\n",
    "k=14 #Cardinality constraint for stocks in portfolio\n",
    "p=3 #If stock not selected in optimal soln in last p iters then it is to be dropped from kernel\n",
    "f=12\n",
    "#cj,cb are declared in script"
   ]
  },
  {
   "cell_type": "code",
   "execution_count": 2,
   "metadata": {},
   "outputs": [],
   "source": [
    "import sys\n",
    "sys.path.insert(0,\"..\") #Add root folder to sys path\n",
    "\n",
    "from eit_basic_experiment import TestEitBasic\n",
    "import time\n",
    "from IPython.utils import io"
   ]
  },
  {
   "cell_type": "code",
   "execution_count": 3,
   "metadata": {},
   "outputs": [],
   "source": [
    "!rm -r ../eit_basic_experiments/exp_3/*"
   ]
  },
  {
   "cell_type": "markdown",
   "metadata": {},
   "source": [
    "Loop over files > Loop over paramter values and publish table"
   ]
  },
  {
   "cell_type": "code",
   "execution_count": 4,
   "metadata": {},
   "outputs": [],
   "source": [
    "path_pattern=\"../eit_basic_experiments/exp_3\"+\\\n",
    "\"/file={},pho={},xii={},k={},m={},lbuck={},p={}\""
   ]
  },
  {
   "cell_type": "code",
   "execution_count": 5,
   "metadata": {},
   "outputs": [],
   "source": [
    "test_eit=TestEitBasic(output=path_pattern.format(file,pho,xii,k,m,lbuck,p)\\\n",
    "                      ,T=T,C=C,file=file,m=8,lbuck=lbuck,\\\n",
    "                                                  pho=pho,lamda=lamda,nuh=nuh,xii=xii,k=k,p=p,f=f)"
   ]
  },
  {
   "cell_type": "code",
   "execution_count": 6,
   "metadata": {},
   "outputs": [
    {
     "name": "stdout",
     "output_type": "stream",
     "text": [
      "+----------------------------------------------------+\n",
      "    Step 1: Solving Linear Relaxation of EIT-Basic\n",
      "+----------------------------------------------------+\n",
      "+----------------------------------------------------+\n",
      "    Step 1 complete in 2.04s\n",
      "+----------------------------------------------------+\n",
      "+----------------------------------------------------+\n",
      "    Step 2a: Sort Securities and create buckets\n",
      "+----------------------------------------------------+\n"
     ]
    },
    {
     "name": "stderr",
     "output_type": "stream",
     "text": [
      "/Users/ashish1610dhiman/opt/anaconda3/envs/eit_paper/lib/python3.8/site-packages/pulp/pulp.py:1198: UserWarning: Spaces are not permitted in the name. Converted to '_'\n",
      "  warnings.warn(\"Spaces are not permitted in the name. Converted to '_'\")\n",
      "../src/sort_and_buckets.py:34: SettingWithCopyWarning: \n",
      "A value is trying to be set on a copy of a slice from a DataFrame\n",
      "\n",
      "See the caveats in the documentation: https://pandas.pydata.org/pandas-docs/stable/user_guide/indexing.html#returning-a-view-versus-a-copy\n",
      "  not_optimal.sort_values(by=\"value\",ascending=False,inplace=True)\n"
     ]
    },
    {
     "name": "stdout",
     "output_type": "stream",
     "text": [
      "+----------------------------------------------------+\n",
      "     Step 2b: Solve EIT(kernel) and get lower-bound\n",
      "+----------------------------------------------------+\n",
      "Solving EIT(kernel)\n",
      "***************************************************\n",
      "***************************************************\n",
      "\n",
      "Optimisation Status=0,Objective Value=1300.8276541096857\n",
      "OPTIMAL(0), ERROR(-1), INFEASIBLE(1), UNBOUNDED(2)\n",
      "+----------------------------------------------------+\n",
      "    Step 3: Execution Phase of Kernel Search\n",
      "+----------------------------------------------------+\n",
      "\n",
      "\n",
      "For bucket=1\n",
      "Solving EIT(kernel+bucket-1)\n",
      "***************************************************\n",
      "Optimisation Status=OptimizationStatus.OPTIMAL,Objective Value=1479.0305487388523\n",
      "OPTIMAL(0), ERROR(-1), INFEASIBLE(1), UNBOUNDED(2)\n",
      "Following stocks from bucket added to kernel:\n",
      "security_15\n",
      "security_29\n",
      "***************************************************\n",
      "Updating Lower Bound\n",
      "Updating Kernel\n",
      "Length of Old Kernel=8\n",
      "Length of Updated Kernel=10\n",
      "Current Length Kernel=10\n",
      "\n",
      "\n",
      "For bucket=2\n",
      "Solving EIT(kernel+bucket-2)\n",
      "***************************************************\n",
      "Optimisation Status=OptimizationStatus.OPTIMAL,Objective Value=1589.7274557883093\n",
      "OPTIMAL(0), ERROR(-1), INFEASIBLE(1), UNBOUNDED(2)\n",
      "Following stocks from bucket added to kernel:\n",
      "security_23\n",
      "security_8\n",
      "***************************************************\n",
      "Updating Lower Bound\n",
      "Updating Kernel\n",
      "Length of Old Kernel=10\n",
      "Length of Updated Kernel=12\n",
      "Current Length Kernel=12\n",
      "\n",
      "\n",
      "For bucket=3\n",
      "Solving EIT(kernel+bucket-3)\n",
      "***************************************************\n",
      "Optimisation Status=OptimizationStatus.OPTIMAL,Objective Value=1628.268633313808\n",
      "OPTIMAL(0), ERROR(-1), INFEASIBLE(1), UNBOUNDED(2)\n",
      "Following stocks from bucket added to kernel:\n",
      "security_17\n",
      "security_25\n",
      "***************************************************\n",
      "Updating Lower Bound\n",
      "Updating Kernel\n",
      "Length of Old Kernel=12\n",
      "Length of Updated Kernel=14\n",
      "Current Length Kernel=14\n",
      "\n",
      "\n",
      "For bucket=4\n",
      "Solving EIT(kernel+bucket-4)\n",
      "***************************************************\n",
      "Optimisation Status=OptimizationStatus.OPTIMAL,Objective Value=1633.8000788145519\n",
      "OPTIMAL(0), ERROR(-1), INFEASIBLE(1), UNBOUNDED(2)\n",
      "Following stocks from bucket added to kernel:\n",
      "security_31\n",
      "***************************************************\n",
      "Updating Lower Bound\n",
      "Updating Kernel\n",
      "Length of Old Kernel=14\n",
      "Length of Updated Kernel=15\n",
      "Current Length Kernel=15\n",
      "\n",
      "\n",
      "For bucket=5\n",
      "Solving EIT(kernel+bucket-5)\n",
      "***************************************************\n",
      "Optimisation Status=OptimizationStatus.INFEASIBLE,Objective Value=None\n",
      "OPTIMAL(0), ERROR(-1), INFEASIBLE(1), UNBOUNDED(2)\n",
      "Following stocks from bucket added to kernel:\n",
      "***************************************************\n",
      "\n",
      "\n",
      "For bucket=6\n",
      "Solving EIT(kernel+bucket-6)\n",
      "***************************************************\n",
      "Optimisation Status=OptimizationStatus.INFEASIBLE,Objective Value=None\n",
      "OPTIMAL(0), ERROR(-1), INFEASIBLE(1), UNBOUNDED(2)\n",
      "Following stocks from bucket added to kernel:\n",
      "***************************************************\n",
      "\n",
      "\n",
      "For bucket=7\n",
      "Solving EIT(kernel+bucket-7)\n",
      "***************************************************\n",
      "Optimisation Status=OptimizationStatus.INFEASIBLE,Objective Value=None\n",
      "OPTIMAL(0), ERROR(-1), INFEASIBLE(1), UNBOUNDED(2)\n",
      "Following stocks from bucket added to kernel:\n",
      "***************************************************\n",
      "\n",
      "\n",
      "For bucket=8\n",
      "Solving EIT(kernel+bucket-8)\n",
      "***************************************************\n",
      "Optimisation Status=OptimizationStatus.INFEASIBLE,Objective Value=None\n",
      "OPTIMAL(0), ERROR(-1), INFEASIBLE(1), UNBOUNDED(2)\n",
      "Following stocks from bucket added to kernel:\n",
      "***************************************************\n",
      "\n",
      "\n",
      "For bucket=9\n",
      "Solving EIT(kernel+bucket-9)\n",
      "***************************************************\n",
      "Optimisation Status=OptimizationStatus.INFEASIBLE,Objective Value=None\n",
      "OPTIMAL(0), ERROR(-1), INFEASIBLE(1), UNBOUNDED(2)\n",
      "Following stocks from bucket added to kernel:\n",
      "***************************************************\n",
      "\n",
      "\n",
      "For bucket=10\n",
      "Solving EIT(kernel+bucket-10)\n",
      "***************************************************\n",
      "Optimisation Status=OptimizationStatus.INFEASIBLE,Objective Value=None\n",
      "OPTIMAL(0), ERROR(-1), INFEASIBLE(1), UNBOUNDED(2)\n",
      "Following stocks from bucket added to kernel:\n",
      "***************************************************\n",
      "\n",
      "\n",
      "For bucket=11\n",
      "Solving EIT(kernel+bucket-11)\n",
      "***************************************************\n",
      "Optimisation Status=OptimizationStatus.INFEASIBLE,Objective Value=None\n",
      "OPTIMAL(0), ERROR(-1), INFEASIBLE(1), UNBOUNDED(2)\n",
      "Following stocks from bucket added to kernel:\n",
      "***************************************************\n",
      "\n",
      "\n",
      "For bucket=12\n",
      "Solving EIT(kernel+bucket-12)\n",
      "***************************************************\n",
      "Optimisation Status=OptimizationStatus.INFEASIBLE,Objective Value=None\n",
      "OPTIMAL(0), ERROR(-1), INFEASIBLE(1), UNBOUNDED(2)\n",
      "Following stocks from bucket added to kernel:\n",
      "***************************************************\n",
      "+----------------------------------------------------+\n",
      "BEST Objective from EIT:1633.800\n",
      "BEST Objective from Linear Relaxation:1653.520\n",
      "+----------------------------------------------------+\n"
     ]
    }
   ],
   "source": [
    "test_eit.run_experiment(from_root=False);"
   ]
  },
  {
   "cell_type": "code",
   "execution_count": 5,
   "metadata": {},
   "outputs": [
    {
     "ename": "FileNotFoundError",
     "evalue": "[Errno 2] No such file or directory: './input/index-weekly-data/index_1.csv'",
     "output_type": "error",
     "traceback": [
      "\u001b[0;31m---------------------------------------------------------------------------\u001b[0m",
      "\u001b[0;31mFileNotFoundError\u001b[0m                         Traceback (most recent call last)",
      "\u001b[0;32m<ipython-input-5-a519ad87131b>\u001b[0m in \u001b[0;36m<module>\u001b[0;34m\u001b[0m\n\u001b[1;32m     10\u001b[0m                                                   pho=pho,lamda=lamda,nuh=nuh,xii=xii,k=k,p=p,f=f)\n\u001b[1;32m     11\u001b[0m                             \u001b[0;31m#with io.capture_output() as captured:\u001b[0m\u001b[0;34m\u001b[0m\u001b[0;34m\u001b[0m\u001b[0;34m\u001b[0m\u001b[0m\n\u001b[0;32m---> 12\u001b[0;31m                             \u001b[0mresult_dict\u001b[0m\u001b[0;34m[\u001b[0m\u001b[0mpho\u001b[0m\u001b[0;34m]\u001b[0m\u001b[0;34m=\u001b[0m\u001b[0mtest_eit\u001b[0m\u001b[0;34m.\u001b[0m\u001b[0mrun_experiment\u001b[0m\u001b[0;34m(\u001b[0m\u001b[0mfrom_root\u001b[0m\u001b[0;34m=\u001b[0m\u001b[0;32mFalse\u001b[0m\u001b[0;34m,\u001b[0m\u001b[0mverbose\u001b[0m\u001b[0;34m=\u001b[0m\u001b[0;32mFalse\u001b[0m\u001b[0;34m)\u001b[0m\u001b[0;34m;\u001b[0m\u001b[0;34m\u001b[0m\u001b[0;34m\u001b[0m\u001b[0m\n\u001b[0m",
      "\u001b[0;32m~/data_projects/index_tracking_kgp/eit_paper/eit_basic_experiment.py\u001b[0m in \u001b[0;36mrun_experiment\u001b[0;34m(self, from_root, verbose)\u001b[0m\n\u001b[1;32m    195\u001b[0m         \u001b[0mfailure\u001b[0m\u001b[0;34m,\u001b[0m \u001b[0mz_lp\u001b[0m\u001b[0;34m,\u001b[0m \u001b[0mresult_lp\u001b[0m \u001b[0;34m=\u001b[0m \u001b[0mself\u001b[0m\u001b[0;34m.\u001b[0m\u001b[0mstep_1\u001b[0m\u001b[0;34m(\u001b[0m\u001b[0mfrom_root\u001b[0m\u001b[0;34m=\u001b[0m\u001b[0mfrom_root\u001b[0m\u001b[0;34m,\u001b[0m\u001b[0mverbose\u001b[0m\u001b[0;34m=\u001b[0m\u001b[0mverbose\u001b[0m\u001b[0;34m)\u001b[0m\u001b[0;34m\u001b[0m\u001b[0;34m\u001b[0m\u001b[0m\n\u001b[1;32m    196\u001b[0m         \u001b[0;32mif\u001b[0m  \u001b[0;32mnot\u001b[0m \u001b[0mfailure\u001b[0m\u001b[0;34m:\u001b[0m\u001b[0;34m\u001b[0m\u001b[0;34m\u001b[0m\u001b[0m\n\u001b[0;32m--> 197\u001b[0;31m             \u001b[0mkernel\u001b[0m\u001b[0;34m,\u001b[0m \u001b[0mbuckets\u001b[0m\u001b[0;34m,\u001b[0m \u001b[0mL\u001b[0m\u001b[0;34m,\u001b[0m \u001b[0mNb\u001b[0m \u001b[0;34m=\u001b[0m \u001b[0mself\u001b[0m\u001b[0;34m.\u001b[0m\u001b[0mstep_2a\u001b[0m\u001b[0;34m(\u001b[0m\u001b[0mfailure\u001b[0m\u001b[0;34m,\u001b[0m \u001b[0mz_lp\u001b[0m\u001b[0;34m,\u001b[0m \u001b[0mresult_lp\u001b[0m\u001b[0;34m,\u001b[0m\u001b[0mverbose\u001b[0m\u001b[0;34m=\u001b[0m\u001b[0mverbose\u001b[0m\u001b[0;34m)\u001b[0m\u001b[0;34m\u001b[0m\u001b[0;34m\u001b[0m\u001b[0m\n\u001b[0m\u001b[1;32m    198\u001b[0m             \u001b[0mz\u001b[0m\u001b[0;34m,\u001b[0m \u001b[0mfailure\u001b[0m\u001b[0;34m,\u001b[0m\u001b[0mexecution_result\u001b[0m \u001b[0;34m=\u001b[0m \u001b[0mself\u001b[0m\u001b[0;34m.\u001b[0m\u001b[0mstep_2b\u001b[0m\u001b[0;34m(\u001b[0m\u001b[0mkernel\u001b[0m\u001b[0;34m,\u001b[0m \u001b[0mbuckets\u001b[0m\u001b[0;34m,\u001b[0m \u001b[0mverbose\u001b[0m\u001b[0;34m=\u001b[0m\u001b[0mverbose\u001b[0m\u001b[0;34m)\u001b[0m\u001b[0;34m\u001b[0m\u001b[0;34m\u001b[0m\u001b[0m\n\u001b[1;32m    199\u001b[0m             \u001b[0mexecution_result\u001b[0m\u001b[0;34m=\u001b[0m\u001b[0mself\u001b[0m\u001b[0;34m.\u001b[0m\u001b[0mstep_3\u001b[0m\u001b[0;34m(\u001b[0m\u001b[0mkernel\u001b[0m\u001b[0;34m,\u001b[0m \u001b[0mL\u001b[0m\u001b[0;34m,\u001b[0m \u001b[0mz\u001b[0m\u001b[0;34m,\u001b[0m \u001b[0mNb\u001b[0m\u001b[0;34m,\u001b[0m \u001b[0mbuckets\u001b[0m\u001b[0;34m,\u001b[0m \u001b[0mfailure\u001b[0m\u001b[0;34m,\u001b[0m\u001b[0mexecution_result\u001b[0m\u001b[0;34m,\u001b[0m \u001b[0mverbose\u001b[0m\u001b[0;34m=\u001b[0m\u001b[0mverbose\u001b[0m\u001b[0;34m)\u001b[0m\u001b[0;34m\u001b[0m\u001b[0;34m\u001b[0m\u001b[0m\n",
      "\u001b[0;32m~/data_projects/index_tracking_kgp/eit_paper/eit_basic_experiment.py\u001b[0m in \u001b[0;36mstep_2a\u001b[0;34m(self, failure, z_lp, result_lp, verbose)\u001b[0m\n\u001b[1;32m     58\u001b[0m         \u001b[0;32mimport\u001b[0m \u001b[0msrc\u001b[0m\u001b[0;34m.\u001b[0m\u001b[0msort_and_buckets\u001b[0m\u001b[0;34m\u001b[0m\u001b[0;34m\u001b[0m\u001b[0m\n\u001b[1;32m     59\u001b[0m         \u001b[0;31m# Create dummy problem using PULP\u001b[0m\u001b[0;34m\u001b[0m\u001b[0;34m\u001b[0m\u001b[0;34m\u001b[0m\u001b[0m\n\u001b[0;32m---> 60\u001b[0;31m         \u001b[0mLP\u001b[0m\u001b[0;34m,\u001b[0m \u001b[0mq_T\u001b[0m \u001b[0;34m=\u001b[0m \u001b[0msrc\u001b[0m\u001b[0;34m.\u001b[0m\u001b[0msort_and_buckets\u001b[0m\u001b[0;34m.\u001b[0m\u001b[0mdummy_problem\u001b[0m\u001b[0;34m(\u001b[0m\u001b[0mself\u001b[0m\u001b[0;34m.\u001b[0m\u001b[0mT\u001b[0m\u001b[0;34m,\u001b[0m \u001b[0mself\u001b[0m\u001b[0;34m.\u001b[0m\u001b[0mC\u001b[0m\u001b[0;34m,\u001b[0m \u001b[0mself\u001b[0m\u001b[0;34m.\u001b[0m\u001b[0mfile\u001b[0m\u001b[0;34m)\u001b[0m\u001b[0;34m\u001b[0m\u001b[0;34m\u001b[0m\u001b[0m\n\u001b[0m\u001b[1;32m     61\u001b[0m         \u001b[0mq_T\u001b[0m\u001b[0;34m.\u001b[0m\u001b[0mdrop\u001b[0m\u001b[0;34m(\u001b[0m\u001b[0;34m\"index\"\u001b[0m\u001b[0;34m,\u001b[0m \u001b[0minplace\u001b[0m\u001b[0;34m=\u001b[0m\u001b[0;32mTrue\u001b[0m\u001b[0;34m)\u001b[0m\u001b[0;34m\u001b[0m\u001b[0;34m\u001b[0m\u001b[0m\n\u001b[1;32m     62\u001b[0m         \u001b[0mobjective\u001b[0m \u001b[0;34m=\u001b[0m \u001b[0mLP\u001b[0m\u001b[0;34m.\u001b[0m\u001b[0mobjective\u001b[0m\u001b[0;34m\u001b[0m\u001b[0;34m\u001b[0m\u001b[0m\n",
      "\u001b[0;32m~/data_projects/index_tracking_kgp/eit_paper/src/sort_and_buckets.py\u001b[0m in \u001b[0;36mdummy_problem\u001b[0;34m(T, C, file)\u001b[0m\n\u001b[1;32m     68\u001b[0m     \u001b[0;31m#from src.sort_and_buckets import excess_return\u001b[0m\u001b[0;34m\u001b[0m\u001b[0;34m\u001b[0m\u001b[0;34m\u001b[0m\u001b[0m\n\u001b[1;32m     69\u001b[0m     \u001b[0;31m#import pandas as pd\u001b[0m\u001b[0;34m\u001b[0m\u001b[0;34m\u001b[0m\u001b[0;34m\u001b[0m\u001b[0m\n\u001b[0;32m---> 70\u001b[0;31m     \u001b[0mprice\u001b[0m\u001b[0;34m=\u001b[0m\u001b[0mpd\u001b[0m\u001b[0;34m.\u001b[0m\u001b[0mread_csv\u001b[0m\u001b[0;34m(\u001b[0m\u001b[0;34m\"./input/index-weekly-data/index_{}.csv\"\u001b[0m\u001b[0;34m.\u001b[0m\u001b[0mformat\u001b[0m\u001b[0;34m(\u001b[0m\u001b[0mfile\u001b[0m\u001b[0;34m)\u001b[0m\u001b[0;34m)\u001b[0m\u001b[0;34m\u001b[0m\u001b[0;34m\u001b[0m\u001b[0m\n\u001b[0m\u001b[1;32m     71\u001b[0m     \u001b[0mprice\u001b[0m\u001b[0;34m=\u001b[0m\u001b[0mprice\u001b[0m\u001b[0;34m[\u001b[0m\u001b[0;36m0\u001b[0m\u001b[0;34m:\u001b[0m\u001b[0mT\u001b[0m\u001b[0;34m+\u001b[0m\u001b[0;36m1\u001b[0m\u001b[0;34m]\u001b[0m\u001b[0;34m\u001b[0m\u001b[0;34m\u001b[0m\u001b[0m\n\u001b[1;32m     72\u001b[0m     \u001b[0mreturns\u001b[0m\u001b[0;34m=\u001b[0m\u001b[0;34m(\u001b[0m\u001b[0mprice\u001b[0m\u001b[0;34m-\u001b[0m\u001b[0mprice\u001b[0m\u001b[0;34m.\u001b[0m\u001b[0mshift\u001b[0m\u001b[0;34m(\u001b[0m\u001b[0;36m1\u001b[0m\u001b[0;34m)\u001b[0m\u001b[0;34m)\u001b[0m\u001b[0;34m/\u001b[0m\u001b[0mprice\u001b[0m\u001b[0;34m.\u001b[0m\u001b[0mshift\u001b[0m\u001b[0;34m(\u001b[0m\u001b[0;36m1\u001b[0m\u001b[0;34m)\u001b[0m\u001b[0;34m\u001b[0m\u001b[0;34m\u001b[0m\u001b[0m\n",
      "\u001b[0;32m~/opt/anaconda3/envs/eit_paper/lib/python3.8/site-packages/pandas/io/parsers.py\u001b[0m in \u001b[0;36mread_csv\u001b[0;34m(filepath_or_buffer, sep, delimiter, header, names, index_col, usecols, squeeze, prefix, mangle_dupe_cols, dtype, engine, converters, true_values, false_values, skipinitialspace, skiprows, skipfooter, nrows, na_values, keep_default_na, na_filter, verbose, skip_blank_lines, parse_dates, infer_datetime_format, keep_date_col, date_parser, dayfirst, cache_dates, iterator, chunksize, compression, thousands, decimal, lineterminator, quotechar, quoting, doublequote, escapechar, comment, encoding, dialect, error_bad_lines, warn_bad_lines, delim_whitespace, low_memory, memory_map, float_precision)\u001b[0m\n\u001b[1;32m    686\u001b[0m     )\n\u001b[1;32m    687\u001b[0m \u001b[0;34m\u001b[0m\u001b[0m\n\u001b[0;32m--> 688\u001b[0;31m     \u001b[0;32mreturn\u001b[0m \u001b[0m_read\u001b[0m\u001b[0;34m(\u001b[0m\u001b[0mfilepath_or_buffer\u001b[0m\u001b[0;34m,\u001b[0m \u001b[0mkwds\u001b[0m\u001b[0;34m)\u001b[0m\u001b[0;34m\u001b[0m\u001b[0;34m\u001b[0m\u001b[0m\n\u001b[0m\u001b[1;32m    689\u001b[0m \u001b[0;34m\u001b[0m\u001b[0m\n\u001b[1;32m    690\u001b[0m \u001b[0;34m\u001b[0m\u001b[0m\n",
      "\u001b[0;32m~/opt/anaconda3/envs/eit_paper/lib/python3.8/site-packages/pandas/io/parsers.py\u001b[0m in \u001b[0;36m_read\u001b[0;34m(filepath_or_buffer, kwds)\u001b[0m\n\u001b[1;32m    452\u001b[0m \u001b[0;34m\u001b[0m\u001b[0m\n\u001b[1;32m    453\u001b[0m     \u001b[0;31m# Create the parser.\u001b[0m\u001b[0;34m\u001b[0m\u001b[0;34m\u001b[0m\u001b[0;34m\u001b[0m\u001b[0m\n\u001b[0;32m--> 454\u001b[0;31m     \u001b[0mparser\u001b[0m \u001b[0;34m=\u001b[0m \u001b[0mTextFileReader\u001b[0m\u001b[0;34m(\u001b[0m\u001b[0mfp_or_buf\u001b[0m\u001b[0;34m,\u001b[0m \u001b[0;34m**\u001b[0m\u001b[0mkwds\u001b[0m\u001b[0;34m)\u001b[0m\u001b[0;34m\u001b[0m\u001b[0;34m\u001b[0m\u001b[0m\n\u001b[0m\u001b[1;32m    455\u001b[0m \u001b[0;34m\u001b[0m\u001b[0m\n\u001b[1;32m    456\u001b[0m     \u001b[0;32mif\u001b[0m \u001b[0mchunksize\u001b[0m \u001b[0;32mor\u001b[0m \u001b[0miterator\u001b[0m\u001b[0;34m:\u001b[0m\u001b[0;34m\u001b[0m\u001b[0;34m\u001b[0m\u001b[0m\n",
      "\u001b[0;32m~/opt/anaconda3/envs/eit_paper/lib/python3.8/site-packages/pandas/io/parsers.py\u001b[0m in \u001b[0;36m__init__\u001b[0;34m(self, f, engine, **kwds)\u001b[0m\n\u001b[1;32m    946\u001b[0m             \u001b[0mself\u001b[0m\u001b[0;34m.\u001b[0m\u001b[0moptions\u001b[0m\u001b[0;34m[\u001b[0m\u001b[0;34m\"has_index_names\"\u001b[0m\u001b[0;34m]\u001b[0m \u001b[0;34m=\u001b[0m \u001b[0mkwds\u001b[0m\u001b[0;34m[\u001b[0m\u001b[0;34m\"has_index_names\"\u001b[0m\u001b[0;34m]\u001b[0m\u001b[0;34m\u001b[0m\u001b[0;34m\u001b[0m\u001b[0m\n\u001b[1;32m    947\u001b[0m \u001b[0;34m\u001b[0m\u001b[0m\n\u001b[0;32m--> 948\u001b[0;31m         \u001b[0mself\u001b[0m\u001b[0;34m.\u001b[0m\u001b[0m_make_engine\u001b[0m\u001b[0;34m(\u001b[0m\u001b[0mself\u001b[0m\u001b[0;34m.\u001b[0m\u001b[0mengine\u001b[0m\u001b[0;34m)\u001b[0m\u001b[0;34m\u001b[0m\u001b[0;34m\u001b[0m\u001b[0m\n\u001b[0m\u001b[1;32m    949\u001b[0m \u001b[0;34m\u001b[0m\u001b[0m\n\u001b[1;32m    950\u001b[0m     \u001b[0;32mdef\u001b[0m \u001b[0mclose\u001b[0m\u001b[0;34m(\u001b[0m\u001b[0mself\u001b[0m\u001b[0;34m)\u001b[0m\u001b[0;34m:\u001b[0m\u001b[0;34m\u001b[0m\u001b[0;34m\u001b[0m\u001b[0m\n",
      "\u001b[0;32m~/opt/anaconda3/envs/eit_paper/lib/python3.8/site-packages/pandas/io/parsers.py\u001b[0m in \u001b[0;36m_make_engine\u001b[0;34m(self, engine)\u001b[0m\n\u001b[1;32m   1178\u001b[0m     \u001b[0;32mdef\u001b[0m \u001b[0m_make_engine\u001b[0m\u001b[0;34m(\u001b[0m\u001b[0mself\u001b[0m\u001b[0;34m,\u001b[0m \u001b[0mengine\u001b[0m\u001b[0;34m=\u001b[0m\u001b[0;34m\"c\"\u001b[0m\u001b[0;34m)\u001b[0m\u001b[0;34m:\u001b[0m\u001b[0;34m\u001b[0m\u001b[0;34m\u001b[0m\u001b[0m\n\u001b[1;32m   1179\u001b[0m         \u001b[0;32mif\u001b[0m \u001b[0mengine\u001b[0m \u001b[0;34m==\u001b[0m \u001b[0;34m\"c\"\u001b[0m\u001b[0;34m:\u001b[0m\u001b[0;34m\u001b[0m\u001b[0;34m\u001b[0m\u001b[0m\n\u001b[0;32m-> 1180\u001b[0;31m             \u001b[0mself\u001b[0m\u001b[0;34m.\u001b[0m\u001b[0m_engine\u001b[0m \u001b[0;34m=\u001b[0m \u001b[0mCParserWrapper\u001b[0m\u001b[0;34m(\u001b[0m\u001b[0mself\u001b[0m\u001b[0;34m.\u001b[0m\u001b[0mf\u001b[0m\u001b[0;34m,\u001b[0m \u001b[0;34m**\u001b[0m\u001b[0mself\u001b[0m\u001b[0;34m.\u001b[0m\u001b[0moptions\u001b[0m\u001b[0;34m)\u001b[0m\u001b[0;34m\u001b[0m\u001b[0;34m\u001b[0m\u001b[0m\n\u001b[0m\u001b[1;32m   1181\u001b[0m         \u001b[0;32melse\u001b[0m\u001b[0;34m:\u001b[0m\u001b[0;34m\u001b[0m\u001b[0;34m\u001b[0m\u001b[0m\n\u001b[1;32m   1182\u001b[0m             \u001b[0;32mif\u001b[0m \u001b[0mengine\u001b[0m \u001b[0;34m==\u001b[0m \u001b[0;34m\"python\"\u001b[0m\u001b[0;34m:\u001b[0m\u001b[0;34m\u001b[0m\u001b[0;34m\u001b[0m\u001b[0m\n",
      "\u001b[0;32m~/opt/anaconda3/envs/eit_paper/lib/python3.8/site-packages/pandas/io/parsers.py\u001b[0m in \u001b[0;36m__init__\u001b[0;34m(self, src, **kwds)\u001b[0m\n\u001b[1;32m   2008\u001b[0m         \u001b[0mkwds\u001b[0m\u001b[0;34m[\u001b[0m\u001b[0;34m\"usecols\"\u001b[0m\u001b[0;34m]\u001b[0m \u001b[0;34m=\u001b[0m \u001b[0mself\u001b[0m\u001b[0;34m.\u001b[0m\u001b[0musecols\u001b[0m\u001b[0;34m\u001b[0m\u001b[0;34m\u001b[0m\u001b[0m\n\u001b[1;32m   2009\u001b[0m \u001b[0;34m\u001b[0m\u001b[0m\n\u001b[0;32m-> 2010\u001b[0;31m         \u001b[0mself\u001b[0m\u001b[0;34m.\u001b[0m\u001b[0m_reader\u001b[0m \u001b[0;34m=\u001b[0m \u001b[0mparsers\u001b[0m\u001b[0;34m.\u001b[0m\u001b[0mTextReader\u001b[0m\u001b[0;34m(\u001b[0m\u001b[0msrc\u001b[0m\u001b[0;34m,\u001b[0m \u001b[0;34m**\u001b[0m\u001b[0mkwds\u001b[0m\u001b[0;34m)\u001b[0m\u001b[0;34m\u001b[0m\u001b[0;34m\u001b[0m\u001b[0m\n\u001b[0m\u001b[1;32m   2011\u001b[0m         \u001b[0mself\u001b[0m\u001b[0;34m.\u001b[0m\u001b[0munnamed_cols\u001b[0m \u001b[0;34m=\u001b[0m \u001b[0mself\u001b[0m\u001b[0;34m.\u001b[0m\u001b[0m_reader\u001b[0m\u001b[0;34m.\u001b[0m\u001b[0munnamed_cols\u001b[0m\u001b[0;34m\u001b[0m\u001b[0;34m\u001b[0m\u001b[0m\n\u001b[1;32m   2012\u001b[0m \u001b[0;34m\u001b[0m\u001b[0m\n",
      "\u001b[0;32mpandas/_libs/parsers.pyx\u001b[0m in \u001b[0;36mpandas._libs.parsers.TextReader.__cinit__\u001b[0;34m()\u001b[0m\n",
      "\u001b[0;32mpandas/_libs/parsers.pyx\u001b[0m in \u001b[0;36mpandas._libs.parsers.TextReader._setup_parser_source\u001b[0;34m()\u001b[0m\n",
      "\u001b[0;31mFileNotFoundError\u001b[0m: [Errno 2] No such file or directory: './input/index-weekly-data/index_1.csv'"
     ]
    }
   ],
   "source": [
    "for file in [1,8]:\n",
    "    for pho in [0.1,0.2,0.5]:\n",
    "        for xii in [1.2,1.3,1.4]:\n",
    "            for k in [10,16,25]:\n",
    "                for m in [8,12,14]:\n",
    "                    for lbuck in [2,4,5]:\n",
    "                        for p in [1,3,5]:\n",
    "                            output=path_pattern.format(file,pho,xii,k,m,lbuck,p)\n",
    "                            test_eit=TestEitBasic(output=output,T=T,C=C,file=file,m=8,lbuck=lbuck,\\\n",
    "                                                  pho=pho,lamda=lamda,nuh=nuh,xii=xii,k=k,p=p,f=f)\n",
    "                            #with io.capture_output() as captured:\n",
    "                            result_dict[pho]=test_eit.run_experiment(from_root=False,verbose=False);"
   ]
  },
  {
   "cell_type": "code",
   "execution_count": 13,
   "metadata": {},
   "outputs": [
    {
     "name": "stdout",
     "output_type": "stream",
     "text": [
      "+----------------------------------------------------+\n",
      "    Step 1: Solving Linear Relaxation of EIT-Basic\n",
      "+----------------------------------------------------+\n"
     ]
    },
    {
     "ename": "AssertionError",
     "evalue": "Error in linear relaxation",
     "output_type": "error",
     "traceback": [
      "\u001b[0;31m---------------------------------------------------------------------------\u001b[0m",
      "\u001b[0;31mAssertionError\u001b[0m                            Traceback (most recent call last)",
      "\u001b[0;32m<ipython-input-13-d208a484be07>\u001b[0m in \u001b[0;36m<module>\u001b[0;34m\u001b[0m\n\u001b[0;32m----> 1\u001b[0;31m \u001b[0mtest_eit\u001b[0m\u001b[0;34m.\u001b[0m\u001b[0mstep_1\u001b[0m\u001b[0;34m(\u001b[0m\u001b[0;34m)\u001b[0m\u001b[0;34m\u001b[0m\u001b[0;34m\u001b[0m\u001b[0m\n\u001b[0m",
      "\u001b[0;32m~/data_projects/index_tracking_kgp/eit_paper/eit_basic_experiment.py\u001b[0m in \u001b[0;36mstep_1\u001b[0;34m(self, from_root, verbose)\u001b[0m\n\u001b[1;32m     33\u001b[0m                                self.lamda, self.f, self.output))\n\u001b[1;32m     34\u001b[0m         \u001b[0;31m#print (out)\u001b[0m\u001b[0;34m\u001b[0m\u001b[0;34m\u001b[0m\u001b[0;34m\u001b[0m\u001b[0m\n\u001b[0;32m---> 35\u001b[0;31m         \u001b[0;32massert\u001b[0m \u001b[0mout\u001b[0m \u001b[0;34m==\u001b[0m \u001b[0;36m0\u001b[0m\u001b[0;34m,\u001b[0m \u001b[0;34m\"Error in linear relaxation\"\u001b[0m\u001b[0;34m\u001b[0m\u001b[0;34m\u001b[0m\u001b[0m\n\u001b[0m\u001b[1;32m     36\u001b[0m         \u001b[0mtext_file\u001b[0m \u001b[0;34m=\u001b[0m \u001b[0mopen\u001b[0m\u001b[0;34m(\u001b[0m\u001b[0mself\u001b[0m\u001b[0;34m.\u001b[0m\u001b[0moutput\u001b[0m \u001b[0;34m+\u001b[0m \u001b[0;34m\"/EIT_LP_details.txt\"\u001b[0m\u001b[0;34m)\u001b[0m\u001b[0;34m\u001b[0m\u001b[0;34m\u001b[0m\u001b[0m\n\u001b[1;32m     37\u001b[0m         \u001b[0mlines\u001b[0m \u001b[0;34m=\u001b[0m \u001b[0mtext_file\u001b[0m\u001b[0;34m.\u001b[0m\u001b[0mreadlines\u001b[0m\u001b[0;34m(\u001b[0m\u001b[0;34m)\u001b[0m\u001b[0;34m\u001b[0m\u001b[0;34m\u001b[0m\u001b[0m\n",
      "\u001b[0;31mAssertionError\u001b[0m: Error in linear relaxation"
     ]
    }
   ],
   "source": [
    "test_eit.step_1()"
   ]
  },
  {
   "cell_type": "code",
   "execution_count": 11,
   "metadata": {},
   "outputs": [
    {
     "name": "stdout",
     "output_type": "stream",
     "text": [
      "Running Linear Relaxation of EIT ...\n",
      "Error, Wrong no. of arguments=1, using default arguments\n",
      "/Users/ashish1610dhiman/data_projects/index_tracking_kgp/eit_paper/notebooks\n",
      "Solving LP(EIT)\n",
      "***************************************************\n",
      "Welcome to the CBC MILP Solver \n",
      "Version: Trunk\n",
      "Build Date: Sep  8 2020 \n",
      "\n",
      "Starting solution of the Linear programming problem using Dual Simplex\n",
      "\n",
      "Coin0506I Presolve 290 (-57) rows, 498 (-57) columns and 7332 (-171) elements\n",
      "Clp0014I Perturbing problem by 0.001% of 0.74750553 - largest nonzero change 0.00027168471 ( 0.83509049%) - largest zero change 0.00019866551\n",
      "Clp0000I Optimal - objective value 5521.339\n",
      "Coin0511I After Postsolve, objective 5521.339, infeasibilities - dual 0 (0), primal 0 (0)\n",
      "Clp0032I Optimal objective 5521.338971 - 293 iterations time 0.012, Presolve 0.00\n",
      "***************************************************\n",
      "\n",
      "Optimisation Status=0\n",
      "OPTIMAL(0), ERROR(-1), INFEASIBLE(1), UNBOUNDED(2)\n"
     ]
    }
   ],
   "source": [
    "!python ../src/linear_relaxation.py"
   ]
  },
  {
   "cell_type": "code",
   "execution_count": null,
   "metadata": {},
   "outputs": [],
   "source": []
  },
  {
   "cell_type": "code",
   "execution_count": null,
   "metadata": {},
   "outputs": [],
   "source": []
  },
  {
   "cell_type": "code",
   "execution_count": null,
   "metadata": {},
   "outputs": [],
   "source": []
  },
  {
   "cell_type": "code",
   "execution_count": null,
   "metadata": {},
   "outputs": [],
   "source": []
  },
  {
   "cell_type": "code",
   "execution_count": null,
   "metadata": {},
   "outputs": [],
   "source": []
  },
  {
   "cell_type": "code",
   "execution_count": null,
   "metadata": {},
   "outputs": [],
   "source": []
  },
  {
   "cell_type": "code",
   "execution_count": null,
   "metadata": {},
   "outputs": [],
   "source": []
  }
 ],
 "metadata": {
  "kernelspec": {
   "display_name": "Python 3",
   "language": "python",
   "name": "python3"
  },
  "language_info": {
   "codemirror_mode": {
    "name": "ipython",
    "version": 3
   },
   "file_extension": ".py",
   "mimetype": "text/x-python",
   "name": "python",
   "nbconvert_exporter": "python",
   "pygments_lexer": "ipython3",
   "version": "3.8.6"
  }
 },
 "nbformat": 4,
 "nbformat_minor": 4
}
