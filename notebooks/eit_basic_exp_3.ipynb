{
 "cells": [
  {
   "cell_type": "markdown",
   "metadata": {},
   "source": [
    "### Table for paper, Excess Return and Tracking Err for diff paramter values on 2 index files"
   ]
  },
  {
   "cell_type": "code",
   "execution_count": 1,
   "metadata": {},
   "outputs": [],
   "source": [
    "base_path=\"../eit_basic_experiments/exp_3\" #Don't add '/' at start and end\n",
    "T=200 #Training time period\n",
    "C=1000000 #Capital available\n",
    "file=1 #Index_file\n",
    "m=8 #Inital Size of Kernel\n",
    "lbuck=2 #Size Of Buckets\n",
    "pho=0.1 #Transaction Cost Proportion\n",
    "lamda=1/(1000*C) # lower_bound for capital invested in jth stock\n",
    "nuh=0.8  # upper_bound\n",
    "xii=1.2 # Limit for Tracking Error\n",
    "k=14 #Cardinality constraint for stocks in portfolio\n",
    "p=3 #If stock not selected in optimal soln in last p iters then it is to be dropped from kernel\n",
    "f=12\n",
    "#cj,cb are declared in script"
   ]
  },
  {
   "cell_type": "code",
   "execution_count": 2,
   "metadata": {},
   "outputs": [],
   "source": [
    "import sys\n",
    "sys.path.insert(0,\"..\") #Add root folder to sys path\n",
    "\n",
    "from eit_basic_experiment import TestEitBasic\n",
    "import time\n",
    "from tqdm.notebook import tqdm\n",
    "from IPython.utils import io\n",
    "from joblib import Parallel, delayed\n",
    "import pandas as pd"
   ]
  },
  {
   "cell_type": "code",
   "execution_count": 3,
   "metadata": {},
   "outputs": [],
   "source": [
    "!rm -r ../eit_basic_experiments/exp_3/*"
   ]
  },
  {
   "cell_type": "markdown",
   "metadata": {},
   "source": [
    "### Loop over files > Loop over paramter values and publish table\n",
    "1. In sample Excess return/Tracking Err\n",
    "2. Out of Sample"
   ]
  },
  {
   "cell_type": "code",
   "execution_count": 4,
   "metadata": {},
   "outputs": [],
   "source": [
    "path_pattern=base_path+\"/file={},pho={},xii={},k={},m={},lbuck={},p={}\""
   ]
  },
  {
   "cell_type": "markdown",
   "metadata": {},
   "source": [
    "#### Make runs for parallel process"
   ]
  },
  {
   "cell_type": "code",
   "execution_count": 5,
   "metadata": {},
   "outputs": [
    {
     "name": "stdout",
     "output_type": "stream",
     "text": [
      "CPU times: user 1.06 ms, sys: 134 µs, total: 1.19 ms\n",
      "Wall time: 1.25 ms\n"
     ]
    }
   ],
   "source": [
    "%%time\n",
    "runs=[]\n",
    "for file in [1]:\n",
    "    for pho in [0.1,0.2,0.5]:\n",
    "        for xii in [1.2,1.3,1.4]:\n",
    "            for k in [10,16,25]:\n",
    "                for m in [8,12,16]:\n",
    "                    output=path_pattern.format(file,pho,xii,k,m,lbuck,p)\n",
    "                    test_eit=TestEitBasic(output=output,T=T,C=C,file=file,m=m,lbuck=lbuck,\\\n",
    "                                        pho=pho,lamda=lamda,nuh=nuh,xii=xii,k=k,p=p,f=f)\n",
    "                    runs.append(test_eit)"
   ]
  },
  {
   "cell_type": "code",
   "execution_count": 6,
   "metadata": {},
   "outputs": [],
   "source": [
    "def parralel_func(eit_object,result_dict):\n",
    "    params=eit_object.give_params()\n",
    "    result_df=eit_object.run_experiment(from_root=False,verbose=False);\n",
    "    result_df[\"z_linear\"]=eit_object.objective_linear\n",
    "    step_dict={}\n",
    "    step_dict[params]=result_df\n",
    "    result_dict.update(step_dict)\n",
    "    return (result_dict)"
   ]
  },
  {
   "cell_type": "code",
   "execution_count": 7,
   "metadata": {},
   "outputs": [
    {
     "data": {
      "application/vnd.jupyter.widget-view+json": {
       "model_id": "85a951d79b62426d9fad5098a7b009b7",
       "version_major": 2,
       "version_minor": 0
      },
      "text/plain": [
       "HBox(children=(HTML(value=''), FloatProgress(value=0.0, max=81.0), HTML(value='')))"
      ]
     },
     "metadata": {},
     "output_type": "display_data"
    },
    {
     "name": "stderr",
     "output_type": "stream",
     "text": [
      "[Parallel(n_jobs=-1)]: Using backend LokyBackend with 8 concurrent workers.\n",
      "[Parallel(n_jobs=-1)]: Done  25 tasks      | elapsed:  1.7min\n"
     ]
    },
    {
     "name": "stdout",
     "output_type": "stream",
     "text": [
      "\n",
      "CPU times: user 422 ms, sys: 99.6 ms, total: 522 ms\n",
      "Wall time: 30min 25s\n"
     ]
    },
    {
     "name": "stderr",
     "output_type": "stream",
     "text": [
      "[Parallel(n_jobs=-1)]: Done  81 out of  81 | elapsed: 30.4min finished\n"
     ]
    }
   ],
   "source": [
    "%%time\n",
    "result_dict={}\n",
    "result_dict=Parallel(verbose = 2,n_jobs  = -1\\\n",
    "            )(delayed( parralel_func )( run,result_dict) for run in tqdm(runs))"
   ]
  },
  {
   "cell_type": "code",
   "execution_count": 12,
   "metadata": {},
   "outputs": [],
   "source": [
    "final_result_dict={}\n",
    "for step_dict in result_dict:\n",
    "    final_result_dict.update(step_dict)"
   ]
  },
  {
   "cell_type": "code",
   "execution_count": 13,
   "metadata": {},
   "outputs": [],
   "source": [
    "final_result=pd.DataFrame()\n",
    "for params,result_df in final_result_dict.items():\n",
    "    param_part=pd.DataFrame([params])\n",
    "    res_part=pd.DataFrame([result_df.loc[result_df.z_value.idxmax()]])\n",
    "    temp=pd.concat([param_part,res_part.reset_index()],axis=1,ignore_index=False)\n",
    "    final_result=final_result.append(temp)"
   ]
  },
  {
   "cell_type": "code",
   "execution_count": 14,
   "metadata": {},
   "outputs": [],
   "source": [
    "final_result.to_csv(base_path+\"/exp_3_results_table_1.csv\")"
   ]
  },
  {
   "cell_type": "code",
   "execution_count": 16,
   "metadata": {},
   "outputs": [
    {
     "data": {
      "text/plain": [
       "Index(['output', 'T', 'C', 'file', 'm', 'lbuck', 'pho', 'lamda', 'nuh', 'xii',\n",
       "       'k', 'p', 'f', 'index', 'bucket', 'kernel_size', 'problem_status',\n",
       "       'z_value', 'in_excess_return', 'in_tr_err', 'out_excess_return',\n",
       "       'out_tr_err', 'z_linear'],\n",
       "      dtype='object')"
      ]
     },
     "execution_count": 16,
     "metadata": {},
     "output_type": "execute_result"
    }
   ],
   "source": [
    "final_result.columns"
   ]
  },
  {
   "cell_type": "code",
   "execution_count": 15,
   "metadata": {},
   "outputs": [
    {
     "data": {
      "text/html": [
       "<div>\n",
       "<style scoped>\n",
       "    .dataframe tbody tr th:only-of-type {\n",
       "        vertical-align: middle;\n",
       "    }\n",
       "\n",
       "    .dataframe tbody tr th {\n",
       "        vertical-align: top;\n",
       "    }\n",
       "\n",
       "    .dataframe thead th {\n",
       "        text-align: right;\n",
       "    }\n",
       "</style>\n",
       "<table border=\"1\" class=\"dataframe\">\n",
       "  <thead>\n",
       "    <tr style=\"text-align: right;\">\n",
       "      <th></th>\n",
       "      <th></th>\n",
       "      <th>z_value</th>\n",
       "      <th>z_linear</th>\n",
       "      <th>bucket</th>\n",
       "    </tr>\n",
       "    <tr>\n",
       "      <th>k</th>\n",
       "      <th>pho</th>\n",
       "      <th></th>\n",
       "      <th></th>\n",
       "      <th></th>\n",
       "    </tr>\n",
       "  </thead>\n",
       "  <tbody>\n",
       "    <tr>\n",
       "      <th rowspan=\"3\" valign=\"top\">10</th>\n",
       "      <th>0.1</th>\n",
       "      <td>1633.193709</td>\n",
       "      <td>1732.751987</td>\n",
       "      <td>0.666667</td>\n",
       "    </tr>\n",
       "    <tr>\n",
       "      <th>0.2</th>\n",
       "      <td>1633.193709</td>\n",
       "      <td>1732.751987</td>\n",
       "      <td>0.666667</td>\n",
       "    </tr>\n",
       "    <tr>\n",
       "      <th>0.5</th>\n",
       "      <td>1633.193709</td>\n",
       "      <td>1732.751987</td>\n",
       "      <td>0.666667</td>\n",
       "    </tr>\n",
       "    <tr>\n",
       "      <th rowspan=\"3\" valign=\"top\">16</th>\n",
       "      <th>0.1</th>\n",
       "      <td>1729.275617</td>\n",
       "      <td>1732.751987</td>\n",
       "      <td>2.666667</td>\n",
       "    </tr>\n",
       "    <tr>\n",
       "      <th>0.2</th>\n",
       "      <td>1729.275617</td>\n",
       "      <td>1732.751987</td>\n",
       "      <td>2.666667</td>\n",
       "    </tr>\n",
       "    <tr>\n",
       "      <th>0.5</th>\n",
       "      <td>1729.275617</td>\n",
       "      <td>1732.751987</td>\n",
       "      <td>2.666667</td>\n",
       "    </tr>\n",
       "    <tr>\n",
       "      <th rowspan=\"3\" valign=\"top\">25</th>\n",
       "      <th>0.1</th>\n",
       "      <td>1732.751987</td>\n",
       "      <td>1732.751987</td>\n",
       "      <td>4.000000</td>\n",
       "    </tr>\n",
       "    <tr>\n",
       "      <th>0.2</th>\n",
       "      <td>1732.751987</td>\n",
       "      <td>1732.751987</td>\n",
       "      <td>4.000000</td>\n",
       "    </tr>\n",
       "    <tr>\n",
       "      <th>0.5</th>\n",
       "      <td>1732.751987</td>\n",
       "      <td>1732.751987</td>\n",
       "      <td>4.000000</td>\n",
       "    </tr>\n",
       "  </tbody>\n",
       "</table>\n",
       "</div>"
      ],
      "text/plain": [
       "            z_value     z_linear    bucket\n",
       "k  pho                                    \n",
       "10 0.1  1633.193709  1732.751987  0.666667\n",
       "   0.2  1633.193709  1732.751987  0.666667\n",
       "   0.5  1633.193709  1732.751987  0.666667\n",
       "16 0.1  1729.275617  1732.751987  2.666667\n",
       "   0.2  1729.275617  1732.751987  2.666667\n",
       "   0.5  1729.275617  1732.751987  2.666667\n",
       "25 0.1  1732.751987  1732.751987  4.000000\n",
       "   0.2  1732.751987  1732.751987  4.000000\n",
       "   0.5  1732.751987  1732.751987  4.000000"
      ]
     },
     "execution_count": 15,
     "metadata": {},
     "output_type": "execute_result"
    }
   ],
   "source": [
    "final_result.groupby([\"k\",\"pho\"])[[\"z_value\",\"z_linear\",\"bucket\"]].mean()"
   ]
  },
  {
   "cell_type": "code",
   "execution_count": 22,
   "metadata": {},
   "outputs": [
    {
     "data": {
      "text/html": [
       "<div>\n",
       "<style scoped>\n",
       "    .dataframe tbody tr th:only-of-type {\n",
       "        vertical-align: middle;\n",
       "    }\n",
       "\n",
       "    .dataframe tbody tr th {\n",
       "        vertical-align: top;\n",
       "    }\n",
       "\n",
       "    .dataframe thead th {\n",
       "        text-align: right;\n",
       "    }\n",
       "</style>\n",
       "<table border=\"1\" class=\"dataframe\">\n",
       "  <thead>\n",
       "    <tr style=\"text-align: right;\">\n",
       "      <th></th>\n",
       "      <th></th>\n",
       "      <th>z_value</th>\n",
       "      <th>z_linear</th>\n",
       "      <th>bucket</th>\n",
       "    </tr>\n",
       "    <tr>\n",
       "      <th>k</th>\n",
       "      <th>m</th>\n",
       "      <th></th>\n",
       "      <th></th>\n",
       "      <th></th>\n",
       "    </tr>\n",
       "  </thead>\n",
       "  <tbody>\n",
       "    <tr>\n",
       "      <th rowspan=\"3\" valign=\"top\">10</th>\n",
       "      <th>8</th>\n",
       "      <td>1633.193709</td>\n",
       "      <td>1732.751987</td>\n",
       "      <td>2.000000</td>\n",
       "    </tr>\n",
       "    <tr>\n",
       "      <th>12</th>\n",
       "      <td>1633.193709</td>\n",
       "      <td>1732.751987</td>\n",
       "      <td>0.000000</td>\n",
       "    </tr>\n",
       "    <tr>\n",
       "      <th>16</th>\n",
       "      <td>1633.193709</td>\n",
       "      <td>1732.751987</td>\n",
       "      <td>0.000000</td>\n",
       "    </tr>\n",
       "    <tr>\n",
       "      <th rowspan=\"3\" valign=\"top\">16</th>\n",
       "      <th>8</th>\n",
       "      <td>1729.275617</td>\n",
       "      <td>1732.751987</td>\n",
       "      <td>4.666667</td>\n",
       "    </tr>\n",
       "    <tr>\n",
       "      <th>12</th>\n",
       "      <td>1729.275617</td>\n",
       "      <td>1732.751987</td>\n",
       "      <td>2.666667</td>\n",
       "    </tr>\n",
       "    <tr>\n",
       "      <th>16</th>\n",
       "      <td>1729.275617</td>\n",
       "      <td>1732.751987</td>\n",
       "      <td>0.666667</td>\n",
       "    </tr>\n",
       "    <tr>\n",
       "      <th rowspan=\"3\" valign=\"top\">25</th>\n",
       "      <th>8</th>\n",
       "      <td>1732.751987</td>\n",
       "      <td>1732.751987</td>\n",
       "      <td>6.000000</td>\n",
       "    </tr>\n",
       "    <tr>\n",
       "      <th>12</th>\n",
       "      <td>1732.751987</td>\n",
       "      <td>1732.751987</td>\n",
       "      <td>4.000000</td>\n",
       "    </tr>\n",
       "    <tr>\n",
       "      <th>16</th>\n",
       "      <td>1732.751987</td>\n",
       "      <td>1732.751987</td>\n",
       "      <td>2.000000</td>\n",
       "    </tr>\n",
       "  </tbody>\n",
       "</table>\n",
       "</div>"
      ],
      "text/plain": [
       "           z_value     z_linear    bucket\n",
       "k  m                                     \n",
       "10 8   1633.193709  1732.751987  2.000000\n",
       "   12  1633.193709  1732.751987  0.000000\n",
       "   16  1633.193709  1732.751987  0.000000\n",
       "16 8   1729.275617  1732.751987  4.666667\n",
       "   12  1729.275617  1732.751987  2.666667\n",
       "   16  1729.275617  1732.751987  0.666667\n",
       "25 8   1732.751987  1732.751987  6.000000\n",
       "   12  1732.751987  1732.751987  4.000000\n",
       "   16  1732.751987  1732.751987  2.000000"
      ]
     },
     "execution_count": 22,
     "metadata": {},
     "output_type": "execute_result"
    }
   ],
   "source": [
    "final_result.groupby([\"k\",\"m\"])[[\"z_value\",\"z_linear\",\"bucket\"]].mean()"
   ]
  },
  {
   "cell_type": "code",
   "execution_count": 24,
   "metadata": {},
   "outputs": [
    {
     "data": {
      "text/html": [
       "<div>\n",
       "<style scoped>\n",
       "    .dataframe tbody tr th:only-of-type {\n",
       "        vertical-align: middle;\n",
       "    }\n",
       "\n",
       "    .dataframe tbody tr th {\n",
       "        vertical-align: top;\n",
       "    }\n",
       "\n",
       "    .dataframe thead th {\n",
       "        text-align: right;\n",
       "    }\n",
       "</style>\n",
       "<table border=\"1\" class=\"dataframe\">\n",
       "  <thead>\n",
       "    <tr style=\"text-align: right;\">\n",
       "      <th></th>\n",
       "      <th></th>\n",
       "      <th>in_excess_return</th>\n",
       "      <th>in_tr_err</th>\n",
       "      <th>out_excess_return</th>\n",
       "      <th>out_tr_err</th>\n",
       "      <th>bucket</th>\n",
       "    </tr>\n",
       "    <tr>\n",
       "      <th>k</th>\n",
       "      <th>xii</th>\n",
       "      <th></th>\n",
       "      <th></th>\n",
       "      <th></th>\n",
       "      <th></th>\n",
       "      <th></th>\n",
       "    </tr>\n",
       "  </thead>\n",
       "  <tbody>\n",
       "    <tr>\n",
       "      <th rowspan=\"3\" valign=\"top\">10</th>\n",
       "      <th>1.2</th>\n",
       "      <td>1530.430358</td>\n",
       "      <td>224172.993279</td>\n",
       "      <td>3613.340702</td>\n",
       "      <td>-1.520349e+07</td>\n",
       "      <td>0.666667</td>\n",
       "    </tr>\n",
       "    <tr>\n",
       "      <th>1.3</th>\n",
       "      <td>1637.074329</td>\n",
       "      <td>216741.760970</td>\n",
       "      <td>8291.844229</td>\n",
       "      <td>-2.024084e+07</td>\n",
       "      <td>0.666667</td>\n",
       "    </tr>\n",
       "    <tr>\n",
       "      <th>1.4</th>\n",
       "      <td>1732.076441</td>\n",
       "      <td>261853.287566</td>\n",
       "      <td>8918.196357</td>\n",
       "      <td>-2.093902e+07</td>\n",
       "      <td>0.666667</td>\n",
       "    </tr>\n",
       "    <tr>\n",
       "      <th rowspan=\"3\" valign=\"top\">16</th>\n",
       "      <th>1.2</th>\n",
       "      <td>1648.811498</td>\n",
       "      <td>85576.224460</td>\n",
       "      <td>6463.858074</td>\n",
       "      <td>-3.787245e+07</td>\n",
       "      <td>3.000000</td>\n",
       "    </tr>\n",
       "    <tr>\n",
       "      <th>1.3</th>\n",
       "      <td>1729.443446</td>\n",
       "      <td>134887.449248</td>\n",
       "      <td>6857.818146</td>\n",
       "      <td>-3.817990e+07</td>\n",
       "      <td>3.000000</td>\n",
       "    </tr>\n",
       "    <tr>\n",
       "      <th>1.4</th>\n",
       "      <td>1809.571907</td>\n",
       "      <td>126906.369317</td>\n",
       "      <td>7365.981180</td>\n",
       "      <td>-2.936720e+07</td>\n",
       "      <td>2.000000</td>\n",
       "    </tr>\n",
       "    <tr>\n",
       "      <th rowspan=\"3\" valign=\"top\">25</th>\n",
       "      <th>1.2</th>\n",
       "      <td>1653.519570</td>\n",
       "      <td>106142.643581</td>\n",
       "      <td>7406.139759</td>\n",
       "      <td>-3.902740e+07</td>\n",
       "      <td>4.000000</td>\n",
       "    </tr>\n",
       "    <tr>\n",
       "      <th>1.3</th>\n",
       "      <td>1733.535995</td>\n",
       "      <td>102298.539670</td>\n",
       "      <td>7258.858578</td>\n",
       "      <td>-3.885810e+07</td>\n",
       "      <td>4.000000</td>\n",
       "    </tr>\n",
       "    <tr>\n",
       "      <th>1.4</th>\n",
       "      <td>1811.200395</td>\n",
       "      <td>147940.860604</td>\n",
       "      <td>7850.030115</td>\n",
       "      <td>-3.965217e+07</td>\n",
       "      <td>4.000000</td>\n",
       "    </tr>\n",
       "  </tbody>\n",
       "</table>\n",
       "</div>"
      ],
      "text/plain": [
       "        in_excess_return      in_tr_err  out_excess_return    out_tr_err  \\\n",
       "k  xii                                                                     \n",
       "10 1.2       1530.430358  224172.993279        3613.340702 -1.520349e+07   \n",
       "   1.3       1637.074329  216741.760970        8291.844229 -2.024084e+07   \n",
       "   1.4       1732.076441  261853.287566        8918.196357 -2.093902e+07   \n",
       "16 1.2       1648.811498   85576.224460        6463.858074 -3.787245e+07   \n",
       "   1.3       1729.443446  134887.449248        6857.818146 -3.817990e+07   \n",
       "   1.4       1809.571907  126906.369317        7365.981180 -2.936720e+07   \n",
       "25 1.2       1653.519570  106142.643581        7406.139759 -3.902740e+07   \n",
       "   1.3       1733.535995  102298.539670        7258.858578 -3.885810e+07   \n",
       "   1.4       1811.200395  147940.860604        7850.030115 -3.965217e+07   \n",
       "\n",
       "          bucket  \n",
       "k  xii            \n",
       "10 1.2  0.666667  \n",
       "   1.3  0.666667  \n",
       "   1.4  0.666667  \n",
       "16 1.2  3.000000  \n",
       "   1.3  3.000000  \n",
       "   1.4  2.000000  \n",
       "25 1.2  4.000000  \n",
       "   1.3  4.000000  \n",
       "   1.4  4.000000  "
      ]
     },
     "execution_count": 24,
     "metadata": {},
     "output_type": "execute_result"
    }
   ],
   "source": [
    "final_result.groupby([\"k\",\"xii\"])[['in_excess_return', 'in_tr_err', 'out_excess_return',\n",
    "       'out_tr_err',\"bucket\"]].mean()"
   ]
  },
  {
   "cell_type": "code",
   "execution_count": null,
   "metadata": {},
   "outputs": [],
   "source": []
  },
  {
   "cell_type": "code",
   "execution_count": null,
   "metadata": {},
   "outputs": [],
   "source": []
  }
 ],
 "metadata": {
  "kernelspec": {
   "display_name": "Python 3",
   "language": "python",
   "name": "python3"
  },
  "language_info": {
   "codemirror_mode": {
    "name": "ipython",
    "version": 3
   },
   "file_extension": ".py",
   "mimetype": "text/x-python",
   "name": "python",
   "nbconvert_exporter": "python",
   "pygments_lexer": "ipython3",
   "version": "3.8.6"
  }
 },
 "nbformat": 4,
 "nbformat_minor": 4
}
