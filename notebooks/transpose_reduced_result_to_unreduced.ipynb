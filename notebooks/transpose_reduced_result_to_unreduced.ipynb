{
 "cells": [
  {
   "cell_type": "code",
   "execution_count": 1,
   "metadata": {},
   "outputs": [],
   "source": [
    "import pandas as pd\n",
    "import numpy as np\n",
    "import os\n",
    "\n",
    "import sys\n",
    "sys.path.insert(0,\"..\")\n",
    "from src_dual.EIT_kernel import performance"
   ]
  },
  {
   "cell_type": "code",
   "execution_count": 2,
   "metadata": {},
   "outputs": [],
   "source": [
    "base_path=\"../eit_basic_dual_unreduced_experiments/\""
   ]
  },
  {
   "cell_type": "code",
   "execution_count": 3,
   "metadata": {},
   "outputs": [
    {
     "name": "stdout",
     "output_type": "stream",
     "text": [
      "\u001b[34mexp_1\u001b[m\u001b[m      \u001b[34mexp_1_npca\u001b[m\u001b[m \u001b[34mexp_2\u001b[m\u001b[m      \u001b[34mexp_2b\u001b[m\u001b[m     \u001b[34mexp_2e\u001b[m\u001b[m\r\n",
      "\u001b[34mexp_1_nmf\u001b[m\u001b[m  \u001b[34mexp_1basic\u001b[m\u001b[m \u001b[34mexp_2a\u001b[m\u001b[m     \u001b[34mexp_2d\u001b[m\u001b[m     \u001b[34mexp_3\u001b[m\u001b[m\r\n"
     ]
    }
   ],
   "source": [
    "!ls $base_path"
   ]
  },
  {
   "cell_type": "code",
   "execution_count": 4,
   "metadata": {},
   "outputs": [],
   "source": [
    "path_reduced=base_path+\"/exp_1_npca/\""
   ]
  },
  {
   "cell_type": "code",
   "execution_count": 5,
   "metadata": {},
   "outputs": [
    {
     "name": "stdout",
     "output_type": "stream",
     "text": [
      "\u001b[34mbasic\u001b[m\u001b[m                   combined_k_pho_nuh.csv  dual_results_exp_1.csv\r\n",
      "basic_results_exp_1.csv \u001b[34mdual\u001b[m\u001b[m\r\n"
     ]
    }
   ],
   "source": [
    "!ls $path_reduced"
   ]
  },
  {
   "cell_type": "code",
   "execution_count": 6,
   "metadata": {},
   "outputs": [],
   "source": [
    "basic_results=pd.read_csv(path_reduced+\"basic_results_exp_1.csv\")"
   ]
  },
  {
   "cell_type": "code",
   "execution_count": 7,
   "metadata": {},
   "outputs": [],
   "source": [
    "def read_reduced_result(output,bucket,file_indent):\n",
    "    if bucket>=1:\n",
    "        file=output+f\"/EIT_bucket_{int(bucket)}_result_index_{file_indent}.csv\"\n",
    "    else:\n",
    "        file=output+f\"/EIT_kernel_result_index_{file_indent}.csv\"\n",
    "    result=pd.read_csv(file)\n",
    "    return (result)"
   ]
  },
  {
   "cell_type": "code",
   "execution_count": 58,
   "metadata": {},
   "outputs": [],
   "source": [
    "def transpose_to_unreduced(df):\n",
    "    output=df[\"output\"]\n",
    "    bucket=df[\"bucket\"]\n",
    "    file_indent=df[\"file\"]\n",
    "    z_value=df[\"z_value\"]\n",
    "    T=df[\"T\"]\n",
    "    if np.isnan(z_value):\n",
    "        return (None,None,None,None,None)\n",
    "    else:\n",
    "        #Step 1: Read required files\n",
    "        reduced_result=read_reduced_result(output,bucket,file_indent)\n",
    "        price_reduced=pd.read_csv(f\"../input/index-weekly-data/index_{file_indent}.csv\")\n",
    "        price_not_reduced=pd.read_csv(\"../input/index-weekly-data/index_1.csv\")\n",
    "        #Step_2: Get Weights\n",
    "        q_T = price_reduced[reduced_result.security].iloc[T]\n",
    "        w = reduced_result[\"X_1\"].values * q_T.values\n",
    "        w = (w / np.sum(w))\n",
    "        #Step 3: Get new X_1\n",
    "        q_T_new = price_not_reduced[reduced_result.security].iloc[200]\n",
    "        X_1_new = w *q_T_new\n",
    "        new_result = reduced_result.copy()\n",
    "        new_result.index=new_result.security\n",
    "        new_result[\"X_1\"] = X_1_new\n",
    "        #Generate performance\n",
    "        in_excess_return, in_tr_err, out_excess_return, out_tr_err, portfolio_size = \\\n",
    "            performance(price_not_reduced, new_result, C=100000, T=200)\n",
    "        return(in_excess_return, in_tr_err, out_excess_return, out_tr_err, portfolio_size)"
   ]
  },
  {
   "cell_type": "code",
   "execution_count": 63,
   "metadata": {},
   "outputs": [],
   "source": [
    "def transpose_df(super_df):\n",
    "    super_df[\"chk\"]=super_df.apply(lambda x: transpose_to_unreduced(x),axis=1)\n",
    "    transpose_cols=[\"in_excess_return_transpose\",\"in_tr_err_transpose\",\"out_excess_return_transpose\",\\\n",
    "               \"out_tr_err_transpose\",\"portfolio_size_transpose\"]\n",
    "    super_df[transpose_cols]=pd.DataFrame(super_df[\"chk\"].to_list())\n",
    "    return (super_df)"
   ]
  },
  {
   "cell_type": "code",
   "execution_count": null,
   "metadata": {},
   "outputs": [],
   "source": []
  },
  {
   "cell_type": "code",
   "execution_count": null,
   "metadata": {},
   "outputs": [],
   "source": []
  },
  {
   "cell_type": "code",
   "execution_count": null,
   "metadata": {},
   "outputs": [],
   "source": []
  },
  {
   "cell_type": "code",
   "execution_count": null,
   "metadata": {},
   "outputs": [],
   "source": []
  },
  {
   "cell_type": "code",
   "execution_count": null,
   "metadata": {},
   "outputs": [],
   "source": []
  },
  {
   "cell_type": "code",
   "execution_count": 59,
   "metadata": {},
   "outputs": [],
   "source": [
    "basic_results[\"chk\"]=basic_results.apply(lambda x: transpose_to_unreduced(x),axis=1)"
   ]
  },
  {
   "cell_type": "code",
   "execution_count": 62,
   "metadata": {},
   "outputs": [],
   "source": [
    "transpose_cols=[\"in_excess_return_transpose\",\"in_tr_err_transpose\",\"out_excess_return_transpose\",\\\n",
    "               \"out_tr_err_transpose\",\"portfolio_size_transpose\"]\n",
    "basic_results[transpose_cols]=pd.DataFrame(basic_results[\"chk\"].to_list())"
   ]
  },
  {
   "cell_type": "code",
   "execution_count": 61,
   "metadata": {},
   "outputs": [
    {
     "data": {
      "text/plain": [
       "Index(['Unnamed: 0', 'output', 'T', 'C', 'file', 'm', 'lbuck', 'pho', 'lamda',\n",
       "       'nuh', 'xii', 'k', 'p', 'f', 'index', 'bucket', 'kernel_size',\n",
       "       'problem_status', 'z_value', 'in_excess_return', 'in_tr_err',\n",
       "       'out_excess_return', 'out_tr_err', 'portfolio_size', 'z_linear', 'chk'],\n",
       "      dtype='object')"
      ]
     },
     "execution_count": 61,
     "metadata": {},
     "output_type": "execute_result"
    }
   ],
   "source": []
  },
  {
   "cell_type": "code",
   "execution_count": null,
   "metadata": {},
   "outputs": [],
   "source": []
  },
  {
   "cell_type": "code",
   "execution_count": 10,
   "metadata": {},
   "outputs": [],
   "source": []
  },
  {
   "cell_type": "code",
   "execution_count": 45,
   "metadata": {},
   "outputs": [],
   "source": []
  },
  {
   "cell_type": "code",
   "execution_count": 46,
   "metadata": {},
   "outputs": [
    {
     "data": {
      "text/html": [
       "<div>\n",
       "<style scoped>\n",
       "    .dataframe tbody tr th:only-of-type {\n",
       "        vertical-align: middle;\n",
       "    }\n",
       "\n",
       "    .dataframe tbody tr th {\n",
       "        vertical-align: top;\n",
       "    }\n",
       "\n",
       "    .dataframe thead th {\n",
       "        text-align: right;\n",
       "    }\n",
       "</style>\n",
       "<table border=\"1\" class=\"dataframe\">\n",
       "  <thead>\n",
       "    <tr style=\"text-align: right;\">\n",
       "      <th></th>\n",
       "      <th>security</th>\n",
       "      <th>X_0</th>\n",
       "      <th>y</th>\n",
       "      <th>w</th>\n",
       "      <th>b</th>\n",
       "      <th>s</th>\n",
       "      <th>X_1</th>\n",
       "    </tr>\n",
       "    <tr>\n",
       "      <th>security</th>\n",
       "      <th></th>\n",
       "      <th></th>\n",
       "      <th></th>\n",
       "      <th></th>\n",
       "      <th></th>\n",
       "      <th></th>\n",
       "      <th></th>\n",
       "    </tr>\n",
       "  </thead>\n",
       "  <tbody>\n",
       "    <tr>\n",
       "      <th>security_10</th>\n",
       "      <td>security_10</td>\n",
       "      <td>2.962947</td>\n",
       "      <td>1.0</td>\n",
       "      <td>1.0</td>\n",
       "      <td>0.000000</td>\n",
       "      <td>1.515295</td>\n",
       "      <td>1637.689184</td>\n",
       "    </tr>\n",
       "    <tr>\n",
       "      <th>security_28</th>\n",
       "      <td>security_28</td>\n",
       "      <td>0.204695</td>\n",
       "      <td>1.0</td>\n",
       "      <td>1.0</td>\n",
       "      <td>0.834952</td>\n",
       "      <td>0.000000</td>\n",
       "      <td>209.220642</td>\n",
       "    </tr>\n",
       "    <tr>\n",
       "      <th>security_29</th>\n",
       "      <td>security_29</td>\n",
       "      <td>4.218816</td>\n",
       "      <td>1.0</td>\n",
       "      <td>1.0</td>\n",
       "      <td>0.000000</td>\n",
       "      <td>0.048468</td>\n",
       "      <td>1382.809858</td>\n",
       "    </tr>\n",
       "    <tr>\n",
       "      <th>security_7</th>\n",
       "      <td>security_7</td>\n",
       "      <td>0.474302</td>\n",
       "      <td>1.0</td>\n",
       "      <td>0.0</td>\n",
       "      <td>0.000000</td>\n",
       "      <td>0.000000</td>\n",
       "      <td>273.862752</td>\n",
       "    </tr>\n",
       "    <tr>\n",
       "      <th>security_19</th>\n",
       "      <td>security_19</td>\n",
       "      <td>0.434461</td>\n",
       "      <td>1.0</td>\n",
       "      <td>1.0</td>\n",
       "      <td>0.090375</td>\n",
       "      <td>0.000000</td>\n",
       "      <td>917.134175</td>\n",
       "    </tr>\n",
       "  </tbody>\n",
       "</table>\n",
       "</div>"
      ],
      "text/plain": [
       "                security       X_0    y    w         b         s          X_1\n",
       "security                                                                     \n",
       "security_10  security_10  2.962947  1.0  1.0  0.000000  1.515295  1637.689184\n",
       "security_28  security_28  0.204695  1.0  1.0  0.834952  0.000000   209.220642\n",
       "security_29  security_29  4.218816  1.0  1.0  0.000000  0.048468  1382.809858\n",
       "security_7    security_7  0.474302  1.0  0.0  0.000000  0.000000   273.862752\n",
       "security_19  security_19  0.434461  1.0  1.0  0.090375  0.000000   917.134175"
      ]
     },
     "execution_count": 46,
     "metadata": {},
     "output_type": "execute_result"
    }
   ],
   "source": [
    "new_result.head()"
   ]
  },
  {
   "cell_type": "code",
   "execution_count": 149,
   "metadata": {},
   "outputs": [
    {
     "name": "stdout",
     "output_type": "stream",
     "text": [
      "Automatic pdb calling has been turned ON\n"
     ]
    },
    {
     "name": "stderr",
     "output_type": "stream",
     "text": [
      "../src_dual/EIT_kernel.py:57: RuntimeWarning: divide by zero encountered in double_scalars\n",
      "  return_scaling = C/((result[\"X_1\"] * out_q_T).sum()) #B'cos not entire C might be invested\n"
     ]
    },
    {
     "data": {
      "text/plain": [
       "(nan, 79315.31386676161, nan, 124758.42458861685, 0)"
      ]
     },
     "execution_count": 149,
     "metadata": {},
     "output_type": "execute_result"
    }
   ],
   "source": [
    "%pdb\n",
    "performance(price_not_reduced, new_result, C=100000, T=200)"
   ]
  },
  {
   "cell_type": "code",
   "execution_count": 150,
   "metadata": {},
   "outputs": [],
   "source": [
    "price=price_not_reduced"
   ]
  },
  {
   "cell_type": "code",
   "execution_count": 151,
   "metadata": {},
   "outputs": [],
   "source": [
    "in_price = price[0:T + 1]\n",
    "out_price = price[T + 1:]\n",
    "in_returns = (in_price - in_price.shift(1)) / in_price.shift(1)\n",
    "in_returns.drop([0], axis=0, inplace=True)\n",
    "out_returns = (out_price - out_price.shift(1)) / out_price.shift(1)\n",
    "out_returns.drop([T + 1], axis=0, inplace=True)"
   ]
  },
  {
   "cell_type": "code",
   "execution_count": 159,
   "metadata": {},
   "outputs": [],
   "source": [
    "new_result[\"X_1\"]=X_1_new"
   ]
  },
  {
   "cell_type": "code",
   "execution_count": 160,
   "metadata": {},
   "outputs": [
    {
     "data": {
      "text/html": [
       "<div>\n",
       "<style scoped>\n",
       "    .dataframe tbody tr th:only-of-type {\n",
       "        vertical-align: middle;\n",
       "    }\n",
       "\n",
       "    .dataframe tbody tr th {\n",
       "        vertical-align: top;\n",
       "    }\n",
       "\n",
       "    .dataframe thead th {\n",
       "        text-align: right;\n",
       "    }\n",
       "</style>\n",
       "<table border=\"1\" class=\"dataframe\">\n",
       "  <thead>\n",
       "    <tr style=\"text-align: right;\">\n",
       "      <th></th>\n",
       "      <th>security</th>\n",
       "      <th>X_0</th>\n",
       "      <th>X_1</th>\n",
       "      <th>y</th>\n",
       "      <th>w</th>\n",
       "      <th>b</th>\n",
       "      <th>s</th>\n",
       "    </tr>\n",
       "    <tr>\n",
       "      <th>security</th>\n",
       "      <th></th>\n",
       "      <th></th>\n",
       "      <th></th>\n",
       "      <th></th>\n",
       "      <th></th>\n",
       "      <th></th>\n",
       "      <th></th>\n",
       "    </tr>\n",
       "  </thead>\n",
       "  <tbody>\n",
       "    <tr>\n",
       "      <th>security_10</th>\n",
       "      <td>security_10</td>\n",
       "      <td>2231.148826</td>\n",
       "      <td>2.831510</td>\n",
       "      <td>1.0</td>\n",
       "      <td>1.0</td>\n",
       "      <td>0.000000</td>\n",
       "      <td>15510.875744</td>\n",
       "    </tr>\n",
       "    <tr>\n",
       "      <th>security_7</th>\n",
       "      <td>security_7</td>\n",
       "      <td>243.617332</td>\n",
       "      <td>3.968673</td>\n",
       "      <td>1.0</td>\n",
       "      <td>1.0</td>\n",
       "      <td>2089.821464</td>\n",
       "      <td>0.000000</td>\n",
       "    </tr>\n",
       "    <tr>\n",
       "      <th>security_11</th>\n",
       "      <td>security_11</td>\n",
       "      <td>268.269085</td>\n",
       "      <td>2.475396</td>\n",
       "      <td>1.0</td>\n",
       "      <td>1.0</td>\n",
       "      <td>3534.019236</td>\n",
       "      <td>0.000000</td>\n",
       "    </tr>\n",
       "    <tr>\n",
       "      <th>security_26</th>\n",
       "      <td>security_26</td>\n",
       "      <td>91.529664</td>\n",
       "      <td>11.940461</td>\n",
       "      <td>1.0</td>\n",
       "      <td>1.0</td>\n",
       "      <td>0.000000</td>\n",
       "      <td>1537.168677</td>\n",
       "    </tr>\n",
       "    <tr>\n",
       "      <th>security_21</th>\n",
       "      <td>security_21</td>\n",
       "      <td>102.897731</td>\n",
       "      <td>6.469270</td>\n",
       "      <td>1.0</td>\n",
       "      <td>1.0</td>\n",
       "      <td>0.000000</td>\n",
       "      <td>864.819046</td>\n",
       "    </tr>\n",
       "    <tr>\n",
       "      <th>security_28</th>\n",
       "      <td>security_28</td>\n",
       "      <td>97.257674</td>\n",
       "      <td>4.192881</td>\n",
       "      <td>1.0</td>\n",
       "      <td>1.0</td>\n",
       "      <td>489.297239</td>\n",
       "      <td>0.000000</td>\n",
       "    </tr>\n",
       "    <tr>\n",
       "      <th>security_19</th>\n",
       "      <td>security_19</td>\n",
       "      <td>682.866763</td>\n",
       "      <td>0.664947</td>\n",
       "      <td>1.0</td>\n",
       "      <td>1.0</td>\n",
       "      <td>0.000000</td>\n",
       "      <td>1029.257542</td>\n",
       "    </tr>\n",
       "    <tr>\n",
       "      <th>security_14</th>\n",
       "      <td>security_14</td>\n",
       "      <td>187.788360</td>\n",
       "      <td>1.274668</td>\n",
       "      <td>1.0</td>\n",
       "      <td>1.0</td>\n",
       "      <td>2152.288573</td>\n",
       "      <td>0.000000</td>\n",
       "    </tr>\n",
       "    <tr>\n",
       "      <th>security_15</th>\n",
       "      <td>security_15</td>\n",
       "      <td>52.712522</td>\n",
       "      <td>11.170767</td>\n",
       "      <td>1.0</td>\n",
       "      <td>1.0</td>\n",
       "      <td>0.000000</td>\n",
       "      <td>5568.547855</td>\n",
       "    </tr>\n",
       "    <tr>\n",
       "      <th>security_29</th>\n",
       "      <td>security_29</td>\n",
       "      <td>1644.861546</td>\n",
       "      <td>0.290414</td>\n",
       "      <td>1.0</td>\n",
       "      <td>1.0</td>\n",
       "      <td>0.000000</td>\n",
       "      <td>7588.606479</td>\n",
       "    </tr>\n",
       "    <tr>\n",
       "      <th>security_23</th>\n",
       "      <td>security_23</td>\n",
       "      <td>331.391223</td>\n",
       "      <td>1.359868</td>\n",
       "      <td>1.0</td>\n",
       "      <td>1.0</td>\n",
       "      <td>0.000000</td>\n",
       "      <td>13425.112080</td>\n",
       "    </tr>\n",
       "    <tr>\n",
       "      <th>security_8</th>\n",
       "      <td>security_8</td>\n",
       "      <td>401.686331</td>\n",
       "      <td>0.359130</td>\n",
       "      <td>1.0</td>\n",
       "      <td>1.0</td>\n",
       "      <td>0.000000</td>\n",
       "      <td>2862.647924</td>\n",
       "    </tr>\n",
       "    <tr>\n",
       "      <th>security_31</th>\n",
       "      <td>security_31</td>\n",
       "      <td>366.416312</td>\n",
       "      <td>0.540919</td>\n",
       "      <td>1.0</td>\n",
       "      <td>1.0</td>\n",
       "      <td>0.000000</td>\n",
       "      <td>6318.001678</td>\n",
       "    </tr>\n",
       "    <tr>\n",
       "      <th>security_17</th>\n",
       "      <td>security_17</td>\n",
       "      <td>492.021904</td>\n",
       "      <td>0.198209</td>\n",
       "      <td>1.0</td>\n",
       "      <td>1.0</td>\n",
       "      <td>0.000000</td>\n",
       "      <td>2381.229100</td>\n",
       "    </tr>\n",
       "    <tr>\n",
       "      <th>security_25</th>\n",
       "      <td>security_25</td>\n",
       "      <td>162.470102</td>\n",
       "      <td>0.567609</td>\n",
       "      <td>1.0</td>\n",
       "      <td>1.0</td>\n",
       "      <td>0.000000</td>\n",
       "      <td>4168.987810</td>\n",
       "    </tr>\n",
       "    <tr>\n",
       "      <th>security_20</th>\n",
       "      <td>security_20</td>\n",
       "      <td>235.964431</td>\n",
       "      <td>0.292744</td>\n",
       "      <td>1.0</td>\n",
       "      <td>1.0</td>\n",
       "      <td>0.000000</td>\n",
       "      <td>3811.006672</td>\n",
       "    </tr>\n",
       "    <tr>\n",
       "      <th>security_1</th>\n",
       "      <td>security_1</td>\n",
       "      <td>428.414509</td>\n",
       "      <td>0.149605</td>\n",
       "      <td>1.0</td>\n",
       "      <td>1.0</td>\n",
       "      <td>0.000000</td>\n",
       "      <td>7698.342401</td>\n",
       "    </tr>\n",
       "    <tr>\n",
       "      <th>security_12</th>\n",
       "      <td>security_12</td>\n",
       "      <td>177.437820</td>\n",
       "      <td>0.241226</td>\n",
       "      <td>1.0</td>\n",
       "      <td>1.0</td>\n",
       "      <td>0.000000</td>\n",
       "      <td>7582.475023</td>\n",
       "    </tr>\n",
       "    <tr>\n",
       "      <th>security_30</th>\n",
       "      <td>security_30</td>\n",
       "      <td>137.406117</td>\n",
       "      <td>0.287089</td>\n",
       "      <td>1.0</td>\n",
       "      <td>1.0</td>\n",
       "      <td>0.000000</td>\n",
       "      <td>11018.780805</td>\n",
       "    </tr>\n",
       "    <tr>\n",
       "      <th>security_3</th>\n",
       "      <td>security_3</td>\n",
       "      <td>543.002486</td>\n",
       "      <td>0.007560</td>\n",
       "      <td>1.0</td>\n",
       "      <td>1.0</td>\n",
       "      <td>0.000000</td>\n",
       "      <td>4193.452689</td>\n",
       "    </tr>\n",
       "  </tbody>\n",
       "</table>\n",
       "</div>"
      ],
      "text/plain": [
       "                security          X_0        X_1    y    w            b  \\\n",
       "security                                                                  \n",
       "security_10  security_10  2231.148826   2.831510  1.0  1.0     0.000000   \n",
       "security_7    security_7   243.617332   3.968673  1.0  1.0  2089.821464   \n",
       "security_11  security_11   268.269085   2.475396  1.0  1.0  3534.019236   \n",
       "security_26  security_26    91.529664  11.940461  1.0  1.0     0.000000   \n",
       "security_21  security_21   102.897731   6.469270  1.0  1.0     0.000000   \n",
       "security_28  security_28    97.257674   4.192881  1.0  1.0   489.297239   \n",
       "security_19  security_19   682.866763   0.664947  1.0  1.0     0.000000   \n",
       "security_14  security_14   187.788360   1.274668  1.0  1.0  2152.288573   \n",
       "security_15  security_15    52.712522  11.170767  1.0  1.0     0.000000   \n",
       "security_29  security_29  1644.861546   0.290414  1.0  1.0     0.000000   \n",
       "security_23  security_23   331.391223   1.359868  1.0  1.0     0.000000   \n",
       "security_8    security_8   401.686331   0.359130  1.0  1.0     0.000000   \n",
       "security_31  security_31   366.416312   0.540919  1.0  1.0     0.000000   \n",
       "security_17  security_17   492.021904   0.198209  1.0  1.0     0.000000   \n",
       "security_25  security_25   162.470102   0.567609  1.0  1.0     0.000000   \n",
       "security_20  security_20   235.964431   0.292744  1.0  1.0     0.000000   \n",
       "security_1    security_1   428.414509   0.149605  1.0  1.0     0.000000   \n",
       "security_12  security_12   177.437820   0.241226  1.0  1.0     0.000000   \n",
       "security_30  security_30   137.406117   0.287089  1.0  1.0     0.000000   \n",
       "security_3    security_3   543.002486   0.007560  1.0  1.0     0.000000   \n",
       "\n",
       "                        s  \n",
       "security                   \n",
       "security_10  15510.875744  \n",
       "security_7       0.000000  \n",
       "security_11      0.000000  \n",
       "security_26   1537.168677  \n",
       "security_21    864.819046  \n",
       "security_28      0.000000  \n",
       "security_19   1029.257542  \n",
       "security_14      0.000000  \n",
       "security_15   5568.547855  \n",
       "security_29   7588.606479  \n",
       "security_23  13425.112080  \n",
       "security_8    2862.647924  \n",
       "security_31   6318.001678  \n",
       "security_17   2381.229100  \n",
       "security_25   4168.987810  \n",
       "security_20   3811.006672  \n",
       "security_1    7698.342401  \n",
       "security_12   7582.475023  \n",
       "security_30  11018.780805  \n",
       "security_3    4193.452689  "
      ]
     },
     "execution_count": 160,
     "metadata": {},
     "output_type": "execute_result"
    }
   ],
   "source": [
    "new_result"
   ]
  },
  {
   "cell_type": "code",
   "execution_count": null,
   "metadata": {},
   "outputs": [],
   "source": [
    "result.index = result.security\n",
    "# Get In sample and out of sample Excess Return\n",
    "in_q_T = in_price.iloc[-1]\n",
    "out_q_T = in_q_T\n",
    "y_in = result[\"X_1\"] * in_returns * in_q_T #Stock Return at times t\n",
    "y_out = result[\"X_1\"] * out_returns * out_q_T\n",
    "return_scaling = C/((result[\"X_1\"] * out_q_T).sum()) #B'cos not entire C might be invested\n",
    "in_excess_return = ((y_in.sum(axis=1) * return_scaling) - (in_returns[\"index\"] * C)).mean()\n",
    "out_excess_return = ((y_out.sum(axis=1) * return_scaling) - (out_returns[\"index\"] * C)).mean()\n",
    "z_in = result[\"X_1\"] * in_price # Value of stocks in portfolio at time =t\n",
    "z_out = result[\"X_1\"] * out_price\n",
    "theta=C / in_price[\"index\"].iloc[-1]\n",
    "in_tr_err = abs((theta * in_price[\"index\"]) - (z_in.sum(axis=1))).mean()\n",
    "out_tr_err = abs((theta * out_price[\"index\"]) - (z_out.sum(axis=1))).mean()\n",
    "portfolio_size=(result[\"X_1\"]>0).sum()"
   ]
  },
  {
   "cell_type": "code",
   "execution_count": null,
   "metadata": {},
   "outputs": [],
   "source": []
  },
  {
   "cell_type": "code",
   "execution_count": null,
   "metadata": {},
   "outputs": [],
   "source": []
  }
 ],
 "metadata": {
  "kernelspec": {
   "display_name": "Python 3",
   "language": "python",
   "name": "python3"
  },
  "language_info": {
   "codemirror_mode": {
    "name": "ipython",
    "version": 3
   },
   "file_extension": ".py",
   "mimetype": "text/x-python",
   "name": "python",
   "nbconvert_exporter": "python",
   "pygments_lexer": "ipython3",
   "version": "3.8.6"
  }
 },
 "nbformat": 4,
 "nbformat_minor": 4
}
