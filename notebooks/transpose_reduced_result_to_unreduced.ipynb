{
 "cells": [
  {
   "cell_type": "code",
   "execution_count": 1,
   "metadata": {},
   "outputs": [
    {
     "name": "stdout",
     "output_type": "stream",
     "text": [
      "Thu Mar  4 23:28:03 IST 2021\r\n"
     ]
    }
   ],
   "source": [
    "!date"
   ]
  },
  {
   "cell_type": "code",
   "execution_count": 2,
   "metadata": {},
   "outputs": [],
   "source": [
    "import pandas as pd\n",
    "import numpy as np\n",
    "import os\n",
    "\n",
    "import sys\n",
    "sys.path.insert(0,\"..\")\n",
    "from src_dual.EIT_kernel import performance"
   ]
  },
  {
   "cell_type": "markdown",
   "metadata": {},
   "source": [
    "### Define required functions"
   ]
  },
  {
   "cell_type": "code",
   "execution_count": 3,
   "metadata": {},
   "outputs": [],
   "source": [
    "def read_reduced_result(output,bucket,file_indent):\n",
    "    if bucket>=1:\n",
    "        file=output+f\"/EIT_bucket_{int(bucket)}_result_index_{file_indent}.csv\"\n",
    "    else:\n",
    "        if output.split(\"/\")[-2] == \"dual\":\n",
    "            file=output+f\"/EIT_dual_kernel_result_index_{file_indent}.csv\"\n",
    "        else:\n",
    "            file=output+f\"/EIT_kernel_result_index_{file_indent}.csv\"\n",
    "    result=pd.read_csv(file)\n",
    "    return (result)"
   ]
  },
  {
   "cell_type": "code",
   "execution_count": 4,
   "metadata": {},
   "outputs": [],
   "source": [
    "def transpose_to_unreduced(df,C_unreduced,T_unreduced):\n",
    "    output=df[\"output\"]\n",
    "    bucket=df[\"bucket\"]\n",
    "    file_indent=df[\"file\"]\n",
    "    z_value=df[\"z_value\"]\n",
    "    T=df[\"T\"]\n",
    "    if np.isnan(z_value):\n",
    "        return (None,None,None,None,None)\n",
    "    else:\n",
    "        #Step 1: Read required files\n",
    "        reduced_result=read_reduced_result(output,bucket,file_indent)\n",
    "        price_reduced=pd.read_csv(f\"../input/index-weekly-data/index_{file_indent}.csv\")\n",
    "        price_not_reduced=pd.read_csv(\"../input/index-weekly-data/index_1.csv\")\n",
    "        #Step_2: Get Weights\n",
    "        q_T = price_reduced[reduced_result.security].iloc[T]\n",
    "        w = reduced_result[\"X_1\"].values * q_T.values\n",
    "        w = (w / np.sum(w))\n",
    "        #Step 3: Get new X_1\n",
    "        q_T_new = price_not_reduced[reduced_result.security].iloc[200]\n",
    "        X_1_new = w *q_T_new\n",
    "        new_result = reduced_result.copy()\n",
    "        new_result.index=new_result.security\n",
    "        new_result[\"X_1\"] = (w * C_unreduced) / q_T_new\n",
    "        #Generate performance\n",
    "        in_excess_return, in_tr_err, out_excess_return, out_tr_err, portfolio_size = \\\n",
    "            performance(price_not_reduced, new_result, C=C_unreduced, T=T_unreduced)\n",
    "        return(in_excess_return, in_tr_err, out_excess_return, out_tr_err, portfolio_size)"
   ]
  },
  {
   "cell_type": "code",
   "execution_count": 5,
   "metadata": {},
   "outputs": [],
   "source": [
    "def transpose_df(super_df,C_unreduced,T_unreduced):\n",
    "    super_df[\"chk\"]=super_df.apply(lambda x: transpose_to_unreduced(x,C_unreduced,T_unreduced),axis=1)\n",
    "    transpose_cols=[\"in_excess_return_transpose\",\"in_tr_err_transpose\",\"out_excess_return_transpose\",\\\n",
    "               \"out_tr_err_transpose\",\"portfolio_size_transpose\"]\n",
    "    super_df[transpose_cols]=pd.DataFrame(super_df[\"chk\"].to_list())\n",
    "    return (super_df)"
   ]
  },
  {
   "cell_type": "markdown",
   "metadata": {},
   "source": [
    "### Update the required basic/dual result files"
   ]
  },
  {
   "cell_type": "code",
   "execution_count": 6,
   "metadata": {},
   "outputs": [],
   "source": [
    "base_path=\"../eit_basic_dual_unreduced_experiments/\""
   ]
  },
  {
   "cell_type": "code",
   "execution_count": 7,
   "metadata": {},
   "outputs": [
    {
     "name": "stdout",
     "output_type": "stream",
     "text": [
      "\u001b[34mexp_1\u001b[m\u001b[m      \u001b[34mexp_1_npca\u001b[m\u001b[m \u001b[34mexp_2\u001b[m\u001b[m      \u001b[34mexp_2b\u001b[m\u001b[m     \u001b[34mexp_2e\u001b[m\u001b[m\r\n",
      "\u001b[34mexp_1_nmf\u001b[m\u001b[m  \u001b[34mexp_1basic\u001b[m\u001b[m \u001b[34mexp_2a\u001b[m\u001b[m     \u001b[34mexp_2d\u001b[m\u001b[m     \u001b[34mexp_3\u001b[m\u001b[m\r\n"
     ]
    }
   ],
   "source": [
    "!ls $base_path"
   ]
  },
  {
   "cell_type": "code",
   "execution_count": 8,
   "metadata": {},
   "outputs": [],
   "source": [
    "required_dirs=[\"exp_1\",\"exp_1_npca\",\"exp_1_nmf\"]\n",
    "for req_dir in required_dirs:\n",
    "    for key0 in [\"dual\",\"basic\"]:\n",
    "        org_df=pd.read_csv(base_path+req_dir+f\"/{key0}_results_exp_1.csv\")\n",
    "        key1=req_dir.split(\"_\")[-1]\n",
    "        key=(key0,key1)\n",
    "        #Update result\n",
    "        new_df=transpose_df(org_df,C_unreduced=100000,T_unreduced=200)\n",
    "        break\n",
    "        new_df.to_csv(base_path+req_dir+f\"/{key0}_results_exp_1_transposed.csv\")"
   ]
  }
 ],
 "metadata": {
  "kernelspec": {
   "display_name": "Python 3",
   "language": "python",
   "name": "python3"
  },
  "language_info": {
   "codemirror_mode": {
    "name": "ipython",
    "version": 3
   },
   "file_extension": ".py",
   "mimetype": "text/x-python",
   "name": "python",
   "nbconvert_exporter": "python",
   "pygments_lexer": "ipython3",
   "version": "3.8.6"
  }
 },
 "nbformat": 4,
 "nbformat_minor": 4
}
