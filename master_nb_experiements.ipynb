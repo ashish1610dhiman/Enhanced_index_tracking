{
 "cells": [
  {
   "cell_type": "code",
   "execution_count": 4,
   "metadata": {},
   "outputs": [],
   "source": [
    "output=\"experiment_1\"\n",
    "T=200 #Training time period\n",
    "C=1000000 #Capital available\n",
    "file=1 #Index_file\n",
    "m=8 #Inital Size of Kernel\n",
    "lbuck=2 #Size Of Buckets\n",
    "pho=0.1 #Transaction Cost Proportion\n",
    "lamda=1/(1000*C) # lower_bound for capital invested in jth stock\n",
    "nuh=0.8  # upper_bound\n",
    "xii=1.2 # Limit for Tracking Error\n",
    "k=14 #Cardinality constraint for stocks in portfolio\n",
    "p=3 #If stock not selected in optimal soln in last p iters then it is to be dropped from kernel\n",
    "f=12\n",
    "#cj,cb are declared in scripts"
   ]
  },
  {
   "cell_type": "code",
   "execution_count": 5,
   "metadata": {},
   "outputs": [],
   "source": [
    "from eit_basic_experiment import TestEitBasic"
   ]
  },
  {
   "cell_type": "code",
   "execution_count": 6,
   "metadata": {},
   "outputs": [],
   "source": [
    "test_eit=TestEitBasic(output=\"experiment\",T=T,C=C,file=file,m=8,lbuck=lbuck,\\\n",
    "                      pho=pho,lamda=lamda,nuh=nuh,xii=xii,k=k,p=p,f=f)"
   ]
  },
  {
   "cell_type": "code",
   "execution_count": 8,
   "metadata": {},
   "outputs": [
    {
     "name": "stdout",
     "output_type": "stream",
     "text": [
      "+----------------------------------------------------+\n",
      "    Step 1: Solving Linear Relaxation of EIT-Basic\n",
      "+----------------------------------------------------+\n"
     ]
    },
    {
     "ename": "AttributeError",
     "evalue": "'TestEitBasic' object has no attribute 'file'",
     "output_type": "error",
     "traceback": [
      "\u001b[0;31m---------------------------------------------------------------------------\u001b[0m",
      "\u001b[0;31mAttributeError\u001b[0m                            Traceback (most recent call last)",
      "\u001b[0;32m<ipython-input-8-39b972077591>\u001b[0m in \u001b[0;36m<module>\u001b[0;34m\u001b[0m\n\u001b[1;32m      1\u001b[0m \u001b[0;31m#test step_1\u001b[0m\u001b[0;34m\u001b[0m\u001b[0;34m\u001b[0m\u001b[0;34m\u001b[0m\u001b[0m\n\u001b[0;32m----> 2\u001b[0;31m \u001b[0mtest_eit\u001b[0m\u001b[0;34m.\u001b[0m\u001b[0mstep_1\u001b[0m\u001b[0;34m(\u001b[0m\u001b[0;34m)\u001b[0m\u001b[0;34m\u001b[0m\u001b[0;34m\u001b[0m\u001b[0m\n\u001b[0m",
      "\u001b[0;32m~/data_projects/index_tracking_kgp/eit_paper/eit_basic_experiment.py\u001b[0m in \u001b[0;36mstep_1\u001b[0;34m(self, verbose)\u001b[0m\n\u001b[1;32m     30\u001b[0m         \u001b[0;31m# print (\"len sys.argv in experiment={}\".format(len(sys.argv)))\u001b[0m\u001b[0;34m\u001b[0m\u001b[0;34m\u001b[0m\u001b[0;34m\u001b[0m\u001b[0m\n\u001b[1;32m     31\u001b[0m         out = os.system(\"python ./src/linear_relaxation.py {} {} {} {} {} {} {} {} {} {}\". \\\n\u001b[0;32m---> 32\u001b[0;31m                         format(self.file, self.T, self.xii, self.k, self.pho, self.nuh, self.C,\\\n\u001b[0m\u001b[1;32m     33\u001b[0m                                self.lamda, self.f, self.output))\n\u001b[1;32m     34\u001b[0m         \u001b[0;32massert\u001b[0m \u001b[0mout\u001b[0m \u001b[0;34m==\u001b[0m \u001b[0;36m0\u001b[0m\u001b[0;34m,\u001b[0m \u001b[0;34m\"Error in linear relaxation\"\u001b[0m\u001b[0;34m\u001b[0m\u001b[0;34m\u001b[0m\u001b[0m\n",
      "\u001b[0;31mAttributeError\u001b[0m: 'TestEitBasic' object has no attribute 'file'"
     ]
    }
   ],
   "source": [
    "#test step_1\n",
    "test_eit.step_1()"
   ]
  },
  {
   "cell_type": "code",
   "execution_count": 9,
   "metadata": {},
   "outputs": [
    {
     "name": "stdout",
     "output_type": "stream",
     "text": [
      "{'output': 'experiment', 'T': 200, 'C': 1000000, 'file': 1, 'm': 8, 'lbuck': 2, 'pho': 0.1, 'lamda': 1e-09, 'nuh': 0.8, 'xii': 1.2, 'k': 14, 'p': 3, 'f': 12}\n"
     ]
    }
   ],
   "source": [
    "test_eit.print_params()"
   ]
  },
  {
   "cell_type": "code",
   "execution_count": 17,
   "metadata": {},
   "outputs": [
    {
     "data": {
      "text/plain": [
       "1"
      ]
     },
     "execution_count": 17,
     "metadata": {},
     "output_type": "execute_result"
    }
   ],
   "source": [
    "test_eit.param_dict"
   ]
  },
  {
   "cell_type": "code",
   "execution_count": null,
   "metadata": {},
   "outputs": [],
   "source": []
  },
  {
   "cell_type": "code",
   "execution_count": null,
   "metadata": {},
   "outputs": [],
   "source": []
  }
 ],
 "metadata": {
  "kernelspec": {
   "display_name": "Python 3",
   "language": "python",
   "name": "python3"
  },
  "language_info": {
   "codemirror_mode": {
    "name": "ipython",
    "version": 3
   },
   "file_extension": ".py",
   "mimetype": "text/x-python",
   "name": "python",
   "nbconvert_exporter": "python",
   "pygments_lexer": "ipython3",
   "version": "3.8.6"
  }
 },
 "nbformat": 4,
 "nbformat_minor": 4
}
