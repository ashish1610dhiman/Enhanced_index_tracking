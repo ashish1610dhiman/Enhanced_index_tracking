{
 "cells": [
  {
   "cell_type": "markdown",
   "metadata": {},
   "source": [
    "## Master Notebook for Experiements on EIT basic with various param values"
   ]
  },
  {
   "cell_type": "markdown",
   "metadata": {},
   "source": [
    "##### Declare parameters"
   ]
  },
  {
   "cell_type": "code",
   "execution_count": 1,
   "metadata": {},
   "outputs": [],
   "source": [
    "base_path=\"eit_basic_experiments/exp_1\" #Don't add '/' at start and end\n",
    "T=200 #Training time period\n",
    "C=1000000 #Capital available\n",
    "file=1 #Index_file\n",
    "m=8 #Inital Size of Kernel\n",
    "lbuck=2 #Size Of Buckets\n",
    "pho=0.1 #Transaction Cost Proportion\n",
    "lamda=1/(1000*C) # lower_bound for capital invested in jth stock\n",
    "nuh=0.8  # upper_bound\n",
    "xii=1.2 # Limit for Tracking Error\n",
    "k=14 #Cardinality constraint for stocks in portfolio\n",
    "p=3 #If stock not selected in optimal soln in last p iters then it is to be dropped from kernel\n",
    "f=12\n",
    "#cj,cb are declared in scripts"
   ]
  },
  {
   "cell_type": "code",
   "execution_count": 2,
   "metadata": {},
   "outputs": [],
   "source": [
    "from eit_basic_experiment import TestEitBasic\n",
    "import time\n",
    "from IPython.utils import io"
   ]
  },
  {
   "cell_type": "code",
   "execution_count": 3,
   "metadata": {},
   "outputs": [],
   "source": [
    "!rm -r ./eit_basic_experiments/exp_1/*"
   ]
  },
  {
   "cell_type": "markdown",
   "metadata": {},
   "source": [
    "### Experiemnt 1: various values of pho"
   ]
  },
  {
   "cell_type": "code",
   "execution_count": 4,
   "metadata": {},
   "outputs": [
    {
     "name": "stdout",
     "output_type": "stream",
     "text": [
      "For pho=0.01\n",
      "None\n",
      "\n",
      "For pho=0.1\n",
      "Efficiency=98.81%\n",
      "\n",
      "For pho=0.2\n",
      "Efficiency=98.81%\n",
      "\n",
      "For pho=0.5\n",
      "Efficiency=98.81%\n",
      "\n",
      "CPU times: user 48.9 s, sys: 1.5 s, total: 50.4 s\n",
      "Wall time: 52.5 s\n"
     ]
    }
   ],
   "source": [
    "%%time\n",
    "result_dict={}\n",
    "for pho in [0.01,0.1,0.2,0.5]:\n",
    "    print (\"For pho={}\".format(pho))\n",
    "    output=base_path+\"/for_pho={}\".format(pho)\n",
    "    test_eit=TestEitBasic(output=output,T=T,C=C,file=file,m=8,lbuck=lbuck,\\\n",
    "                      pho=pho,lamda=lamda,nuh=nuh,xii=xii,k=k,p=p,f=f);\n",
    "    with io.capture_output() as captured:\n",
    "        result_dict[pho]=test_eit.run_experiment(verbose=False);\n",
    "    try:\n",
    "        print (\"Efficiency={:.2%}\".format(float(test_eit.best_objective_eit/test_eit.objective_linear)))\n",
    "    except:\n",
    "        print (None)\n",
    "    print()\n",
    "    #test_eit.print_result()"
   ]
  },
  {
   "cell_type": "markdown",
   "metadata": {},
   "source": [
    "### Experiemnt 2: various values of xii"
   ]
  },
  {
   "cell_type": "code",
   "execution_count": 5,
   "metadata": {},
   "outputs": [],
   "source": [
    "pho=0.1"
   ]
  },
  {
   "cell_type": "code",
   "execution_count": 6,
   "metadata": {},
   "outputs": [
    {
     "name": "stdout",
     "output_type": "stream",
     "text": [
      "For xii=0.2\n",
      "None\n",
      "\n",
      "For xii=0.5\n",
      "None\n",
      "\n",
      "For xii=0.9\n",
      "None\n",
      "\n",
      "For xii=1.2\n",
      "Efficiency=98.81%\n",
      "\n",
      "For xii=1.4\n",
      "Efficiency=99.60%\n",
      "\n",
      "For xii=1.6\n",
      "None\n",
      "\n"
     ]
    }
   ],
   "source": [
    "result_dict={}\n",
    "for xii in [0.2,0.5,0.9,1.2,1.4,1.6]:\n",
    "    print (\"For xii={}\".format(xii))\n",
    "    output=base_path+\"/for_xii={}\".format(xii)\n",
    "    test_eit=TestEitBasic(output=output,T=T,C=C,file=file,m=8,lbuck=lbuck,\\\n",
    "                      pho=pho,lamda=lamda,nuh=nuh,xii=xii,k=k,p=p,f=f);\n",
    "    with io.capture_output() as captured:\n",
    "        result_dict[pho]=test_eit.run_experiment(verbose=False);\n",
    "    try:\n",
    "        print (\"Efficiency={:.2%}\".format(float(test_eit.best_objective_eit/test_eit.objective_linear)))\n",
    "    except:\n",
    "        print (None)\n",
    "    print()\n",
    "    #test_eit.print_result()"
   ]
  },
  {
   "cell_type": "markdown",
   "metadata": {},
   "source": [
    "### Experiemnt 3: various values of k"
   ]
  },
  {
   "cell_type": "code",
   "execution_count": 7,
   "metadata": {},
   "outputs": [],
   "source": [
    "xii=1.4"
   ]
  },
  {
   "cell_type": "code",
   "execution_count": 8,
   "metadata": {},
   "outputs": [
    {
     "name": "stdout",
     "output_type": "stream",
     "text": [
      "For k=10\n",
      "Efficiency=95.63%\n",
      "\n",
      "For k=16\n",
      "Efficiency=99.91%\n",
      "\n",
      "For k=20\n",
      "Efficiency=100.00%\n",
      "\n",
      "For k=25\n",
      "Efficiency=100.00%\n",
      "\n",
      "For k=30\n",
      "Efficiency=100.00%\n",
      "\n"
     ]
    }
   ],
   "source": [
    "result_dict={}\n",
    "for k in [10,16,20,25,30]:\n",
    "    print (\"For k={}\".format(k))\n",
    "    output=base_path+\"/for_k={}\".format(k)\n",
    "    test_eit=TestEitBasic(output=output,T=T,C=C,file=file,m=8,lbuck=lbuck,\\\n",
    "                      pho=pho,lamda=lamda,nuh=nuh,xii=xii,k=k,p=p,f=f);\n",
    "    with io.capture_output() as captured:\n",
    "        result_dict[pho]=test_eit.run_experiment(verbose=False);\n",
    "    try:\n",
    "        print (\"Efficiency={:.2%}\".format(float(test_eit.best_objective_eit/test_eit.objective_linear)))\n",
    "    except:\n",
    "        print (None)\n",
    "    print()\n",
    "    #test_eit.print_result()"
   ]
  },
  {
   "cell_type": "code",
   "execution_count": null,
   "metadata": {},
   "outputs": [],
   "source": []
  },
  {
   "cell_type": "code",
   "execution_count": null,
   "metadata": {},
   "outputs": [],
   "source": []
  },
  {
   "cell_type": "code",
   "execution_count": null,
   "metadata": {},
   "outputs": [],
   "source": []
  },
  {
   "cell_type": "markdown",
   "metadata": {},
   "source": [
    "### JUNK"
   ]
  },
  {
   "cell_type": "code",
   "execution_count": 10,
   "metadata": {},
   "outputs": [
    {
     "name": "stdout",
     "output_type": "stream",
     "text": [
      "0.1 1633.8000788145482\n",
      "0.2 1633.8000788145473\n",
      "0.5 1633.8000788145482\n"
     ]
    }
   ],
   "source": [
    "for pho, result in result_dict.items():\n",
    "    try:\n",
    "        print (pho,result[\"z_value\"].max())\n",
    "    except:\n",
    "        continue"
   ]
  },
  {
   "cell_type": "code",
   "execution_count": 11,
   "metadata": {},
   "outputs": [
    {
     "data": {
      "text/plain": [
       "{0.01: None,\n",
       " 0.1:     bucket  kernel_size                 problem_status      z_value\n",
       " 0        0            8     OptimizationStatus.OPTIMAL  1300.828000\n",
       " 1        1           10     OptimizationStatus.OPTIMAL  1479.030549\n",
       " 2        2           12     OptimizationStatus.OPTIMAL  1589.727456\n",
       " 3        3           14     OptimizationStatus.OPTIMAL  1628.268633\n",
       " 4        4           15     OptimizationStatus.OPTIMAL  1633.800079\n",
       " 5        5           15  OptimizationStatus.INFEASIBLE          NaN\n",
       " 6        6           15  OptimizationStatus.INFEASIBLE          NaN\n",
       " 7        7           15  OptimizationStatus.INFEASIBLE          NaN\n",
       " 8        8           15  OptimizationStatus.INFEASIBLE          NaN\n",
       " 9        9           15  OptimizationStatus.INFEASIBLE          NaN\n",
       " 10      10           15  OptimizationStatus.INFEASIBLE          NaN\n",
       " 11      11           15  OptimizationStatus.INFEASIBLE          NaN\n",
       " 12      12           15  OptimizationStatus.INFEASIBLE          NaN,\n",
       " 0.2:     bucket  kernel_size                 problem_status      z_value\n",
       " 0        0            8     OptimizationStatus.OPTIMAL  1300.828000\n",
       " 1        1           10     OptimizationStatus.OPTIMAL  1479.030549\n",
       " 2        2           12     OptimizationStatus.OPTIMAL  1589.727456\n",
       " 3        3           14     OptimizationStatus.OPTIMAL  1628.268633\n",
       " 4        4           15     OptimizationStatus.OPTIMAL  1633.800079\n",
       " 5        5           15  OptimizationStatus.INFEASIBLE          NaN\n",
       " 6        6           15  OptimizationStatus.INFEASIBLE          NaN\n",
       " 7        7           15  OptimizationStatus.INFEASIBLE          NaN\n",
       " 8        8           15  OptimizationStatus.INFEASIBLE          NaN\n",
       " 9        9           15  OptimizationStatus.INFEASIBLE          NaN\n",
       " 10      10           15  OptimizationStatus.INFEASIBLE          NaN\n",
       " 11      11           15  OptimizationStatus.INFEASIBLE          NaN\n",
       " 12      12           15  OptimizationStatus.INFEASIBLE          NaN,\n",
       " 0.5:     bucket  kernel_size                 problem_status      z_value\n",
       " 0        0            8     OptimizationStatus.OPTIMAL  1300.828000\n",
       " 1        1           10     OptimizationStatus.OPTIMAL  1479.030549\n",
       " 2        2           12     OptimizationStatus.OPTIMAL  1589.727456\n",
       " 3        3           14     OptimizationStatus.OPTIMAL  1628.268633\n",
       " 4        4           15     OptimizationStatus.OPTIMAL  1633.800079\n",
       " 5        5           15  OptimizationStatus.INFEASIBLE          NaN\n",
       " 6        6           15  OptimizationStatus.INFEASIBLE          NaN\n",
       " 7        7           15  OptimizationStatus.INFEASIBLE          NaN\n",
       " 8        8           15  OptimizationStatus.INFEASIBLE          NaN\n",
       " 9        9           15  OptimizationStatus.INFEASIBLE          NaN\n",
       " 10      10           15  OptimizationStatus.INFEASIBLE          NaN\n",
       " 11      11           15  OptimizationStatus.INFEASIBLE          NaN\n",
       " 12      12           15  OptimizationStatus.INFEASIBLE          NaN}"
      ]
     },
     "execution_count": 11,
     "metadata": {},
     "output_type": "execute_result"
    }
   ],
   "source": [
    "result_dict"
   ]
  }
 ],
 "metadata": {
  "kernelspec": {
   "display_name": "Python 3",
   "language": "python",
   "name": "python3"
  },
  "language_info": {
   "codemirror_mode": {
    "name": "ipython",
    "version": 3
   },
   "file_extension": ".py",
   "mimetype": "text/x-python",
   "name": "python",
   "nbconvert_exporter": "python",
   "pygments_lexer": "ipython3",
   "version": "3.8.6"
  }
 },
 "nbformat": 4,
 "nbformat_minor": 4
}
