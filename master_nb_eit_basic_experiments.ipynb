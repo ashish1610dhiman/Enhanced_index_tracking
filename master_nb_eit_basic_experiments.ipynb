{
 "cells": [
  {
   "cell_type": "markdown",
   "metadata": {},
   "source": [
    "## Master Notebook for Experiements on EIT basic with various param values"
   ]
  },
  {
   "cell_type": "markdown",
   "metadata": {},
   "source": [
    "##### Declare parameters"
   ]
  },
  {
   "cell_type": "code",
   "execution_count": 1,
   "metadata": {},
   "outputs": [],
   "source": [
    "base_path=\"eit_basic_experiments/exp_1\" #Don't add '/' at start and end\n",
    "T=200 #Training time period\n",
    "C=1000000 #Capital available\n",
    "file=1 #Index_file\n",
    "m=8 #Inital Size of Kernel\n",
    "lbuck=2 #Size Of Buckets\n",
    "pho=0.1 #Transaction Cost Proportion\n",
    "lamda=1/(1000*C) # lower_bound for capital invested in jth stock\n",
    "nuh=0.8  # upper_bound\n",
    "xii=1.2 # Limit for Tracking Error\n",
    "k=14 #Cardinality constraint for stocks in portfolio\n",
    "p=3 #If stock not selected in optimal soln in last p iters then it is to be dropped from kernel\n",
    "f=12\n",
    "#cj,cb are declared in scripts"
   ]
  },
  {
   "cell_type": "code",
   "execution_count": 2,
   "metadata": {},
   "outputs": [],
   "source": [
    "from eit_basic_experiment import TestEitBasic\n",
    "import time\n",
    "from IPython.utils import io"
   ]
  },
  {
   "cell_type": "code",
   "execution_count": 3,
   "metadata": {},
   "outputs": [],
   "source": [
    "!rm -r ./eit_basic_experiments/exp_1/*"
   ]
  },
  {
   "cell_type": "markdown",
   "metadata": {},
   "source": [
    "### Experiemnt 1: various values of pho"
   ]
  },
  {
   "cell_type": "code",
   "execution_count": 4,
   "metadata": {},
   "outputs": [
    {
     "name": "stdout",
     "output_type": "stream",
     "text": [
      "For pho=0.01\n",
      "None\n",
      "\n",
      "For pho=0.1\n",
      "Efficiency=98.81%\n",
      "\n",
      "For pho=0.2\n",
      "Efficiency=98.81%\n",
      "\n",
      "For pho=0.5\n",
      "Efficiency=98.81%\n",
      "\n",
      "CPU times: user 46.3 s, sys: 1.32 s, total: 47.7 s\n",
      "Wall time: 49.2 s\n"
     ]
    }
   ],
   "source": [
    "%%time\n",
    "result_dict={}\n",
    "for pho in [0.01,0.1,0.2,0.5]:\n",
    "    print (\"For pho={}\".format(pho))\n",
    "    output=base_path+\"/for_pho={}\".format(pho)\n",
    "    test_eit=TestEitBasic(output=output,T=T,C=C,file=file,m=8,lbuck=lbuck,\\\n",
    "                      pho=pho,lamda=lamda,nuh=nuh,xii=xii,k=k,p=p,f=f);\n",
    "    with io.capture_output() as captured:\n",
    "        result_dict[pho]=test_eit.run_experiment(verbose=False);\n",
    "    try:\n",
    "        print (\"Efficiency={:.2%}\".format(float(test_eit.best_objective_eit/test_eit.objective_linear)))\n",
    "    except:\n",
    "        print (None)\n",
    "    print()\n",
    "    #test_eit.print_result()"
   ]
  },
  {
   "cell_type": "markdown",
   "metadata": {},
   "source": [
    "### Experiemnt 2: various values of xii"
   ]
  },
  {
   "cell_type": "code",
   "execution_count": 6,
   "metadata": {},
   "outputs": [
    {
     "name": "stdout",
     "output_type": "stream",
     "text": [
      "For xii=0.2\n",
      "None\n",
      "\n",
      "For xii=0.5\n"
     ]
    },
    {
     "ename": "UnboundLocalError",
     "evalue": "local variable 'status' referenced before assignment",
     "output_type": "error",
     "traceback": [
      "\u001b[0;31m---------------------------------------------------------------------------\u001b[0m",
      "\u001b[0;31mTypeError\u001b[0m                                 Traceback (most recent call last)",
      "\u001b[0;32m~/data_projects/index_tracking_kgp/eit_paper/eit_basic_experiment.py\u001b[0m in \u001b[0;36mstep_2b\u001b[0;34m(self, kernel, buckets, verbose)\u001b[0m\n\u001b[1;32m     82\u001b[0m         \u001b[0;32mtry\u001b[0m\u001b[0;34m:\u001b[0m\u001b[0;34m\u001b[0m\u001b[0;34m\u001b[0m\u001b[0m\n\u001b[0;32m---> 83\u001b[0;31m             status, z = src.EIT_kernel.EIT_kernel(kernel, self.C, self.T, self.file, self.lamda, \\\n\u001b[0m\u001b[1;32m     84\u001b[0m                                                   self.nuh, self.xii, self.k, self.pho, self.f, self.output)\n",
      "\u001b[0;32m~/data_projects/index_tracking_kgp/eit_paper/src/EIT_kernel.py\u001b[0m in \u001b[0;36mEIT_kernel\u001b[0;34m(kernel, C, T, file, lamda, nuh, xii, k, pho, f, output)\u001b[0m\n\u001b[1;32m    122\u001b[0m     \u001b[0mLP\u001b[0m\u001b[0;34m.\u001b[0m\u001b[0mwrite\u001b[0m\u001b[0;34m(\u001b[0m\u001b[0moutput\u001b[0m\u001b[0;34m+\u001b[0m\u001b[0;34m\"/EIT_kernel_for_index_{}.lp\"\u001b[0m\u001b[0;34m.\u001b[0m\u001b[0mformat\u001b[0m\u001b[0;34m(\u001b[0m\u001b[0mfile\u001b[0m\u001b[0;34m)\u001b[0m\u001b[0;34m)\u001b[0m\u001b[0;34m\u001b[0m\u001b[0;34m\u001b[0m\u001b[0m\n\u001b[0;32m--> 123\u001b[0;31m     \u001b[0;32mreturn\u001b[0m\u001b[0;34m(\u001b[0m\u001b[0mstatus\u001b[0m\u001b[0;34m,\u001b[0m\u001b[0mround\u001b[0m\u001b[0;34m(\u001b[0m\u001b[0mLP\u001b[0m\u001b[0;34m.\u001b[0m\u001b[0mobjective_value\u001b[0m\u001b[0;34m,\u001b[0m\u001b[0;36m3\u001b[0m\u001b[0;34m)\u001b[0m\u001b[0;34m)\u001b[0m\u001b[0;34m\u001b[0m\u001b[0;34m\u001b[0m\u001b[0m\n\u001b[0m\u001b[1;32m    124\u001b[0m \u001b[0;34m\u001b[0m\u001b[0m\n",
      "\u001b[0;31mTypeError\u001b[0m: type NoneType doesn't define __round__ method",
      "\nDuring handling of the above exception, another exception occurred:\n",
      "\u001b[0;31mUnboundLocalError\u001b[0m                         Traceback (most recent call last)",
      "\u001b[0;32m<ipython-input-6-db4e7eb397b1>\u001b[0m in \u001b[0;36m<module>\u001b[0;34m\u001b[0m\n\u001b[1;32m      6\u001b[0m                       pho=pho,lamda=lamda,nuh=nuh,xii=xii,k=k,p=p,f=f);\n\u001b[1;32m      7\u001b[0m     \u001b[0;32mwith\u001b[0m \u001b[0mio\u001b[0m\u001b[0;34m.\u001b[0m\u001b[0mcapture_output\u001b[0m\u001b[0;34m(\u001b[0m\u001b[0;34m)\u001b[0m \u001b[0;32mas\u001b[0m \u001b[0mcaptured\u001b[0m\u001b[0;34m:\u001b[0m\u001b[0;34m\u001b[0m\u001b[0;34m\u001b[0m\u001b[0m\n\u001b[0;32m----> 8\u001b[0;31m         \u001b[0mresult_dict\u001b[0m\u001b[0;34m[\u001b[0m\u001b[0mpho\u001b[0m\u001b[0;34m]\u001b[0m\u001b[0;34m=\u001b[0m\u001b[0mtest_eit\u001b[0m\u001b[0;34m.\u001b[0m\u001b[0mrun_experiment\u001b[0m\u001b[0;34m(\u001b[0m\u001b[0mverbose\u001b[0m\u001b[0;34m=\u001b[0m\u001b[0;32mFalse\u001b[0m\u001b[0;34m)\u001b[0m\u001b[0;34m;\u001b[0m\u001b[0;34m\u001b[0m\u001b[0;34m\u001b[0m\u001b[0m\n\u001b[0m\u001b[1;32m      9\u001b[0m     \u001b[0;32mtry\u001b[0m\u001b[0;34m:\u001b[0m\u001b[0;34m\u001b[0m\u001b[0;34m\u001b[0m\u001b[0m\n\u001b[1;32m     10\u001b[0m         \u001b[0mprint\u001b[0m \u001b[0;34m(\u001b[0m\u001b[0;34m\"Efficiency={:.2%}\"\u001b[0m\u001b[0;34m.\u001b[0m\u001b[0mformat\u001b[0m\u001b[0;34m(\u001b[0m\u001b[0mfloat\u001b[0m\u001b[0;34m(\u001b[0m\u001b[0mtest_eit\u001b[0m\u001b[0;34m.\u001b[0m\u001b[0mbest_objective_eit\u001b[0m\u001b[0;34m/\u001b[0m\u001b[0mtest_eit\u001b[0m\u001b[0;34m.\u001b[0m\u001b[0mobjective_linear\u001b[0m\u001b[0;34m)\u001b[0m\u001b[0;34m)\u001b[0m\u001b[0;34m)\u001b[0m\u001b[0;34m\u001b[0m\u001b[0;34m\u001b[0m\u001b[0m\n",
      "\u001b[0;32m~/data_projects/index_tracking_kgp/eit_paper/eit_basic_experiment.py\u001b[0m in \u001b[0;36mrun_experiment\u001b[0;34m(self, verbose)\u001b[0m\n\u001b[1;32m    195\u001b[0m         \u001b[0;32mif\u001b[0m  \u001b[0;32mnot\u001b[0m \u001b[0mfailure\u001b[0m\u001b[0;34m:\u001b[0m\u001b[0;34m\u001b[0m\u001b[0;34m\u001b[0m\u001b[0m\n\u001b[1;32m    196\u001b[0m             \u001b[0mkernel\u001b[0m\u001b[0;34m,\u001b[0m \u001b[0mbuckets\u001b[0m\u001b[0;34m,\u001b[0m \u001b[0mL\u001b[0m\u001b[0;34m,\u001b[0m \u001b[0mNb\u001b[0m \u001b[0;34m=\u001b[0m \u001b[0mself\u001b[0m\u001b[0;34m.\u001b[0m\u001b[0mstep_2a\u001b[0m\u001b[0;34m(\u001b[0m\u001b[0mfailure\u001b[0m\u001b[0;34m,\u001b[0m \u001b[0mz_lp\u001b[0m\u001b[0;34m,\u001b[0m \u001b[0mresult_lp\u001b[0m\u001b[0;34m,\u001b[0m\u001b[0mverbose\u001b[0m\u001b[0;34m=\u001b[0m\u001b[0mverbose\u001b[0m\u001b[0;34m)\u001b[0m\u001b[0;34m\u001b[0m\u001b[0;34m\u001b[0m\u001b[0m\n\u001b[0;32m--> 197\u001b[0;31m             \u001b[0mz\u001b[0m\u001b[0;34m,\u001b[0m \u001b[0mfailure\u001b[0m\u001b[0;34m,\u001b[0m\u001b[0mexecution_result\u001b[0m \u001b[0;34m=\u001b[0m \u001b[0mself\u001b[0m\u001b[0;34m.\u001b[0m\u001b[0mstep_2b\u001b[0m\u001b[0;34m(\u001b[0m\u001b[0mkernel\u001b[0m\u001b[0;34m,\u001b[0m \u001b[0mbuckets\u001b[0m\u001b[0;34m,\u001b[0m \u001b[0mverbose\u001b[0m\u001b[0;34m=\u001b[0m\u001b[0mverbose\u001b[0m\u001b[0;34m)\u001b[0m\u001b[0;34m\u001b[0m\u001b[0;34m\u001b[0m\u001b[0m\n\u001b[0m\u001b[1;32m    198\u001b[0m             \u001b[0mexecution_result\u001b[0m\u001b[0;34m=\u001b[0m\u001b[0mself\u001b[0m\u001b[0;34m.\u001b[0m\u001b[0mstep_3\u001b[0m\u001b[0;34m(\u001b[0m\u001b[0mkernel\u001b[0m\u001b[0;34m,\u001b[0m \u001b[0mL\u001b[0m\u001b[0;34m,\u001b[0m \u001b[0mz\u001b[0m\u001b[0;34m,\u001b[0m \u001b[0mNb\u001b[0m\u001b[0;34m,\u001b[0m \u001b[0mbuckets\u001b[0m\u001b[0;34m,\u001b[0m \u001b[0mfailure\u001b[0m\u001b[0;34m,\u001b[0m\u001b[0mexecution_result\u001b[0m\u001b[0;34m,\u001b[0m \u001b[0mverbose\u001b[0m\u001b[0;34m=\u001b[0m\u001b[0mverbose\u001b[0m\u001b[0;34m)\u001b[0m\u001b[0;34m\u001b[0m\u001b[0;34m\u001b[0m\u001b[0m\n\u001b[1;32m    199\u001b[0m         \u001b[0;32melse\u001b[0m\u001b[0;34m:\u001b[0m\u001b[0;34m\u001b[0m\u001b[0;34m\u001b[0m\u001b[0m\n",
      "\u001b[0;32m~/data_projects/index_tracking_kgp/eit_paper/eit_basic_experiment.py\u001b[0m in \u001b[0;36mstep_2b\u001b[0;34m(self, kernel, buckets, verbose)\u001b[0m\n\u001b[1;32m     87\u001b[0m             \u001b[0mprint\u001b[0m\u001b[0;34m(\u001b[0m\u001b[0;34m\"ERROR in EIT Kernel\"\u001b[0m\u001b[0;34m)\u001b[0m\u001b[0;34m\u001b[0m\u001b[0;34m\u001b[0m\u001b[0m\n\u001b[1;32m     88\u001b[0m             \u001b[0mfailure\u001b[0m \u001b[0;34m=\u001b[0m\u001b[0;32mTrue\u001b[0m\u001b[0;34m\u001b[0m\u001b[0;34m\u001b[0m\u001b[0m\n\u001b[0;32m---> 89\u001b[0;31m             \u001b[0mprint\u001b[0m\u001b[0;34m(\u001b[0m\u001b[0mstatus\u001b[0m\u001b[0;34m)\u001b[0m\u001b[0;34m\u001b[0m\u001b[0;34m\u001b[0m\u001b[0m\n\u001b[0m\u001b[1;32m     90\u001b[0m \u001b[0;34m\u001b[0m\u001b[0m\n\u001b[1;32m     91\u001b[0m         \u001b[0mexecution_result\u001b[0m \u001b[0;34m=\u001b[0m \u001b[0msrc\u001b[0m\u001b[0;34m.\u001b[0m\u001b[0mEIT_kernel\u001b[0m\u001b[0;34m.\u001b[0m\u001b[0mpd\u001b[0m\u001b[0;34m.\u001b[0m\u001b[0mDataFrame\u001b[0m\u001b[0;34m(\u001b[0m\u001b[0;34m)\u001b[0m\u001b[0;34m\u001b[0m\u001b[0;34m\u001b[0m\u001b[0m\n",
      "\u001b[0;31mUnboundLocalError\u001b[0m: local variable 'status' referenced before assignment"
     ]
    }
   ],
   "source": [
    "result_dict={}\n",
    "for xii in [0.2,0.5,0.9,1.2,1.4,1.6]:\n",
    "    print (\"For xii={}\".format(xii))\n",
    "    output=base_path+\"/for_xii={}\".format(xii)\n",
    "    test_eit=TestEitBasic(output=output,T=T,C=C,file=file,m=8,lbuck=lbuck,\\\n",
    "                      pho=pho,lamda=lamda,nuh=nuh,xii=xii,k=k,p=p,f=f);\n",
    "    with io.capture_output() as captured:\n",
    "        result_dict[pho]=test_eit.run_experiment(verbose=False);\n",
    "    try:\n",
    "        print (\"Efficiency={:.2%}\".format(float(test_eit.best_objective_eit/test_eit.objective_linear)))\n",
    "    except:\n",
    "        print (None)\n",
    "    print()\n",
    "    #test_eit.print_result()"
   ]
  },
  {
   "cell_type": "code",
   "execution_count": null,
   "metadata": {},
   "outputs": [],
   "source": []
  },
  {
   "cell_type": "code",
   "execution_count": null,
   "metadata": {},
   "outputs": [],
   "source": []
  },
  {
   "cell_type": "code",
   "execution_count": null,
   "metadata": {},
   "outputs": [],
   "source": []
  },
  {
   "cell_type": "code",
   "execution_count": null,
   "metadata": {},
   "outputs": [],
   "source": []
  },
  {
   "cell_type": "code",
   "execution_count": null,
   "metadata": {},
   "outputs": [],
   "source": []
  },
  {
   "cell_type": "code",
   "execution_count": null,
   "metadata": {},
   "outputs": [],
   "source": []
  },
  {
   "cell_type": "code",
   "execution_count": null,
   "metadata": {},
   "outputs": [],
   "source": []
  },
  {
   "cell_type": "code",
   "execution_count": 10,
   "metadata": {},
   "outputs": [
    {
     "name": "stdout",
     "output_type": "stream",
     "text": [
      "0.1 1633.8000788145482\n",
      "0.2 1633.8000788145473\n",
      "0.5 1633.8000788145482\n"
     ]
    }
   ],
   "source": [
    "for pho, result in result_dict.items():\n",
    "    try:\n",
    "        print (pho,result[\"z_value\"].max())\n",
    "    except:\n",
    "        continue"
   ]
  },
  {
   "cell_type": "code",
   "execution_count": 11,
   "metadata": {},
   "outputs": [
    {
     "data": {
      "text/plain": [
       "{0.01: None,\n",
       " 0.1:     bucket  kernel_size                 problem_status      z_value\n",
       " 0        0            8     OptimizationStatus.OPTIMAL  1300.828000\n",
       " 1        1           10     OptimizationStatus.OPTIMAL  1479.030549\n",
       " 2        2           12     OptimizationStatus.OPTIMAL  1589.727456\n",
       " 3        3           14     OptimizationStatus.OPTIMAL  1628.268633\n",
       " 4        4           15     OptimizationStatus.OPTIMAL  1633.800079\n",
       " 5        5           15  OptimizationStatus.INFEASIBLE          NaN\n",
       " 6        6           15  OptimizationStatus.INFEASIBLE          NaN\n",
       " 7        7           15  OptimizationStatus.INFEASIBLE          NaN\n",
       " 8        8           15  OptimizationStatus.INFEASIBLE          NaN\n",
       " 9        9           15  OptimizationStatus.INFEASIBLE          NaN\n",
       " 10      10           15  OptimizationStatus.INFEASIBLE          NaN\n",
       " 11      11           15  OptimizationStatus.INFEASIBLE          NaN\n",
       " 12      12           15  OptimizationStatus.INFEASIBLE          NaN,\n",
       " 0.2:     bucket  kernel_size                 problem_status      z_value\n",
       " 0        0            8     OptimizationStatus.OPTIMAL  1300.828000\n",
       " 1        1           10     OptimizationStatus.OPTIMAL  1479.030549\n",
       " 2        2           12     OptimizationStatus.OPTIMAL  1589.727456\n",
       " 3        3           14     OptimizationStatus.OPTIMAL  1628.268633\n",
       " 4        4           15     OptimizationStatus.OPTIMAL  1633.800079\n",
       " 5        5           15  OptimizationStatus.INFEASIBLE          NaN\n",
       " 6        6           15  OptimizationStatus.INFEASIBLE          NaN\n",
       " 7        7           15  OptimizationStatus.INFEASIBLE          NaN\n",
       " 8        8           15  OptimizationStatus.INFEASIBLE          NaN\n",
       " 9        9           15  OptimizationStatus.INFEASIBLE          NaN\n",
       " 10      10           15  OptimizationStatus.INFEASIBLE          NaN\n",
       " 11      11           15  OptimizationStatus.INFEASIBLE          NaN\n",
       " 12      12           15  OptimizationStatus.INFEASIBLE          NaN,\n",
       " 0.5:     bucket  kernel_size                 problem_status      z_value\n",
       " 0        0            8     OptimizationStatus.OPTIMAL  1300.828000\n",
       " 1        1           10     OptimizationStatus.OPTIMAL  1479.030549\n",
       " 2        2           12     OptimizationStatus.OPTIMAL  1589.727456\n",
       " 3        3           14     OptimizationStatus.OPTIMAL  1628.268633\n",
       " 4        4           15     OptimizationStatus.OPTIMAL  1633.800079\n",
       " 5        5           15  OptimizationStatus.INFEASIBLE          NaN\n",
       " 6        6           15  OptimizationStatus.INFEASIBLE          NaN\n",
       " 7        7           15  OptimizationStatus.INFEASIBLE          NaN\n",
       " 8        8           15  OptimizationStatus.INFEASIBLE          NaN\n",
       " 9        9           15  OptimizationStatus.INFEASIBLE          NaN\n",
       " 10      10           15  OptimizationStatus.INFEASIBLE          NaN\n",
       " 11      11           15  OptimizationStatus.INFEASIBLE          NaN\n",
       " 12      12           15  OptimizationStatus.INFEASIBLE          NaN}"
      ]
     },
     "execution_count": 11,
     "metadata": {},
     "output_type": "execute_result"
    }
   ],
   "source": [
    "result_dict"
   ]
  }
 ],
 "metadata": {
  "kernelspec": {
   "display_name": "Python 3",
   "language": "python",
   "name": "python3"
  },
  "language_info": {
   "codemirror_mode": {
    "name": "ipython",
    "version": 3
   },
   "file_extension": ".py",
   "mimetype": "text/x-python",
   "name": "python",
   "nbconvert_exporter": "python",
   "pygments_lexer": "ipython3",
   "version": "3.8.6"
  }
 },
 "nbformat": 4,
 "nbformat_minor": 4
}
